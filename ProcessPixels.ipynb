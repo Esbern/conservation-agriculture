{
  "nbformat": 4,
  "nbformat_minor": 0,
  "metadata": {
    "colab": {
      "provenance": [],
      "mount_file_id": "1ROJIPQVgF-31ugSdKhexkntrm-60fc5u",
      "authorship_tag": "ABX9TyNupY/6d0QsBtLfTZdoTtdQ",
      "include_colab_link": true
    },
    "kernelspec": {
      "name": "python3",
      "display_name": "Python 3"
    },
    "language_info": {
      "name": "python"
    }
  },
  "cells": [
    {
      "cell_type": "markdown",
      "metadata": {
        "id": "view-in-github",
        "colab_type": "text"
      },
      "source": [
        "<a href=\"https://colab.research.google.com/github/Esbern/conservation-agriculture/blob/main/ProcessPixels.ipynb\" target=\"_parent\"><img src=\"https://colab.research.google.com/assets/colab-badge.svg\" alt=\"Open In Colab\"/></a>"
      ]
    },
    {
      "cell_type": "code",
      "execution_count": null,
      "metadata": {
        "id": "L2_yc9eXPyuT"
      },
      "outputs": [],
      "source": [
        "import pandas as pd\n",
        "import requests\n",
        "import numpy as np\n"
      ]
    },
    {
      "cell_type": "code",
      "source": [
        "# Replace 'your_github_file_url_here' with the actual URL of your JSON file on GitHub\n",
        "url = 'https://raw.githubusercontent.com/Esbern/conservation-agriculture/main/ca_pixler.json'\n",
        "\n",
        "# Fetch the JSON data\n",
        "response = requests.get(url)\n",
        "data = response.json()\n",
        "\n",
        "# Assuming the first sub-array contains the column names\n",
        "columns = data[0]\n",
        "# And the rest of the sub-arrays contain the data\n",
        "data_rows = data[1:]\n",
        "\n",
        "# Load the data into a pandas DataFrame\n",
        "df = pd.DataFrame(data_rows, columns=columns)\n",
        "\n",
        "# Display the first few rows of the DataFrame\n",
        "print(df.head())\n"
      ],
      "metadata": {
        "colab": {
          "base_uri": "https://localhost:8080/"
        },
        "id": "vPMgyNgTUPC1",
        "outputId": "46ec42ec-2482-431e-b19f-45e15e2b7d96"
      },
      "execution_count": null,
      "outputs": [
        {
          "output_type": "stream",
          "name": "stdout",
          "text": [
            "                     id  longitude   latitude           time        B3  \\\n",
            "0  LE07_194021_20120502  12.033876  55.240865  1335952945389  0.054968   \n",
            "1  LE07_194021_20120518  12.033876  55.240865  1337335359149       NaN   \n",
            "2  LE07_194022_20100529  12.033876  55.240865  1275127227884       NaN   \n",
            "3  LE07_194022_20100614  12.033876  55.240865  1276509628532  0.259122   \n",
            "4  LE07_194022_20100630  12.033876  55.240865  1277892031898  0.393416   \n",
            "\n",
            "         B4  QA_PIXEL  \n",
            "0  0.450163    5440.0  \n",
            "1       NaN       NaN  \n",
            "2       NaN       NaN  \n",
            "3  0.468619    5896.0  \n",
            "4  0.773263    5896.0  \n"
          ]
        }
      ]
    },
    {
      "cell_type": "code",
      "source": [
        "df['time'] = pd.to_datetime(df['time'], unit='ms')\n",
        "\n",
        "# Extract year, month, and day to separate columns\n",
        "df['year'] = df['time'].dt.year\n",
        "df['month'] = df['time'].dt.month\n",
        "df['day'] = df['time'].dt.day\n",
        "\n",
        "# Display the DataFrame to verify the changes\n",
        "print(df.head())"
      ],
      "metadata": {
        "colab": {
          "base_uri": "https://localhost:8080/"
        },
        "id": "GTEvS5_NUGrc",
        "outputId": "9c4ef539-2e3a-48be-bc86-064a012cde40"
      },
      "execution_count": null,
      "outputs": [
        {
          "output_type": "stream",
          "name": "stdout",
          "text": [
            "                     id  longitude   latitude                    time  \\\n",
            "0  LE07_194021_20120502  12.033876  55.240865 2012-05-02 10:02:25.389   \n",
            "1  LE07_194021_20120518  12.033876  55.240865 2012-05-18 10:02:39.149   \n",
            "2  LE07_194022_20100529  12.033876  55.240865 2010-05-29 10:00:27.884   \n",
            "3  LE07_194022_20100614  12.033876  55.240865 2010-06-14 10:00:28.532   \n",
            "4  LE07_194022_20100630  12.033876  55.240865 2010-06-30 10:00:31.898   \n",
            "\n",
            "         B3        B4  QA_PIXEL  year  month  day  \n",
            "0  0.054968  0.450163    5440.0  2012      5    2  \n",
            "1       NaN       NaN       NaN  2012      5   18  \n",
            "2       NaN       NaN       NaN  2010      5   29  \n",
            "3  0.259122  0.468619    5896.0  2010      6   14  \n",
            "4  0.393416  0.773263    5896.0  2010      6   30  \n"
          ]
        }
      ]
    },
    {
      "cell_type": "code",
      "source": [
        "\n",
        "# Sample DataFrame creation with NaN values (for demonstration)\n",
        "# data = {'QA_PIXEL': [5440.0, np.nan, 2, 4, np.nan, 16, 32, 64, 128, 256, 512, 1024, 2048, 4096]}\n",
        "# df = pd.DataFrame(data)\n",
        "\n",
        "# Function to decode the QA_PIXEL column, modified to handle NaN values\n",
        "def decode_qa_pixel(value):\n",
        "    # Check if the value is NaN and return NaN for all attributes if true\n",
        "    if pd.isna(value):\n",
        "        return pd.Series([np.nan] * 11, index=[\n",
        "            'Fill', 'Dilated Cloud', 'Cloud', 'Cloud Shadow', 'Snow',\n",
        "            'Clear', 'Water', 'Cloud Confidence', 'Cloud Shadow Confidence',\n",
        "            'Snow/Ice Confidence', 'Cirrus Confidence'])\n",
        "\n",
        "    # Convert float to int and then to binary string, stripping the '0b' prefix\n",
        "    binary_str = format(int(value), '016b')\n",
        "\n",
        "    # Decode each bit based on the descriptions provided\n",
        "    attributes = {\n",
        "        'Fill': 'Fill data' if binary_str[-1] == '1' else 'Image data',\n",
        "        'Dilated Cloud': 'Cloud dilation' if binary_str[-2] == '1' else 'Cloud is not dilated or no cloud',\n",
        "        'Cloud': 'High confidence cloud' if binary_str[-4] == '1' else 'Cloud confidence is not high',\n",
        "        'Cloud Shadow': 'High confidence cloud shadow' if binary_str[-5] == '1' else ' Cloud Shadow Confidence is not high',\n",
        "        'Snow': 'High confidence snow cover' if binary_str[-6] == '1' else 'Snow/Ice Confidence is not high',\n",
        "        'Clear': 'Cloud and Dilated Cloud bits not set' if binary_str[-7] == '1' else 'Cloud or Dilated Cloud bits set',\n",
        "        'Water': 'Water' if binary_str[-8] == '1' else 'Land or cloud',\n",
        "        'Cloud Confidence': {\n",
        "            '00': 'No cloud confidence level set',\n",
        "            '01': 'Low cloud confidence',\n",
        "            '10': 'Medium cloud confidence',\n",
        "            '11': 'High cloud confidence',\n",
        "        }[binary_str[-10:-8]],\n",
        "        'Cloud Shadow Confidence': {\n",
        "            '00': 'No cloud shadow confidence level set',\n",
        "            '01': 'Low cloud shadow confidence',\n",
        "            '10': 'Reserved',\n",
        "            '11': 'High cloud shadow confidence',\n",
        "        }[binary_str[-12:-10]],\n",
        "        'Snow/Ice Confidence': {\n",
        "            '00': 'No snow/ice confidence level set',\n",
        "            '01': 'Low snow/ice confidence',\n",
        "            '10': 'Reserved',\n",
        "            '11': 'High snow/ice confidence',\n",
        "        }[binary_str[-14:-12]],\n",
        "        'Cirrus Confidence': {\n",
        "            '00': 'No cirrus confidence level set',\n",
        "            '01': 'Low cirrus confidence',\n",
        "            '10': 'Reserved',\n",
        "            '11': 'High cirrus confidence',\n",
        "        }[binary_str[-16:-14]],\n",
        "    }\n",
        "\n",
        "    return pd.Series(attributes)\n",
        "\n",
        "# Apply the decode function to the QA_PIXEL column and assign the result to new columns\n",
        "new_columns = df['QA_PIXEL'].apply(decode_qa_pixel)\n",
        "df = pd.concat([df, new_columns], axis=1)\n",
        "\n",
        "# Display the DataFrame to verify the changes\n",
        "print(df.head())\n"
      ],
      "metadata": {
        "colab": {
          "base_uri": "https://localhost:8080/"
        },
        "id": "cS5G1x__cICn",
        "outputId": "87b65c1b-2502-4772-cd6a-059244a3bb31"
      },
      "execution_count": null,
      "outputs": [
        {
          "output_type": "stream",
          "name": "stdout",
          "text": [
            "                     id  longitude   latitude                    time  \\\n",
            "0  LE07_194021_20120502  12.033876  55.240865 2012-05-02 10:02:25.389   \n",
            "1  LE07_194021_20120518  12.033876  55.240865 2012-05-18 10:02:39.149   \n",
            "2  LE07_194022_20100529  12.033876  55.240865 2010-05-29 10:00:27.884   \n",
            "3  LE07_194022_20100614  12.033876  55.240865 2010-06-14 10:00:28.532   \n",
            "4  LE07_194022_20100630  12.033876  55.240865 2010-06-30 10:00:31.898   \n",
            "\n",
            "         B3        B4  QA_PIXEL  year  month  day  ...  \\\n",
            "0  0.054968  0.450163    5440.0  2012      5    2  ...   \n",
            "1       NaN       NaN       NaN  2012      5   18  ...   \n",
            "2       NaN       NaN       NaN  2010      5   29  ...   \n",
            "3  0.259122  0.468619    5896.0  2010      6   14  ...   \n",
            "4  0.393416  0.773263    5896.0  2010      6   30  ...   \n",
            "\n",
            "                   Dilated Cloud                      Cloud  \\\n",
            "0  No cloud dilation or no cloud  Not high confidence cloud   \n",
            "1                            NaN                        NaN   \n",
            "2                            NaN                        NaN   \n",
            "3  No cloud dilation or no cloud      High confidence cloud   \n",
            "4  No cloud dilation or no cloud      High confidence cloud   \n",
            "\n",
            "                       Cloud Shadow                          Snow  \\\n",
            "0  Not high confidence cloud shadow  Not high confidence snow/ice   \n",
            "1                               NaN                           NaN   \n",
            "2                               NaN                           NaN   \n",
            "3  Not high confidence cloud shadow  Not high confidence snow/ice   \n",
            "4  Not high confidence cloud shadow  Not high confidence snow/ice   \n",
            "\n",
            "                                  Clear          Water       Cloud Confidence  \\\n",
            "0  Cloud and Dilated Cloud bits not set  Land or cloud   Low cloud confidence   \n",
            "1                                   NaN            NaN                    NaN   \n",
            "2                                   NaN            NaN                    NaN   \n",
            "3       Cloud or Dilated Cloud bits set  Land or cloud  High cloud confidence   \n",
            "4       Cloud or Dilated Cloud bits set  Land or cloud  High cloud confidence   \n",
            "\n",
            "       Cloud Shadow Confidence      Snow/Ice Confidence  \\\n",
            "0  Low cloud shadow confidence  Low snow/ice confidence   \n",
            "1                          NaN                      NaN   \n",
            "2                          NaN                      NaN   \n",
            "3  Low cloud shadow confidence  Low snow/ice confidence   \n",
            "4  Low cloud shadow confidence  Low snow/ice confidence   \n",
            "\n",
            "                Cirrus Confidence  \n",
            "0  No cirrus confidence level set  \n",
            "1                             NaN  \n",
            "2                             NaN  \n",
            "3  No cirrus confidence level set  \n",
            "4  No cirrus confidence level set  \n",
            "\n",
            "[5 rows x 21 columns]\n"
          ]
        }
      ]
    },
    {
      "cell_type": "code",
      "source": [
        "dilated_cloud_counts = df['Cirrus Confidence'].value_counts()\n",
        "dilated_cloud_counts"
      ],
      "metadata": {
        "colab": {
          "base_uri": "https://localhost:8080/"
        },
        "id": "3qHK8MxpeGhB",
        "outputId": "6b0c978a-0836-446a-ab6d-5c101816f2e6"
      },
      "execution_count": null,
      "outputs": [
        {
          "output_type": "execute_result",
          "data": {
            "text/plain": [
              "No cirrus confidence level set    9109\n",
              "Name: Cirrus Confidence, dtype: int64"
            ]
          },
          "metadata": {},
          "execution_count": 20
        }
      ]
    },
    {
      "cell_type": "code",
      "source": [
        "print(df.columns)"
      ],
      "metadata": {
        "colab": {
          "base_uri": "https://localhost:8080/"
        },
        "id": "f7Ovxj2LfiRR",
        "outputId": "8caaea8b-2661-43b1-b263-2c5ff787ea8e"
      },
      "execution_count": null,
      "outputs": [
        {
          "output_type": "stream",
          "name": "stdout",
          "text": [
            "Index(['id', 'longitude', 'latitude', 'time', 'B3', 'B4', 'QA_PIXEL', 'year',\n",
            "       'month', 'day', 'Fill', 'Dilated Cloud', 'Cloud', 'Cloud Shadow',\n",
            "       'Snow', 'Clear', 'Water', 'Cloud Confidence', 'Cloud Shadow Confidence',\n",
            "       'Snow/Ice Confidence', 'Cirrus Confidence'],\n",
            "      dtype='object')\n"
          ]
        }
      ]
    },
    {
      "cell_type": "code",
      "source": [
        "unique_combinations = df[['longitude', 'latitude']].drop_duplicates()"
      ],
      "metadata": {
        "id": "42fHnmJVgdTM"
      },
      "execution_count": null,
      "outputs": []
    },
    {
      "cell_type": "code",
      "source": [
        "unique_combinations"
      ],
      "metadata": {
        "colab": {
          "base_uri": "https://localhost:8080/",
          "height": 424
        },
        "id": "FBYZRIpoofU8",
        "outputId": "3088e949-4e15-415d-f440-54b30d266767"
      },
      "execution_count": null,
      "outputs": [
        {
          "output_type": "execute_result",
          "data": {
            "text/plain": [
              "       longitude   latitude\n",
              "0      12.033876  55.240865\n",
              "127    12.034146  55.240865\n",
              "254    12.034415  55.240865\n",
              "381    12.034685  55.240865\n",
              "508    12.031182  55.241135\n",
              "...          ...        ...\n",
              "15462  11.480065  55.278325\n",
              "15685  11.480335  55.278325\n",
              "15908  11.480604  55.278325\n",
              "16131  11.480874  55.278325\n",
              "16354  11.481143  55.278325\n",
              "\n",
              "[115 rows x 2 columns]"
            ],
            "text/html": [
              "\n",
              "  <div id=\"df-523e08a7-d05e-4b77-adde-92adc0932d72\" class=\"colab-df-container\">\n",
              "    <div>\n",
              "<style scoped>\n",
              "    .dataframe tbody tr th:only-of-type {\n",
              "        vertical-align: middle;\n",
              "    }\n",
              "\n",
              "    .dataframe tbody tr th {\n",
              "        vertical-align: top;\n",
              "    }\n",
              "\n",
              "    .dataframe thead th {\n",
              "        text-align: right;\n",
              "    }\n",
              "</style>\n",
              "<table border=\"1\" class=\"dataframe\">\n",
              "  <thead>\n",
              "    <tr style=\"text-align: right;\">\n",
              "      <th></th>\n",
              "      <th>longitude</th>\n",
              "      <th>latitude</th>\n",
              "    </tr>\n",
              "  </thead>\n",
              "  <tbody>\n",
              "    <tr>\n",
              "      <th>0</th>\n",
              "      <td>12.033876</td>\n",
              "      <td>55.240865</td>\n",
              "    </tr>\n",
              "    <tr>\n",
              "      <th>127</th>\n",
              "      <td>12.034146</td>\n",
              "      <td>55.240865</td>\n",
              "    </tr>\n",
              "    <tr>\n",
              "      <th>254</th>\n",
              "      <td>12.034415</td>\n",
              "      <td>55.240865</td>\n",
              "    </tr>\n",
              "    <tr>\n",
              "      <th>381</th>\n",
              "      <td>12.034685</td>\n",
              "      <td>55.240865</td>\n",
              "    </tr>\n",
              "    <tr>\n",
              "      <th>508</th>\n",
              "      <td>12.031182</td>\n",
              "      <td>55.241135</td>\n",
              "    </tr>\n",
              "    <tr>\n",
              "      <th>...</th>\n",
              "      <td>...</td>\n",
              "      <td>...</td>\n",
              "    </tr>\n",
              "    <tr>\n",
              "      <th>15462</th>\n",
              "      <td>11.480065</td>\n",
              "      <td>55.278325</td>\n",
              "    </tr>\n",
              "    <tr>\n",
              "      <th>15685</th>\n",
              "      <td>11.480335</td>\n",
              "      <td>55.278325</td>\n",
              "    </tr>\n",
              "    <tr>\n",
              "      <th>15908</th>\n",
              "      <td>11.480604</td>\n",
              "      <td>55.278325</td>\n",
              "    </tr>\n",
              "    <tr>\n",
              "      <th>16131</th>\n",
              "      <td>11.480874</td>\n",
              "      <td>55.278325</td>\n",
              "    </tr>\n",
              "    <tr>\n",
              "      <th>16354</th>\n",
              "      <td>11.481143</td>\n",
              "      <td>55.278325</td>\n",
              "    </tr>\n",
              "  </tbody>\n",
              "</table>\n",
              "<p>115 rows × 2 columns</p>\n",
              "</div>\n",
              "    <div class=\"colab-df-buttons\">\n",
              "\n",
              "  <div class=\"colab-df-container\">\n",
              "    <button class=\"colab-df-convert\" onclick=\"convertToInteractive('df-523e08a7-d05e-4b77-adde-92adc0932d72')\"\n",
              "            title=\"Convert this dataframe to an interactive table.\"\n",
              "            style=\"display:none;\">\n",
              "\n",
              "  <svg xmlns=\"http://www.w3.org/2000/svg\" height=\"24px\" viewBox=\"0 -960 960 960\">\n",
              "    <path d=\"M120-120v-720h720v720H120Zm60-500h600v-160H180v160Zm220 220h160v-160H400v160Zm0 220h160v-160H400v160ZM180-400h160v-160H180v160Zm440 0h160v-160H620v160ZM180-180h160v-160H180v160Zm440 0h160v-160H620v160Z\"/>\n",
              "  </svg>\n",
              "    </button>\n",
              "\n",
              "  <style>\n",
              "    .colab-df-container {\n",
              "      display:flex;\n",
              "      gap: 12px;\n",
              "    }\n",
              "\n",
              "    .colab-df-convert {\n",
              "      background-color: #E8F0FE;\n",
              "      border: none;\n",
              "      border-radius: 50%;\n",
              "      cursor: pointer;\n",
              "      display: none;\n",
              "      fill: #1967D2;\n",
              "      height: 32px;\n",
              "      padding: 0 0 0 0;\n",
              "      width: 32px;\n",
              "    }\n",
              "\n",
              "    .colab-df-convert:hover {\n",
              "      background-color: #E2EBFA;\n",
              "      box-shadow: 0px 1px 2px rgba(60, 64, 67, 0.3), 0px 1px 3px 1px rgba(60, 64, 67, 0.15);\n",
              "      fill: #174EA6;\n",
              "    }\n",
              "\n",
              "    .colab-df-buttons div {\n",
              "      margin-bottom: 4px;\n",
              "    }\n",
              "\n",
              "    [theme=dark] .colab-df-convert {\n",
              "      background-color: #3B4455;\n",
              "      fill: #D2E3FC;\n",
              "    }\n",
              "\n",
              "    [theme=dark] .colab-df-convert:hover {\n",
              "      background-color: #434B5C;\n",
              "      box-shadow: 0px 1px 3px 1px rgba(0, 0, 0, 0.15);\n",
              "      filter: drop-shadow(0px 1px 2px rgba(0, 0, 0, 0.3));\n",
              "      fill: #FFFFFF;\n",
              "    }\n",
              "  </style>\n",
              "\n",
              "    <script>\n",
              "      const buttonEl =\n",
              "        document.querySelector('#df-523e08a7-d05e-4b77-adde-92adc0932d72 button.colab-df-convert');\n",
              "      buttonEl.style.display =\n",
              "        google.colab.kernel.accessAllowed ? 'block' : 'none';\n",
              "\n",
              "      async function convertToInteractive(key) {\n",
              "        const element = document.querySelector('#df-523e08a7-d05e-4b77-adde-92adc0932d72');\n",
              "        const dataTable =\n",
              "          await google.colab.kernel.invokeFunction('convertToInteractive',\n",
              "                                                    [key], {});\n",
              "        if (!dataTable) return;\n",
              "\n",
              "        const docLinkHtml = 'Like what you see? Visit the ' +\n",
              "          '<a target=\"_blank\" href=https://colab.research.google.com/notebooks/data_table.ipynb>data table notebook</a>'\n",
              "          + ' to learn more about interactive tables.';\n",
              "        element.innerHTML = '';\n",
              "        dataTable['output_type'] = 'display_data';\n",
              "        await google.colab.output.renderOutput(dataTable, element);\n",
              "        const docLink = document.createElement('div');\n",
              "        docLink.innerHTML = docLinkHtml;\n",
              "        element.appendChild(docLink);\n",
              "      }\n",
              "    </script>\n",
              "  </div>\n",
              "\n",
              "\n",
              "<div id=\"df-c397ff49-3735-4ee3-a0d0-372cb7275f5f\">\n",
              "  <button class=\"colab-df-quickchart\" onclick=\"quickchart('df-c397ff49-3735-4ee3-a0d0-372cb7275f5f')\"\n",
              "            title=\"Suggest charts\"\n",
              "            style=\"display:none;\">\n",
              "\n",
              "<svg xmlns=\"http://www.w3.org/2000/svg\" height=\"24px\"viewBox=\"0 0 24 24\"\n",
              "     width=\"24px\">\n",
              "    <g>\n",
              "        <path d=\"M19 3H5c-1.1 0-2 .9-2 2v14c0 1.1.9 2 2 2h14c1.1 0 2-.9 2-2V5c0-1.1-.9-2-2-2zM9 17H7v-7h2v7zm4 0h-2V7h2v10zm4 0h-2v-4h2v4z\"/>\n",
              "    </g>\n",
              "</svg>\n",
              "  </button>\n",
              "\n",
              "<style>\n",
              "  .colab-df-quickchart {\n",
              "      --bg-color: #E8F0FE;\n",
              "      --fill-color: #1967D2;\n",
              "      --hover-bg-color: #E2EBFA;\n",
              "      --hover-fill-color: #174EA6;\n",
              "      --disabled-fill-color: #AAA;\n",
              "      --disabled-bg-color: #DDD;\n",
              "  }\n",
              "\n",
              "  [theme=dark] .colab-df-quickchart {\n",
              "      --bg-color: #3B4455;\n",
              "      --fill-color: #D2E3FC;\n",
              "      --hover-bg-color: #434B5C;\n",
              "      --hover-fill-color: #FFFFFF;\n",
              "      --disabled-bg-color: #3B4455;\n",
              "      --disabled-fill-color: #666;\n",
              "  }\n",
              "\n",
              "  .colab-df-quickchart {\n",
              "    background-color: var(--bg-color);\n",
              "    border: none;\n",
              "    border-radius: 50%;\n",
              "    cursor: pointer;\n",
              "    display: none;\n",
              "    fill: var(--fill-color);\n",
              "    height: 32px;\n",
              "    padding: 0;\n",
              "    width: 32px;\n",
              "  }\n",
              "\n",
              "  .colab-df-quickchart:hover {\n",
              "    background-color: var(--hover-bg-color);\n",
              "    box-shadow: 0 1px 2px rgba(60, 64, 67, 0.3), 0 1px 3px 1px rgba(60, 64, 67, 0.15);\n",
              "    fill: var(--button-hover-fill-color);\n",
              "  }\n",
              "\n",
              "  .colab-df-quickchart-complete:disabled,\n",
              "  .colab-df-quickchart-complete:disabled:hover {\n",
              "    background-color: var(--disabled-bg-color);\n",
              "    fill: var(--disabled-fill-color);\n",
              "    box-shadow: none;\n",
              "  }\n",
              "\n",
              "  .colab-df-spinner {\n",
              "    border: 2px solid var(--fill-color);\n",
              "    border-color: transparent;\n",
              "    border-bottom-color: var(--fill-color);\n",
              "    animation:\n",
              "      spin 1s steps(1) infinite;\n",
              "  }\n",
              "\n",
              "  @keyframes spin {\n",
              "    0% {\n",
              "      border-color: transparent;\n",
              "      border-bottom-color: var(--fill-color);\n",
              "      border-left-color: var(--fill-color);\n",
              "    }\n",
              "    20% {\n",
              "      border-color: transparent;\n",
              "      border-left-color: var(--fill-color);\n",
              "      border-top-color: var(--fill-color);\n",
              "    }\n",
              "    30% {\n",
              "      border-color: transparent;\n",
              "      border-left-color: var(--fill-color);\n",
              "      border-top-color: var(--fill-color);\n",
              "      border-right-color: var(--fill-color);\n",
              "    }\n",
              "    40% {\n",
              "      border-color: transparent;\n",
              "      border-right-color: var(--fill-color);\n",
              "      border-top-color: var(--fill-color);\n",
              "    }\n",
              "    60% {\n",
              "      border-color: transparent;\n",
              "      border-right-color: var(--fill-color);\n",
              "    }\n",
              "    80% {\n",
              "      border-color: transparent;\n",
              "      border-right-color: var(--fill-color);\n",
              "      border-bottom-color: var(--fill-color);\n",
              "    }\n",
              "    90% {\n",
              "      border-color: transparent;\n",
              "      border-bottom-color: var(--fill-color);\n",
              "    }\n",
              "  }\n",
              "</style>\n",
              "\n",
              "  <script>\n",
              "    async function quickchart(key) {\n",
              "      const quickchartButtonEl =\n",
              "        document.querySelector('#' + key + ' button');\n",
              "      quickchartButtonEl.disabled = true;  // To prevent multiple clicks.\n",
              "      quickchartButtonEl.classList.add('colab-df-spinner');\n",
              "      try {\n",
              "        const charts = await google.colab.kernel.invokeFunction(\n",
              "            'suggestCharts', [key], {});\n",
              "      } catch (error) {\n",
              "        console.error('Error during call to suggestCharts:', error);\n",
              "      }\n",
              "      quickchartButtonEl.classList.remove('colab-df-spinner');\n",
              "      quickchartButtonEl.classList.add('colab-df-quickchart-complete');\n",
              "    }\n",
              "    (() => {\n",
              "      let quickchartButtonEl =\n",
              "        document.querySelector('#df-c397ff49-3735-4ee3-a0d0-372cb7275f5f button');\n",
              "      quickchartButtonEl.style.display =\n",
              "        google.colab.kernel.accessAllowed ? 'block' : 'none';\n",
              "    })();\n",
              "  </script>\n",
              "</div>\n",
              "    </div>\n",
              "  </div>\n"
            ],
            "application/vnd.google.colaboratory.intrinsic+json": {
              "type": "dataframe",
              "variable_name": "unique_combinations",
              "summary": "{\n  \"name\": \"unique_combinations\",\n  \"rows\": 115,\n  \"fields\": [\n    {\n      \"column\": \"longitude\",\n      \"properties\": {\n        \"dtype\": \"number\",\n        \"std\": 0.4445905968265999,\n        \"min\": 10.562705521026777,\n        \"max\": 12.03495444017026,\n        \"num_unique_values\": 48,\n        \"samples\": [\n          10.563244510197249,\n          11.479256605413925,\n          10.562975015612013\n        ],\n        \"semantic_type\": \"\",\n        \"description\": \"\"\n      }\n    },\n    {\n      \"column\": \"latitude\",\n      \"properties\": {\n        \"dtype\": \"number\",\n        \"std\": 0.24218107927960697,\n        \"min\": 54.7272086548937,\n        \"max\": 55.27832508170103,\n        \"num_unique_values\": 28,\n        \"samples\": [\n          54.750115694638744,\n          55.269970749558716,\n          54.728286633234646\n        ],\n        \"semantic_type\": \"\",\n        \"description\": \"\"\n      }\n    }\n  ]\n}"
            }
          },
          "metadata": {},
          "execution_count": 23
        }
      ]
    },
    {
      "cell_type": "code",
      "source": [
        "unique_combinations.to_excel(file_path, index=False, engine='openpyxl')"
      ],
      "metadata": {
        "id": "g_po0CVqohaT"
      },
      "execution_count": null,
      "outputs": []
    },
    {
      "cell_type": "code",
      "source": [
        "# Assuming unique_combinations is your DataFrame\n",
        "file_path = '/content/drive/My Drive/unique_combinations.xlsx'  # Adjust the path as needed\n",
        "\n",
        "# Export the DataFrame to an Excel file in Google Drive\n",
        "unique_combinations.to_excel(file_path, index=False, engine='openpyxl')\n",
        "\n",
        "print(f'The unique combinations have been saved to Google Drive at {file_path}')"
      ],
      "metadata": {
        "colab": {
          "base_uri": "https://localhost:8080/"
        },
        "id": "Nw1gzrkmro_T",
        "outputId": "c47086d3-2944-4abd-8fe9-ae030afe5b3f"
      },
      "execution_count": null,
      "outputs": [
        {
          "output_type": "stream",
          "name": "stdout",
          "text": [
            "The unique combinations have been saved to Google Drive at /content/drive/My Drive/unique_combinations.xlsx\n"
          ]
        }
      ]
    }
  ]
}