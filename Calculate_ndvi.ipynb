{
  "cells": [
    {
      "cell_type": "markdown",
      "id": "450f0b98-6b14-4d35-80db-33df8f18b71c",
      "metadata": {
        "id": "450f0b98-6b14-4d35-80db-33df8f18b71c"
      },
      "source": [
        "# Comparing NDVI for Conservation and non conservation agricultur"
      ]
    },
    {
      "cell_type": "markdown",
      "id": "1d6074d9-6bd6-46c9-85a7-df8d9c114ac6",
      "metadata": {
        "id": "1d6074d9-6bd6-46c9-85a7-df8d9c114ac6"
      },
      "source": [
        "## Defining the Problem\n",
        "We have 8 fields comparison plots with a Conversational and a non conversational agricultural field neighbouring each other. Of these 1 is a  pilot (nr 7) which consists of small subplots with in a larger field is excludes from the NDVI calculation since the subplots are too small to isolate on the landsat image. For"
      ]
    },
    {
      "cell_type": "markdown",
      "id": "57ca57bd-e7a3-4cfd-9dea-f88f93cf78c2",
      "metadata": {
        "id": "57ca57bd-e7a3-4cfd-9dea-f88f93cf78c2"
      },
      "source": [
        "## Overall workflow\n",
        "1. Setup the GEE work environment\n",
        "2. Load the fields from Github\n",
        "3. Extract the Landsat data for the given areas and period\n",
        "4. Identify which pixels are within which fields/treatments (Intersect)\n",
        "5. Process the pixels (Decode quality byte, convert the time stamp to Year, Month Day)\n",
        "6. Join filed/treatment data to the pixels\n",
        "7. Filter pixels for clouds\n",
        "8. Calculate the average NDVI for each Year, Month for each field/treatment"
      ]
    },
    {
      "cell_type": "markdown",
      "id": "fb5541fe-258f-424c-b5b3-d00acac26e6c",
      "metadata": {
        "id": "fb5541fe-258f-424c-b5b3-d00acac26e6c"
      },
      "source": [
        "## Processing"
      ]
    },
    {
      "cell_type": "markdown",
      "id": "e5c9ce10-807a-4baa-b7de-b201bb42a1a6",
      "metadata": {
        "id": "e5c9ce10-807a-4baa-b7de-b201bb42a1a6"
      },
      "source": [
        "### Setup the environment"
      ]
    },
    {
      "cell_type": "code",
      "execution_count": null,
      "id": "4e03b31c-5aa4-41b5-a709-892664eb5070",
      "metadata": {
        "id": "4e03b31c-5aa4-41b5-a709-892664eb5070"
      },
      "outputs": [],
      "source": [
        "import ee\n",
        "import numpy as np\n",
        "import geemap\n",
        "import os\n",
        "import pandas as pd\n",
        "import geopandas as gpd"
      ]
    },
    {
      "cell_type": "markdown",
      "id": "d8b721e9-a098-4c9c-b210-9befe55fa02c",
      "metadata": {
        "id": "d8b721e9-a098-4c9c-b210-9befe55fa02c"
      },
      "source": [
        "If the machine is a new one copy the gee credentials"
      ]
    },
    {
      "cell_type": "code",
      "execution_count": null,
      "id": "244e45ad-14bb-4ce8-80a7-e6292ef77439",
      "metadata": {
        "colab": {
          "base_uri": "https://localhost:8080/",
          "height": 184
        },
        "id": "244e45ad-14bb-4ce8-80a7-e6292ef77439",
        "executionInfo": {
          "status": "ok",
          "timestamp": 1713337079236,
          "user_tz": -120,
          "elapsed": 89137,
          "user": {
            "displayName": "Esbern Holmes",
            "userId": "09779847606818129994"
          }
        },
        "outputId": "0ec6d76c-ad50-4e9e-fe4f-382b2b1c3e51"
      },
      "outputs": [
        {
          "output_type": "display_data",
          "data": {
            "text/plain": [
              "<IPython.core.display.HTML object>"
            ],
            "text/html": [
              "\n",
              "            <style>\n",
              "                .geemap-dark {\n",
              "                    --jp-widgets-color: white;\n",
              "                    --jp-widgets-label-color: white;\n",
              "                    --jp-ui-font-color1: white;\n",
              "                    --jp-layout-color2: #454545;\n",
              "                    background-color: #383838;\n",
              "                }\n",
              "\n",
              "                .geemap-dark .jupyter-button {\n",
              "                    --jp-layout-color3: #383838;\n",
              "                }\n",
              "\n",
              "                .geemap-colab {\n",
              "                    background-color: var(--colab-primary-surface-color, white);\n",
              "                }\n",
              "\n",
              "                .geemap-colab .jupyter-button {\n",
              "                    --jp-layout-color3: var(--colab-primary-surface-color, white);\n",
              "                }\n",
              "            </style>\n",
              "            "
            ]
          },
          "metadata": {}
        },
        {
          "output_type": "stream",
          "name": "stdout",
          "text": [
            "To authorize access needed by Earth Engine, open the following URL in a web browser and follow the instructions. If the web browser does not start automatically, please manually browse the URL below.\n",
            "\n",
            "    https://code.earthengine.google.com/client-auth?scopes=https%3A//www.googleapis.com/auth/earthengine%20https%3A//www.googleapis.com/auth/cloud-platform%20https%3A//www.googleapis.com/auth/devstorage.full_control&request_id=DGx96aeae0KTaBya8_f3cdjPWVwpZ9mjUE7-fjkytEI&tc=Z-K9hEqWMEvY2-XNYJ_vKuddviBN1GT1qR6PaS3-5mg&cc=DPHLhy3yp8y8zxzCBlfeLLt2lNDwldzUn8vGOfLQXfI\n",
            "\n",
            "The authorization workflow will generate a code, which you should paste in the box below.\n",
            "Enter verification code: 4/1AeaYSHCQ9rNcd-KHUaBfKi9TN_ETbEfBKHLGgxc9iko0PvklrCB2EIpoxLs\n",
            "\n",
            "Successfully saved authorization token.\n"
          ]
        }
      ],
      "source": [
        "geemap.ee_initialize()"
      ]
    },
    {
      "cell_type": "markdown",
      "id": "16c1ae99-5bc5-4cc0-8799-eb85b77c59a2",
      "metadata": {
        "id": "16c1ae99-5bc5-4cc0-8799-eb85b77c59a2"
      },
      "source": [
        "### Load Data\n",
        "Load a geojson document that defines the field and treatment type for each pixel"
      ]
    },
    {
      "cell_type": "code",
      "execution_count": null,
      "id": "b4997637-d695-49ea-b506-1e94b53c25cf",
      "metadata": {
        "colab": {
          "base_uri": "https://localhost:8080/",
          "height": 17
        },
        "id": "b4997637-d695-49ea-b506-1e94b53c25cf",
        "executionInfo": {
          "status": "ok",
          "timestamp": 1713337082998,
          "user_tz": -120,
          "elapsed": 1248,
          "user": {
            "displayName": "Esbern Holmes",
            "userId": "09779847606818129994"
          }
        },
        "outputId": "43f45a43-5e45-480c-90a8-27939f98207f"
      },
      "outputs": [
        {
          "output_type": "display_data",
          "data": {
            "text/plain": [
              "<IPython.core.display.HTML object>"
            ],
            "text/html": [
              "\n",
              "            <style>\n",
              "                .geemap-dark {\n",
              "                    --jp-widgets-color: white;\n",
              "                    --jp-widgets-label-color: white;\n",
              "                    --jp-ui-font-color1: white;\n",
              "                    --jp-layout-color2: #454545;\n",
              "                    background-color: #383838;\n",
              "                }\n",
              "\n",
              "                .geemap-dark .jupyter-button {\n",
              "                    --jp-layout-color3: #383838;\n",
              "                }\n",
              "\n",
              "                .geemap-colab {\n",
              "                    background-color: var(--colab-primary-surface-color, white);\n",
              "                }\n",
              "\n",
              "                .geemap-colab .jupyter-button {\n",
              "                    --jp-layout-color3: var(--colab-primary-surface-color, white);\n",
              "                }\n",
              "            </style>\n",
              "            "
            ]
          },
          "metadata": {}
        }
      ],
      "source": [
        "fields = gpd.read_file(\"https://raw.githubusercontent.com/Esbern/conservation-agriculture/main/sampel_fields.geojson\")"
      ]
    },
    {
      "cell_type": "code",
      "execution_count": null,
      "id": "cf80de9d-64ac-45a0-8fc0-e63f5121fead",
      "metadata": {
        "colab": {
          "base_uri": "https://localhost:8080/",
          "height": 621,
          "referenced_widgets": [
            "454e6390e6c94fa49355e39789ac10f5",
            "739a9df18be842bfadc467f0b3510077",
            "47a8afb2b3074909a0510ae06a380ca5",
            "01d692dc588d429a8c021bd0bec79957",
            "e8fdb50713274aaa93aef80257b5df0c",
            "98b03d4ee2634020a7062170c8e4f74a",
            "9b1d36d27eb84eafa05f8cfdc52b847c",
            "c39de26258d14c559cb847c716b9d1ca",
            "b4289704f3ed4898bf3439c1eb468c2f",
            "1200a93846f24bb48c0512d41ca161a5",
            "ffc10f5fc79f439ebf44443b21240f04",
            "98ddc182bd2340c599445e5574bcac14",
            "9981bf88919d46adbba329db258e9b37",
            "150bd4d3ab3b44c5a2ae89dd549c48cd",
            "c1e84e5056d7476bbdac144293f0831b",
            "faa3959b507548918be0dd4bafa7603c",
            "90c90757db6f4be9aed10ddd1bfcd437",
            "8eff6b13ba8e4d3ea6d74c272bf7d3f6",
            "1c4d4e0bcbde43c7aafe2cafcfe4fb5a",
            "c2aced57c91245f48df3deafb640d993",
            "78e94802a4ba4a4f87eafc94a2138c69",
            "277a2f12e36d41afb87bdb3dfef89da3",
            "af6a37754cc44425a35559f3837f651a",
            "f7cf0841ecd8441280ecf8a2df07d429",
            "ed17042c6f3d4003a2fb81c3b694bc88",
            "1864fad16088449c88f352161092f3d0",
            "176506561b51430f9157480d6612d5ee",
            "fe6cb6b294f344f1b7499580004d47e1",
            "9ef8c46cc79f41138d0d8af446685708",
            "0480db34122e4ebfb7eac3b3705fa311",
            "cb8a59e7bc9c48b0aa4ae158e5b29df9",
            "7a39f4cce3294550aa3ea2ae3e6176d6",
            "9102ab2f3d64440b9eb8073547b42750",
            "4f5854b481f94edd901d154ac282fa1e",
            "5e6cf8024c52447fb6b1cf2840c161c2",
            "bd37bc4a9dd34de09dde302e8619aa80",
            "c523cfc9a1fb443fa5e56e36b4ab5c3f",
            "605c438cd03f4a98b75b6bbe9115c121",
            "d00a76b8ae2342da9dac97fda853d5e0"
          ]
        },
        "id": "cf80de9d-64ac-45a0-8fc0-e63f5121fead",
        "executionInfo": {
          "status": "ok",
          "timestamp": 1713337086314,
          "user_tz": -120,
          "elapsed": 1939,
          "user": {
            "displayName": "Esbern Holmes",
            "userId": "09779847606818129994"
          }
        },
        "outputId": "a2114cef-84a8-4bdf-f3e7-308af8f827e2"
      },
      "outputs": [
        {
          "output_type": "display_data",
          "data": {
            "text/plain": [
              "<IPython.core.display.HTML object>"
            ],
            "text/html": [
              "\n",
              "            <style>\n",
              "                .geemap-dark {\n",
              "                    --jp-widgets-color: white;\n",
              "                    --jp-widgets-label-color: white;\n",
              "                    --jp-ui-font-color1: white;\n",
              "                    --jp-layout-color2: #454545;\n",
              "                    background-color: #383838;\n",
              "                }\n",
              "\n",
              "                .geemap-dark .jupyter-button {\n",
              "                    --jp-layout-color3: #383838;\n",
              "                }\n",
              "\n",
              "                .geemap-colab {\n",
              "                    background-color: var(--colab-primary-surface-color, white);\n",
              "                }\n",
              "\n",
              "                .geemap-colab .jupyter-button {\n",
              "                    --jp-layout-color3: var(--colab-primary-surface-color, white);\n",
              "                }\n",
              "            </style>\n",
              "            "
            ]
          },
          "metadata": {}
        },
        {
          "output_type": "display_data",
          "data": {
            "text/plain": [
              "Map(center=[55, 13], controls=(WidgetControl(options=['position', 'transparent_bg'], widget=SearchDataGUI(chil\u2026"
            ],
            "application/vnd.jupyter.widget-view+json": {
              "version_major": 2,
              "version_minor": 0,
              "model_id": "454e6390e6c94fa49355e39789ac10f5"
            }
          },
          "metadata": {
            "application/vnd.jupyter.widget-view+json": {
              "colab": {
                "custom_widget_manager": {
                  "url": "https://ssl.gstatic.com/colaboratory-static/widgets/colab-cdn-widget-manager/2b70e893a8ba7c0f/manager.min.js"
                }
              }
            }
          }
        }
      ],
      "source": [
        "attribute_to_color = {\n",
        "    'CT': '#FF0000',  # Red\n",
        "    'MT': '#00FF00',  # Green\n",
        "}\n",
        "fields['color'] = fields['tillage'].map(attribute_to_color)\n",
        "Map = geemap.Map(center=(55, 13), zoom=4)\n",
        "Map.add_gdf(fields, layer_name=\"Fields\",\n",
        "            style_callback=lambda x: {'fillColor': x['properties']['color']})\n",
        "Map"
      ]
    },
    {
      "cell_type": "markdown",
      "id": "f5120bda-98fd-4e21-a28e-81335a68e1ea",
      "metadata": {
        "id": "f5120bda-98fd-4e21-a28e-81335a68e1ea"
      },
      "source": [
        "### Extract the Landsat data for the given areas and period"
      ]
    },
    {
      "cell_type": "code",
      "execution_count": null,
      "id": "987f35c8-e8b7-4a18-9fae-7af2ba8eefc4",
      "metadata": {
        "colab": {
          "base_uri": "https://localhost:8080/",
          "height": 17
        },
        "id": "987f35c8-e8b7-4a18-9fae-7af2ba8eefc4",
        "executionInfo": {
          "status": "ok",
          "timestamp": 1713337095237,
          "user_tz": -120,
          "elapsed": 240,
          "user": {
            "displayName": "Esbern Holmes",
            "userId": "09779847606818129994"
          }
        },
        "outputId": "41b3cf7e-9296-4fb3-bf72-138dc7ef25ff"
      },
      "outputs": [
        {
          "output_type": "display_data",
          "data": {
            "text/plain": [
              "<IPython.core.display.HTML object>"
            ],
            "text/html": [
              "\n",
              "            <style>\n",
              "                .geemap-dark {\n",
              "                    --jp-widgets-color: white;\n",
              "                    --jp-widgets-label-color: white;\n",
              "                    --jp-ui-font-color1: white;\n",
              "                    --jp-layout-color2: #454545;\n",
              "                    background-color: #383838;\n",
              "                }\n",
              "\n",
              "                .geemap-dark .jupyter-button {\n",
              "                    --jp-layout-color3: #383838;\n",
              "                }\n",
              "\n",
              "                .geemap-colab {\n",
              "                    background-color: var(--colab-primary-surface-color, white);\n",
              "                }\n",
              "\n",
              "                .geemap-colab .jupyter-button {\n",
              "                    --jp-layout-color3: var(--colab-primary-surface-color, white);\n",
              "                }\n",
              "            </style>\n",
              "            "
            ]
          },
          "metadata": {}
        }
      ],
      "source": [
        "# Convert Dataframe to ee object\n",
        "fields_ee = geemap.geopandas_to_ee(fields)"
      ]
    },
    {
      "cell_type": "code",
      "execution_count": null,
      "id": "f44a2a66-1b80-4706-9b3a-96464c9aff82",
      "metadata": {
        "colab": {
          "base_uri": "https://localhost:8080/",
          "height": 68
        },
        "id": "f44a2a66-1b80-4706-9b3a-96464c9aff82",
        "executionInfo": {
          "status": "ok",
          "timestamp": 1713337098390,
          "user_tz": -120,
          "elapsed": 892,
          "user": {
            "displayName": "Esbern Holmes",
            "userId": "09779847606818129994"
          }
        },
        "outputId": "6e8598be-184e-4fbc-e322-313cf72f0b9f"
      },
      "outputs": [
        {
          "output_type": "display_data",
          "data": {
            "text/plain": [
              "<IPython.core.display.HTML object>"
            ],
            "text/html": [
              "\n",
              "            <style>\n",
              "                .geemap-dark {\n",
              "                    --jp-widgets-color: white;\n",
              "                    --jp-widgets-label-color: white;\n",
              "                    --jp-ui-font-color1: white;\n",
              "                    --jp-layout-color2: #454545;\n",
              "                    background-color: #383838;\n",
              "                }\n",
              "\n",
              "                .geemap-dark .jupyter-button {\n",
              "                    --jp-layout-color3: #383838;\n",
              "                }\n",
              "\n",
              "                .geemap-colab {\n",
              "                    background-color: var(--colab-primary-surface-color, white);\n",
              "                }\n",
              "\n",
              "                .geemap-colab .jupyter-button {\n",
              "                    --jp-layout-color3: var(--colab-primary-surface-color, white);\n",
              "                }\n",
              "            </style>\n",
              "            "
            ]
          },
          "metadata": {}
        },
        {
          "output_type": "execute_result",
          "data": {
            "text/plain": [
              "<ee.ee_number.Number at 0x7c166601d8a0>"
            ],
            "text/html": [
              "<div><style>:root {\n",
              "  --font-color-primary: var(--jp-content-font-color0, rgba(0, 0, 0, 1));\n",
              "  --font-color-secondary: var(--jp-content-font-color2, rgba(0, 0, 0, 0.6));\n",
              "  --font-color-accent: rgba(123, 31, 162, 1);\n",
              "  --border-color: var(--jp-border-color2, #e0e0e0);\n",
              "  --background-color: var(--jp-layout-color0, white);\n",
              "  --background-color-row-even: var(--jp-layout-color1, white);\n",
              "  --background-color-row-odd: var(--jp-layout-color2, #eeeeee);\n",
              "}\n",
              "\n",
              "html[theme=\"dark\"],\n",
              "body[data-theme=\"dark\"],\n",
              "body.vscode-dark {\n",
              "  --font-color-primary: rgba(255, 255, 255, 1);\n",
              "  --font-color-secondary: rgba(255, 255, 255, 0.6);\n",
              "  --font-color-accent: rgb(173, 132, 190);\n",
              "  --border-color: #2e2e2e;\n",
              "  --background-color: #111111;\n",
              "  --background-color-row-even: #111111;\n",
              "  --background-color-row-odd: #313131;\n",
              "}\n",
              "\n",
              ".ee {\n",
              "  padding: 1em;\n",
              "  line-height: 1.5em;\n",
              "  min-width: 300px;\n",
              "  max-width: 1200px;\n",
              "  overflow-y: scroll;\n",
              "  max-height: 600px;\n",
              "  border: 1px solid var(--border-color);\n",
              "  font-family: monospace;\n",
              "}\n",
              "\n",
              ".ee li {\n",
              "  list-style-type: none;\n",
              "}\n",
              "\n",
              ".ee ul {\n",
              "  padding-left: 1.5em !important;\n",
              "  margin: 0;\n",
              "}\n",
              "\n",
              ".ee > ul {\n",
              "  padding-left: 0 !important;\n",
              "}\n",
              "\n",
              ".ee-open,\n",
              ".ee-shut {\n",
              "  color: var(--font-color-secondary);\n",
              "  cursor: pointer;\n",
              "  margin: 0;\n",
              "}\n",
              "\n",
              ".ee-open:hover,\n",
              ".ee-shut:hover {\n",
              "  color: var(--font-color-primary);\n",
              "}\n",
              "\n",
              ".ee-k {\n",
              "  color: var(--font-color-accent);\n",
              "  margin-right: 6px;\n",
              "}\n",
              "\n",
              ".ee-v {\n",
              "  color: var(--font-color-primary);\n",
              "}\n",
              "\n",
              ".ee-toggle {\n",
              "  display: none;\n",
              "}\n",
              "\n",
              ".ee-shut + ul {\n",
              "  display: none;\n",
              "}\n",
              "\n",
              ".ee-open + ul {\n",
              "  display: block;\n",
              "}\n",
              "\n",
              ".ee-shut::before {\n",
              "  display: inline-block;\n",
              "  content: \"\u25bc\";\n",
              "  margin-right: 6px;\n",
              "  transform: rotate(-90deg);\n",
              "  transition: transform 0.2s;\n",
              "}\n",
              "\n",
              ".ee-open::before {\n",
              "  transform: rotate(0deg);\n",
              "  display: inline-block;\n",
              "  content: \"\u25bc\";\n",
              "  margin-right: 6px;\n",
              "  transition: transform 0.2s;\n",
              "}\n",
              "</style><div class='ee'><ul><li><span class='ee-v'>285</span></li></ul></div><script>function toggleHeader() {\n",
              "    const parent = this.parentElement;\n",
              "    parent.className = parent.className === \"ee-open\" ? \"ee-shut\" : \"ee-open\";\n",
              "}\n",
              "\n",
              "for (let c of document.getElementsByClassName(\"ee-toggle\")) {\n",
              "    c.onclick = toggleHeader;\n",
              "}</script></div>"
            ]
          },
          "metadata": {},
          "execution_count": 6
        }
      ],
      "source": [
        "# Identify Landsat images covering the fields for the given priod\n",
        "L7 = ee.ImageCollection(\"LANDSAT/LE07/C02/T1_TOA\")\n",
        "col = L7 \\\n",
        "  .filterBounds(fields_ee) \\\n",
        "  .filterDate('2010-01-01', '2016-01-01') \\\n",
        "  .select('B3','B4','QA_PIXEL')\n",
        "count = col.size()\n",
        "count\n"
      ]
    },
    {
      "cell_type": "code",
      "execution_count": null,
      "id": "50e284e3-4172-4101-a471-c09ecf2bac62",
      "metadata": {
        "colab": {
          "base_uri": "https://localhost:8080/",
          "height": 17
        },
        "id": "50e284e3-4172-4101-a471-c09ecf2bac62",
        "executionInfo": {
          "status": "ok",
          "timestamp": 1713337106209,
          "user_tz": -120,
          "elapsed": 4444,
          "user": {
            "displayName": "Esbern Holmes",
            "userId": "09779847606818129994"
          }
        },
        "outputId": "9d94ba47-a4db-450f-d755-907238039171"
      },
      "outputs": [
        {
          "output_type": "display_data",
          "data": {
            "text/plain": [
              "<IPython.core.display.HTML object>"
            ],
            "text/html": [
              "\n",
              "            <style>\n",
              "                .geemap-dark {\n",
              "                    --jp-widgets-color: white;\n",
              "                    --jp-widgets-label-color: white;\n",
              "                    --jp-ui-font-color1: white;\n",
              "                    --jp-layout-color2: #454545;\n",
              "                    background-color: #383838;\n",
              "                }\n",
              "\n",
              "                .geemap-dark .jupyter-button {\n",
              "                    --jp-layout-color3: #383838;\n",
              "                }\n",
              "\n",
              "                .geemap-colab {\n",
              "                    background-color: var(--colab-primary-surface-color, white);\n",
              "                }\n",
              "\n",
              "                .geemap-colab .jupyter-button {\n",
              "                    --jp-layout-color3: var(--colab-primary-surface-color, white);\n",
              "                }\n",
              "            </style>\n",
              "            "
            ]
          },
          "metadata": {}
        }
      ],
      "source": [
        "# Collect the pixel values and convert them to a local dataframe\n",
        "\n",
        "pixelInfoBbox= col.getRegion(geometry=fields_ee,scale=30)\n",
        "pixelList = pixelInfoBbox.getInfo()\n",
        "all_pixels_df = pd.DataFrame(pixelList[1:], columns=pixelList[0])"
      ]
    },
    {
      "cell_type": "markdown",
      "id": "6c72cfff-6fbd-4d91-a50e-4561d0e37bb1",
      "metadata": {
        "id": "6c72cfff-6fbd-4d91-a50e-4561d0e37bb1"
      },
      "source": [
        "### Identify which pixels are within which fields/treatments (Intersect)\n"
      ]
    },
    {
      "cell_type": "code",
      "execution_count": null,
      "id": "c5f833b5-d466-449a-bddc-6088f6a12848",
      "metadata": {
        "colab": {
          "base_uri": "https://localhost:8080/",
          "height": 17
        },
        "id": "c5f833b5-d466-449a-bddc-6088f6a12848",
        "executionInfo": {
          "status": "ok",
          "timestamp": 1713337106528,
          "user_tz": -120,
          "elapsed": 4,
          "user": {
            "displayName": "Esbern Holmes",
            "userId": "09779847606818129994"
          }
        },
        "outputId": "2fe94d92-be0a-464b-b255-776a2a0456e1"
      },
      "outputs": [
        {
          "output_type": "display_data",
          "data": {
            "text/plain": [
              "<IPython.core.display.HTML object>"
            ],
            "text/html": [
              "\n",
              "            <style>\n",
              "                .geemap-dark {\n",
              "                    --jp-widgets-color: white;\n",
              "                    --jp-widgets-label-color: white;\n",
              "                    --jp-ui-font-color1: white;\n",
              "                    --jp-layout-color2: #454545;\n",
              "                    background-color: #383838;\n",
              "                }\n",
              "\n",
              "                .geemap-dark .jupyter-button {\n",
              "                    --jp-layout-color3: #383838;\n",
              "                }\n",
              "\n",
              "                .geemap-colab {\n",
              "                    background-color: var(--colab-primary-surface-color, white);\n",
              "                }\n",
              "\n",
              "                .geemap-colab .jupyter-button {\n",
              "                    --jp-layout-color3: var(--colab-primary-surface-color, white);\n",
              "                }\n",
              "            </style>\n",
              "            "
            ]
          },
          "metadata": {}
        }
      ],
      "source": [
        "#Extract all unique pixel coordinates and convert them to a GeoPandas dataframe\n",
        "pixel_df = all_pixels_df.groupby(['longitude', 'latitude']).size().reset_index(name='counts')\n",
        "pixels_gdf = gpd.GeoDataFrame(\n",
        "    pixel_df, geometry=gpd.points_from_xy(pixel_df.longitude, pixel_df.latitude), crs=\"EPSG:4326\"\n",
        ")\n",
        "pixel_fields_gdf = gpd.overlay( pixels_gdf,fields, how='intersection')"
      ]
    },
    {
      "cell_type": "code",
      "execution_count": null,
      "id": "b31a8379-c80f-44c3-9638-01f78b0310c2",
      "metadata": {
        "colab": {
          "base_uri": "https://localhost:8080/",
          "height": 621,
          "referenced_widgets": [
            "e093a810333e4b4086a33c390ad55d7a",
            "063284647b274bb7aa746dec19f104aa",
            "0eb991f020824737bbceb4c119d4c601",
            "7d87a78335f241beb1373938ee490546",
            "7d38516ea4a6476198c729892961b6b6",
            "991d2c38db4d46738fc138a55d6fa258",
            "0eac022772714a679e3b1807829ad111",
            "a8ea8cf186c94e13893b556ef1968277",
            "9cda78b7a1b849788c7ebbe5f4bd803f",
            "27ccba0f528941ff8509b494c8990cf3",
            "f032583540914ea3acb8e76d444d62b0",
            "610a58d109b54ec595b0d9a817ddae86",
            "e8ec9c646e5a45ba8448bb8c983056d5",
            "6e3aca9547824de9b1f7ed6f6dd55a11",
            "d7bba5c9b9084a4397e7bd2d259bf523",
            "24a3b61d7237404886e7ca2d13568685",
            "7d6540a0676b41cfb730ea49355c1b29",
            "dbeecf65abaf469698d859ef1be9e798",
            "124afa8796c24ce38b8dae92d4031569",
            "48b80e917aa84ce0b430cbd3eadf744c",
            "1c540db7c7c4467ebf072830053a1739",
            "da202b9be1e14d9cadffccb6a4d37f4b",
            "2f377e95deee4789a2af384aa10ef1a8",
            "0a7df1b48b134a73a434a31b33392198",
            "169295e11db6490e889d7323b214e8f6",
            "d6d558c704b44fea8764bebf12d78873",
            "b68c8d64f10948a0b98e851c8703b9de",
            "58c5e40784734f218192a1543164d552",
            "06fd3f81ee58481892a45ca29d449c9a",
            "c1e29da1f76941cfaa01de7a9d3861bd",
            "4b67f0f41ea34b28be348d7d35d5392b",
            "5b640a3ea9dd435a99674e326e5bafa9",
            "87d0894e2a904fca9f4b5f81f583f039",
            "b89de095a28a48368f39d9938b936510",
            "ce1d8d5426a5407885b193ac1aa3ea8d",
            "eab8219431614e5fb9b9c71d5cb97f48",
            "f0e564863bc1442bb79424df6bfda840",
            "68278baa5ddf42e1b063bc47aaf05813",
            "59032e47758043058a41c216f13796c1",
            "c351ee1f97d447b3aa85b5e34eff85d9",
            "df5146d0fee74f8994f1d3b1b494860a",
            "dd7de1f268054884980189c2d24f067c",
            "6edcd7a3900d44fda1be557c5b42eb56",
            "27e446a5b61e4714bb52eac22e3fc78f",
            "499f5d6c426547a7b8e00d68889c9c9d",
            "f3cde44e545942839ecbc2e21db7260d",
            "6a7f5d3130784a3aa8c6173c84389af8",
            "4cde70e52ad54264b8ba38af85982458",
            "4f0bcd74ed514fec8f477aeb89f6d625",
            "2cea0586aa8c4a4490304b6626d283ce",
            "93512f74103e4ac992cb2105d2a0d64b",
            "6d17f77da61f436186f1887ee9a10f3e",
            "ecb9ba03209f4f4bba9fea87f98ba9a2",
            "0cb557f03d764ad091a438ef782eefe8"
          ]
        },
        "id": "b31a8379-c80f-44c3-9638-01f78b0310c2",
        "executionInfo": {
          "status": "ok",
          "timestamp": 1713337110647,
          "user_tz": -120,
          "elapsed": 1984,
          "user": {
            "displayName": "Esbern Holmes",
            "userId": "09779847606818129994"
          }
        },
        "outputId": "a82fa21c-c200-4ac2-a310-6ce160f64ae3"
      },
      "outputs": [
        {
          "output_type": "display_data",
          "data": {
            "text/plain": [
              "<IPython.core.display.HTML object>"
            ],
            "text/html": [
              "\n",
              "            <style>\n",
              "                .geemap-dark {\n",
              "                    --jp-widgets-color: white;\n",
              "                    --jp-widgets-label-color: white;\n",
              "                    --jp-ui-font-color1: white;\n",
              "                    --jp-layout-color2: #454545;\n",
              "                    background-color: #383838;\n",
              "                }\n",
              "\n",
              "                .geemap-dark .jupyter-button {\n",
              "                    --jp-layout-color3: #383838;\n",
              "                }\n",
              "\n",
              "                .geemap-colab {\n",
              "                    background-color: var(--colab-primary-surface-color, white);\n",
              "                }\n",
              "\n",
              "                .geemap-colab .jupyter-button {\n",
              "                    --jp-layout-color3: var(--colab-primary-surface-color, white);\n",
              "                }\n",
              "            </style>\n",
              "            "
            ]
          },
          "metadata": {}
        },
        {
          "output_type": "display_data",
          "data": {
            "text/plain": [
              "Map(center=[55, 13], controls=(WidgetControl(options=['position', 'transparent_bg'], widget=SearchDataGUI(chil\u2026"
            ],
            "application/vnd.jupyter.widget-view+json": {
              "version_major": 2,
              "version_minor": 0,
              "model_id": "e093a810333e4b4086a33c390ad55d7a"
            }
          },
          "metadata": {
            "application/vnd.jupyter.widget-view+json": {
              "colab": {
                "custom_widget_manager": {
                  "url": "https://ssl.gstatic.com/colaboratory-static/widgets/colab-cdn-widget-manager/2b70e893a8ba7c0f/manager.min.js"
                }
              }
            }
          }
        }
      ],
      "source": [
        "def style_function(feature):\n",
        "    return {\n",
        "        'color': feature['properties']['color'],  # This sets the border color\n",
        "        'fillColor': feature['properties']['color'],  # This sets the fill color\n",
        "        'fillOpacity': 0.5,\n",
        "        'weight': 1,\n",
        "    }\n",
        "\n",
        "Map = geemap.Map(center=(55, 13), zoom=4)\n",
        "Map.add_gdf(fields, layer_name=\"Fields\",\n",
        "            style_callback=lambda x: {'fillColor': x['properties']['color']})\n",
        "Map.add_gdf(pixel_fields_gdf, layer_name=\"pixels\")\n",
        "\n",
        "Map"
      ]
    },
    {
      "cell_type": "markdown",
      "id": "22601a81-2db8-44f1-8828-233fbb81a63f",
      "metadata": {
        "id": "22601a81-2db8-44f1-8828-233fbb81a63f"
      },
      "source": [
        "### Process the pixels (Caclulate NDVIFilter pixels for clouds and convert the time stamp to Year, Month Day)"
      ]
    },
    {
      "cell_type": "code",
      "execution_count": null,
      "id": "f06fdc2e-759d-4cc7-b641-5178ade1c45f",
      "metadata": {
        "colab": {
          "base_uri": "https://localhost:8080/",
          "height": 17
        },
        "id": "f06fdc2e-759d-4cc7-b641-5178ade1c45f",
        "executionInfo": {
          "status": "ok",
          "timestamp": 1713337117228,
          "user_tz": -120,
          "elapsed": 242,
          "user": {
            "displayName": "Esbern Holmes",
            "userId": "09779847606818129994"
          }
        },
        "outputId": "3b94d02d-7524-4164-97b4-9fb157e69f39"
      },
      "outputs": [
        {
          "output_type": "display_data",
          "data": {
            "text/plain": [
              "<IPython.core.display.HTML object>"
            ],
            "text/html": [
              "\n",
              "            <style>\n",
              "                .geemap-dark {\n",
              "                    --jp-widgets-color: white;\n",
              "                    --jp-widgets-label-color: white;\n",
              "                    --jp-ui-font-color1: white;\n",
              "                    --jp-layout-color2: #454545;\n",
              "                    background-color: #383838;\n",
              "                }\n",
              "\n",
              "                .geemap-dark .jupyter-button {\n",
              "                    --jp-layout-color3: #383838;\n",
              "                }\n",
              "\n",
              "                .geemap-colab {\n",
              "                    background-color: var(--colab-primary-surface-color, white);\n",
              "                }\n",
              "\n",
              "                .geemap-colab .jupyter-button {\n",
              "                    --jp-layout-color3: var(--colab-primary-surface-color, white);\n",
              "                }\n",
              "            </style>\n",
              "            "
            ]
          },
          "metadata": {}
        }
      ],
      "source": [
        "#Process Time and NDVI\n",
        "all_pixels_df['time'] = pd.to_datetime(all_pixels_df['time'], unit='ms')\n",
        "\n",
        "# Extract year, month, and day to separate columns\n",
        "all_pixels_df['year'] = all_pixels_df['time'].dt.year\n",
        "all_pixels_df['month'] = all_pixels_df['time'].dt.month\n",
        "all_pixels_df['day'] = all_pixels_df['time'].dt.day\n",
        "\n",
        "# Calculate NDVI and add it as a new column\n",
        "all_pixels_df['NDVI'] = (all_pixels_df['B4'] - all_pixels_df['B3']) / (all_pixels_df['B4'] + all_pixels_df['B3'])\n",
        "\n",
        "# Handle potential division by zero or NaN values\n",
        "all_pixels_df['NDVI'] = all_pixels_df['NDVI'].replace([np.inf, -np.inf], np.nan)\n",
        "\n"
      ]
    },
    {
      "cell_type": "code",
      "execution_count": null,
      "id": "9d3e3fa5-9830-4ca3-9d5c-57ddf46fa151",
      "metadata": {
        "colab": {
          "base_uri": "https://localhost:8080/",
          "height": 17
        },
        "id": "9d3e3fa5-9830-4ca3-9d5c-57ddf46fa151",
        "executionInfo": {
          "status": "ok",
          "timestamp": 1713337152690,
          "user_tz": -120,
          "elapsed": 31136,
          "user": {
            "displayName": "Esbern Holmes",
            "userId": "09779847606818129994"
          }
        },
        "outputId": "dca37c30-988d-48db-f639-bbeddbb82106"
      },
      "outputs": [
        {
          "output_type": "display_data",
          "data": {
            "text/plain": [
              "<IPython.core.display.HTML object>"
            ],
            "text/html": [
              "\n",
              "            <style>\n",
              "                .geemap-dark {\n",
              "                    --jp-widgets-color: white;\n",
              "                    --jp-widgets-label-color: white;\n",
              "                    --jp-ui-font-color1: white;\n",
              "                    --jp-layout-color2: #454545;\n",
              "                    background-color: #383838;\n",
              "                }\n",
              "\n",
              "                .geemap-dark .jupyter-button {\n",
              "                    --jp-layout-color3: #383838;\n",
              "                }\n",
              "\n",
              "                .geemap-colab {\n",
              "                    background-color: var(--colab-primary-surface-color, white);\n",
              "                }\n",
              "\n",
              "                .geemap-colab .jupyter-button {\n",
              "                    --jp-layout-color3: var(--colab-primary-surface-color, white);\n",
              "                }\n",
              "            </style>\n",
              "            "
            ]
          },
          "metadata": {}
        }
      ],
      "source": [
        "# Function to decode the QA_PIXEL column, modified to handle NaN values\n",
        "def decode_qa_pixel(value):\n",
        "    # Check if the value is NaN and return NaN for all attributes if true\n",
        "    if pd.isna(value):\n",
        "        return pd.Series([np.nan] * 11, index=[\n",
        "            'Fill', 'Dilated Cloud', 'Cloud', 'Cloud Shadow', 'Snow',\n",
        "            'Clear', 'Water', 'Cloud Confidence', 'Cloud Shadow Confidence',\n",
        "            'Snow/Ice Confidence', 'Cirrus Confidence'])\n",
        "\n",
        "    # Convert float to int and then to binary string, stripping the '0b' prefix\n",
        "    binary_str = format(int(value), '016b')\n",
        "\n",
        "    # Decode each bit based on the descriptions provided\n",
        "    attributes = {\n",
        "        'Fill': 'Fill data' if binary_str[-1] == '1' else 'Image data',\n",
        "        'Dilated Cloud': 'Cloud dilation' if binary_str[-2] == '1' else 'Cloud is not dilated or no cloud',\n",
        "        'Cloud': 'High confidence cloud' if binary_str[-4] == '1' else 'Cloud confidence is not high',\n",
        "        'Cloud Shadow': 'High confidence cloud shadow' if binary_str[-5] == '1' else ' Cloud Shadow Confidence is not high',\n",
        "        'Snow': 'High confidence snow cover' if binary_str[-6] == '1' else 'Snow/Ice Confidence is not high',\n",
        "        'Clear': 'Cloud and Dilated Cloud bits not set' if binary_str[-7] == '1' else 'Cloud or Dilated Cloud bits set',\n",
        "        'Water': 'Water' if binary_str[-8] == '1' else 'Land or cloud',\n",
        "        'Cloud Confidence': {\n",
        "            '00': 'No cloud confidence level set',\n",
        "            '01': 'Low cloud confidence',\n",
        "            '10': 'Medium cloud confidence',\n",
        "            '11': 'High cloud confidence',\n",
        "        }[binary_str[-10:-8]],\n",
        "        'Cloud Shadow Confidence': {\n",
        "            '00': 'No cloud shadow confidence level set',\n",
        "            '01': 'Low cloud shadow confidence',\n",
        "            '10': 'Reserved',\n",
        "            '11': 'High cloud shadow confidence',\n",
        "        }[binary_str[-12:-10]],\n",
        "        'Snow/Ice Confidence': {\n",
        "            '00': 'No snow/ice confidence level set',\n",
        "            '01': 'Low snow/ice confidence',\n",
        "            '10': 'Reserved',\n",
        "            '11': 'High snow/ice confidence',\n",
        "        }[binary_str[-14:-12]],\n",
        "        'Cirrus Confidence': {\n",
        "            '00': 'No cirrus confidence level set',\n",
        "            '01': 'Low cirrus confidence',\n",
        "            '10': 'Reserved',\n",
        "            '11': 'High cirrus confidence',\n",
        "        }[binary_str[-16:-14]],\n",
        "    }\n",
        "\n",
        "    return pd.Series(attributes)\n",
        "\n",
        "# Apply the decode function to the QA_PIXEL column and assign the result to new columns\n",
        "new_columns = all_pixels_df['QA_PIXEL'].apply(decode_qa_pixel)\n",
        "all_pixels_df = pd.concat([all_pixels_df, new_columns], axis=1)\n",
        "\n"
      ]
    },
    {
      "cell_type": "markdown",
      "id": "122d5662-b718-4182-af01-440c6d542076",
      "metadata": {
        "id": "122d5662-b718-4182-af01-440c6d542076"
      },
      "source": [
        "### Join filed/treatment data to the pixels\n"
      ]
    },
    {
      "cell_type": "code",
      "execution_count": null,
      "id": "0d6b4118-8e6c-4088-be4d-069d720a9dd7",
      "metadata": {
        "colab": {
          "base_uri": "https://localhost:8080/",
          "height": 17
        },
        "id": "0d6b4118-8e6c-4088-be4d-069d720a9dd7",
        "executionInfo": {
          "status": "ok",
          "timestamp": 1713337155406,
          "user_tz": -120,
          "elapsed": 227,
          "user": {
            "displayName": "Esbern Holmes",
            "userId": "09779847606818129994"
          }
        },
        "outputId": "59f109c9-d7c8-41db-ace6-9ac285f8e101"
      },
      "outputs": [
        {
          "output_type": "display_data",
          "data": {
            "text/plain": [
              "<IPython.core.display.HTML object>"
            ],
            "text/html": [
              "\n",
              "            <style>\n",
              "                .geemap-dark {\n",
              "                    --jp-widgets-color: white;\n",
              "                    --jp-widgets-label-color: white;\n",
              "                    --jp-ui-font-color1: white;\n",
              "                    --jp-layout-color2: #454545;\n",
              "                    background-color: #383838;\n",
              "                }\n",
              "\n",
              "                .geemap-dark .jupyter-button {\n",
              "                    --jp-layout-color3: #383838;\n",
              "                }\n",
              "\n",
              "                .geemap-colab {\n",
              "                    background-color: var(--colab-primary-surface-color, white);\n",
              "                }\n",
              "\n",
              "                .geemap-colab .jupyter-button {\n",
              "                    --jp-layout-color3: var(--colab-primary-surface-color, white);\n",
              "                }\n",
              "            </style>\n",
              "            "
            ]
          },
          "metadata": {}
        }
      ],
      "source": [
        "merged_df = pd.merge(all_pixels_df, pixel_fields_gdf[['longitude', 'latitude', 'pair', 'tillage']], on=['longitude', 'latitude'], how='left')"
      ]
    },
    {
      "cell_type": "markdown",
      "id": "9b6d256b-f349-4ef1-b2c7-0040f6d70f49",
      "metadata": {
        "id": "9b6d256b-f349-4ef1-b2c7-0040f6d70f49"
      },
      "source": [
        "### Filter pixels for clouds"
      ]
    },
    {
      "cell_type": "code",
      "execution_count": null,
      "id": "f04406f8-48e3-491a-82d9-da095cf82103",
      "metadata": {
        "colab": {
          "base_uri": "https://localhost:8080/",
          "height": 17
        },
        "id": "f04406f8-48e3-491a-82d9-da095cf82103",
        "executionInfo": {
          "status": "ok",
          "timestamp": 1713337166385,
          "user_tz": -120,
          "elapsed": 500,
          "user": {
            "displayName": "Esbern Holmes",
            "userId": "09779847606818129994"
          }
        },
        "outputId": "fd2a029b-539e-4f14-f239-f65f68928cb5"
      },
      "outputs": [
        {
          "output_type": "display_data",
          "data": {
            "text/plain": [
              "<IPython.core.display.HTML object>"
            ],
            "text/html": [
              "\n",
              "            <style>\n",
              "                .geemap-dark {\n",
              "                    --jp-widgets-color: white;\n",
              "                    --jp-widgets-label-color: white;\n",
              "                    --jp-ui-font-color1: white;\n",
              "                    --jp-layout-color2: #454545;\n",
              "                    background-color: #383838;\n",
              "                }\n",
              "\n",
              "                .geemap-dark .jupyter-button {\n",
              "                    --jp-layout-color3: #383838;\n",
              "                }\n",
              "\n",
              "                .geemap-colab {\n",
              "                    background-color: var(--colab-primary-surface-color, white);\n",
              "                }\n",
              "\n",
              "                .geemap-colab .jupyter-button {\n",
              "                    --jp-layout-color3: var(--colab-primary-surface-color, white);\n",
              "                }\n",
              "            </style>\n",
              "            "
            ]
          },
          "metadata": {}
        }
      ],
      "source": [
        "filtered_df = merged_df[merged_df['Clear'] == \"Cloud and Dilated Cloud bits not set\"]"
      ]
    },
    {
      "cell_type": "code",
      "source": [
        "merged_df.to_csv(\"/content/drive/MyDrive/Conservation_agri/pixl_data.csv\", index=False)"
      ],
      "metadata": {
        "colab": {
          "base_uri": "https://localhost:8080/",
          "height": 17
        },
        "id": "MrC9yWW9J4_c",
        "executionInfo": {
          "status": "ok",
          "timestamp": 1713292132278,
          "user_tz": -120,
          "elapsed": 1991,
          "user": {
            "displayName": "Esbern Holmes",
            "userId": "09779847606818129994"
          }
        },
        "outputId": "b7bdf679-b423-4cb6-8a29-1a396d5895fb"
      },
      "id": "MrC9yWW9J4_c",
      "execution_count": null,
      "outputs": [
        {
          "output_type": "display_data",
          "data": {
            "text/plain": [
              "<IPython.core.display.HTML object>"
            ],
            "text/html": [
              "\n",
              "            <style>\n",
              "                .geemap-dark {\n",
              "                    --jp-widgets-color: white;\n",
              "                    --jp-widgets-label-color: white;\n",
              "                    --jp-ui-font-color1: white;\n",
              "                    --jp-layout-color2: #454545;\n",
              "                    background-color: #383838;\n",
              "                }\n",
              "\n",
              "                .geemap-dark .jupyter-button {\n",
              "                    --jp-layout-color3: #383838;\n",
              "                }\n",
              "\n",
              "                .geemap-colab {\n",
              "                    background-color: var(--colab-primary-surface-color, white);\n",
              "                }\n",
              "\n",
              "                .geemap-colab .jupyter-button {\n",
              "                    --jp-layout-color3: var(--colab-primary-surface-color, white);\n",
              "                }\n",
              "            </style>\n",
              "            "
            ]
          },
          "metadata": {}
        }
      ]
    },
    {
      "cell_type": "code",
      "source": [
        "from google.colab import drive\n",
        "drive.mount('/content/drive')"
      ],
      "metadata": {
        "colab": {
          "base_uri": "https://localhost:8080/",
          "height": 35
        },
        "id": "ROD3OsM-47lX",
        "executionInfo": {
          "status": "ok",
          "timestamp": 1713337194237,
          "user_tz": -120,
          "elapsed": 21255,
          "user": {
            "displayName": "Esbern Holmes",
            "userId": "09779847606818129994"
          }
        },
        "outputId": "e84b87ec-6ae1-4c9f-eadc-cbb0a6f685c5"
      },
      "id": "ROD3OsM-47lX",
      "execution_count": null,
      "outputs": [
        {
          "output_type": "display_data",
          "data": {
            "text/plain": [
              "<IPython.core.display.HTML object>"
            ],
            "text/html": [
              "\n",
              "            <style>\n",
              "                .geemap-dark {\n",
              "                    --jp-widgets-color: white;\n",
              "                    --jp-widgets-label-color: white;\n",
              "                    --jp-ui-font-color1: white;\n",
              "                    --jp-layout-color2: #454545;\n",
              "                    background-color: #383838;\n",
              "                }\n",
              "\n",
              "                .geemap-dark .jupyter-button {\n",
              "                    --jp-layout-color3: #383838;\n",
              "                }\n",
              "\n",
              "                .geemap-colab {\n",
              "                    background-color: var(--colab-primary-surface-color, white);\n",
              "                }\n",
              "\n",
              "                .geemap-colab .jupyter-button {\n",
              "                    --jp-layout-color3: var(--colab-primary-surface-color, white);\n",
              "                }\n",
              "            </style>\n",
              "            "
            ]
          },
          "metadata": {}
        },
        {
          "output_type": "stream",
          "name": "stdout",
          "text": [
            "Mounted at /content/drive\n"
          ]
        }
      ]
    },
    {
      "cell_type": "code",
      "execution_count": null,
      "id": "ff9903ba-3761-43b9-b1a9-eed6b1a2ac13",
      "metadata": {
        "colab": {
          "base_uri": "https://localhost:8080/",
          "height": 17
        },
        "id": "ff9903ba-3761-43b9-b1a9-eed6b1a2ac13",
        "executionInfo": {
          "status": "ok",
          "timestamp": 1713291376510,
          "user_tz": -120,
          "elapsed": 15536,
          "user": {
            "displayName": "Esbern Holmes",
            "userId": "09779847606818129994"
          }
        },
        "outputId": "737e8564-f6db-46fc-d518-f2f45ba420cf"
      },
      "outputs": [
        {
          "output_type": "display_data",
          "data": {
            "text/plain": [
              "<IPython.core.display.HTML object>"
            ],
            "text/html": [
              "\n",
              "            <style>\n",
              "                .geemap-dark {\n",
              "                    --jp-widgets-color: white;\n",
              "                    --jp-widgets-label-color: white;\n",
              "                    --jp-ui-font-color1: white;\n",
              "                    --jp-layout-color2: #454545;\n",
              "                    background-color: #383838;\n",
              "                }\n",
              "\n",
              "                .geemap-dark .jupyter-button {\n",
              "                    --jp-layout-color3: #383838;\n",
              "                }\n",
              "\n",
              "                .geemap-colab {\n",
              "                    background-color: var(--colab-primary-surface-color, white);\n",
              "                }\n",
              "\n",
              "                .geemap-colab .jupyter-button {\n",
              "                    --jp-layout-color3: var(--colab-primary-surface-color, white);\n",
              "                }\n",
              "            </style>\n",
              "            "
            ]
          },
          "metadata": {}
        }
      ],
      "source": [
        "filtered_df.to_excel(\"/content/drive/MyDrive/Conservation_agri/pixler.xlsx\", index=False)"
      ]
    },
    {
      "cell_type": "markdown",
      "source": [
        "## Start plotting"
      ],
      "metadata": {
        "id": "6leYyOgtJDta"
      },
      "id": "6leYyOgtJDta"
    },
    {
      "cell_type": "code",
      "source": [
        "import seaborn as sns\n",
        "import matplotlib.pyplot as plt\n",
        "import scipy.stats as stats"
      ],
      "metadata": {
        "colab": {
          "base_uri": "https://localhost:8080/",
          "height": 17
        },
        "id": "r2a0DZ-2JNaT",
        "executionInfo": {
          "status": "ok",
          "timestamp": 1713337199752,
          "user_tz": -120,
          "elapsed": 954,
          "user": {
            "displayName": "Esbern Holmes",
            "userId": "09779847606818129994"
          }
        },
        "outputId": "67e3e68e-14e7-4877-d5e0-a94d008b9fcc"
      },
      "id": "r2a0DZ-2JNaT",
      "execution_count": null,
      "outputs": [
        {
          "output_type": "display_data",
          "data": {
            "text/plain": [
              "<IPython.core.display.HTML object>"
            ],
            "text/html": [
              "\n",
              "            <style>\n",
              "                .geemap-dark {\n",
              "                    --jp-widgets-color: white;\n",
              "                    --jp-widgets-label-color: white;\n",
              "                    --jp-ui-font-color1: white;\n",
              "                    --jp-layout-color2: #454545;\n",
              "                    background-color: #383838;\n",
              "                }\n",
              "\n",
              "                .geemap-dark .jupyter-button {\n",
              "                    --jp-layout-color3: #383838;\n",
              "                }\n",
              "\n",
              "                .geemap-colab {\n",
              "                    background-color: var(--colab-primary-surface-color, white);\n",
              "                }\n",
              "\n",
              "                .geemap-colab .jupyter-button {\n",
              "                    --jp-layout-color3: var(--colab-primary-surface-color, white);\n",
              "                }\n",
              "            </style>\n",
              "            "
            ]
          },
          "metadata": {}
        }
      ]
    },
    {
      "cell_type": "markdown",
      "source": [
        "Add climat referance value"
      ],
      "metadata": {
        "id": "BiwgNgBaEpLo"
      },
      "id": "BiwgNgBaEpLo"
    },
    {
      "cell_type": "code",
      "source": [
        "# Data preparation\n",
        "climat_data = {\n",
        "    \"Month\": [\"Jan\", \"Feb\", \"Mar\", \"Apr\", \"May\", \"Jun\", \"Jul\", \"Aug\", \"Sep\", \"Oct\", \"Nov\", \"Dec\"],\n",
        "    \"Average of Maximum Temperature\": [3.8, 4, 6.9, 11.6, 16.1, 19.1, 21.1, 21.2, 17.5, 12.8, 8.3, 6],\n",
        "    \"Average Temperature\": [1.9, 1.8, 3.7, 7.4, 11.7, 14.9, 16.7, 16.8, 13.9, 10.1, 6.3, 4.2],\n",
        "    \"Average of Minimum Temperature\": [-0.3, -0.6, 0.8, 3.4, 7.3, 10.6, 12.3, 12.7, 10.4, 7.4, 3.9, 2],\n",
        "    \"Total Precipitation\": [66, 49.3, 43.1, 37.7, 47.4, 66.9, 69.5, 86.1, 82.6, 84.5, 67.4, 81.2]\n",
        "}"
      ],
      "metadata": {
        "colab": {
          "base_uri": "https://localhost:8080/",
          "height": 17
        },
        "id": "9joDmPMCEoeT",
        "executionInfo": {
          "status": "ok",
          "timestamp": 1713337203787,
          "user_tz": -120,
          "elapsed": 230,
          "user": {
            "displayName": "Esbern Holmes",
            "userId": "09779847606818129994"
          }
        },
        "outputId": "4a908cff-d537-4dc1-f784-309c014a7357"
      },
      "id": "9joDmPMCEoeT",
      "execution_count": null,
      "outputs": [
        {
          "output_type": "display_data",
          "data": {
            "text/plain": [
              "<IPython.core.display.HTML object>"
            ],
            "text/html": [
              "\n",
              "            <style>\n",
              "                .geemap-dark {\n",
              "                    --jp-widgets-color: white;\n",
              "                    --jp-widgets-label-color: white;\n",
              "                    --jp-ui-font-color1: white;\n",
              "                    --jp-layout-color2: #454545;\n",
              "                    background-color: #383838;\n",
              "                }\n",
              "\n",
              "                .geemap-dark .jupyter-button {\n",
              "                    --jp-layout-color3: #383838;\n",
              "                }\n",
              "\n",
              "                .geemap-colab {\n",
              "                    background-color: var(--colab-primary-surface-color, white);\n",
              "                }\n",
              "\n",
              "                .geemap-colab .jupyter-button {\n",
              "                    --jp-layout-color3: var(--colab-primary-surface-color, white);\n",
              "                }\n",
              "            </style>\n",
              "            "
            ]
          },
          "metadata": {}
        }
      ]
    },
    {
      "cell_type": "code",
      "source": [
        "desc_stats = filtered_df.groupby(['month', 'tillage'])['NDVI'].describe()\n",
        "desc_stats"
      ],
      "metadata": {
        "colab": {
          "base_uri": "https://localhost:8080/",
          "height": 708
        },
        "id": "TVZv1fxUz3HF",
        "executionInfo": {
          "status": "ok",
          "timestamp": 1713337211995,
          "user_tz": -120,
          "elapsed": 393,
          "user": {
            "displayName": "Esbern Holmes",
            "userId": "09779847606818129994"
          }
        },
        "outputId": "f9345f75-f9d3-4f80-c2f5-2d456eb63217"
      },
      "id": "TVZv1fxUz3HF",
      "execution_count": null,
      "outputs": [
        {
          "output_type": "display_data",
          "data": {
            "text/plain": [
              "<IPython.core.display.HTML object>"
            ],
            "text/html": [
              "\n",
              "            <style>\n",
              "                .geemap-dark {\n",
              "                    --jp-widgets-color: white;\n",
              "                    --jp-widgets-label-color: white;\n",
              "                    --jp-ui-font-color1: white;\n",
              "                    --jp-layout-color2: #454545;\n",
              "                    background-color: #383838;\n",
              "                }\n",
              "\n",
              "                .geemap-dark .jupyter-button {\n",
              "                    --jp-layout-color3: #383838;\n",
              "                }\n",
              "\n",
              "                .geemap-colab {\n",
              "                    background-color: var(--colab-primary-surface-color, white);\n",
              "                }\n",
              "\n",
              "                .geemap-colab .jupyter-button {\n",
              "                    --jp-layout-color3: var(--colab-primary-surface-color, white);\n",
              "                }\n",
              "            </style>\n",
              "            "
            ]
          },
          "metadata": {}
        },
        {
          "output_type": "execute_result",
          "data": {
            "text/plain": [
              "                count      mean       std       min       25%       50%  \\\n",
              "month tillage                                                             \n",
              "2     CT        291.0  0.329519  0.136841  0.071681  0.167578  0.377165   \n",
              "      MT        464.0  0.315630  0.099248  0.152872  0.236410  0.305967   \n",
              "3     CT        827.0  0.376576  0.160262  0.080560  0.232100  0.378959   \n",
              "      MT       1028.0  0.331621  0.126302  0.094443  0.212682  0.336709   \n",
              "4     CT        842.0  0.360876  0.179079  0.010612  0.183894  0.369634   \n",
              "      MT       1164.0  0.418942  0.192942  0.037326  0.228839  0.399349   \n",
              "5     CT       1345.0  0.536854  0.232581  0.057217  0.297051  0.640825   \n",
              "      MT       1714.0  0.559936  0.222049  0.120741  0.321392  0.654271   \n",
              "6     CT       1106.0  0.688108  0.189549  0.163230  0.644445  0.771635   \n",
              "      MT       1456.0  0.740007  0.099271  0.367090  0.684006  0.776771   \n",
              "7     CT       1734.0  0.556483  0.176232  0.161491  0.421228  0.601647   \n",
              "      MT       2290.0  0.563775  0.188458  0.158067  0.391896  0.626855   \n",
              "8     CT       1256.0  0.277783  0.131448  0.057453  0.189025  0.221431   \n",
              "      MT       1747.0  0.245417  0.129415  0.031787  0.181104  0.210269   \n",
              "9     CT        849.0  0.267552  0.134622  0.096673  0.179736  0.228634   \n",
              "      MT       1075.0  0.280355  0.191774  0.011459  0.160429  0.188878   \n",
              "10    CT        858.0  0.325369  0.132955  0.026399  0.219303  0.313969   \n",
              "      MT       1071.0  0.377937  0.212664  0.016910  0.164800  0.366301   \n",
              "11    CT        147.0  0.427295  0.180197  0.056617  0.361833  0.443020   \n",
              "      MT        170.0  0.488389  0.165208  0.174039  0.327146  0.552922   \n",
              "\n",
              "                    75%       max  \n",
              "month tillage                      \n",
              "2     CT       0.432342  0.519885  \n",
              "      MT       0.410736  0.506719  \n",
              "3     CT       0.512585  0.672510  \n",
              "      MT       0.399845  0.639462  \n",
              "4     CT       0.513181  0.722508  \n",
              "      MT       0.625286  0.713181  \n",
              "5     CT       0.743011  0.848838  \n",
              "      MT       0.743136  0.864554  \n",
              "6     CT       0.808087  0.855870  \n",
              "      MT       0.812076  0.868691  \n",
              "7     CT       0.706499  0.817927  \n",
              "      MT       0.712846  0.853990  \n",
              "8     CT       0.350585  0.660889  \n",
              "      MT       0.270117  0.805026  \n",
              "9     CT       0.297754  0.782278  \n",
              "      MT       0.327835  0.789920  \n",
              "10    CT       0.425580  0.689021  \n",
              "      MT       0.607927  0.726828  \n",
              "11    CT       0.521839  0.723694  \n",
              "      MT       0.616660  0.688715  "
            ],
            "text/html": [
              "\n",
              "  <div id=\"df-2a496d05-bbe2-482c-af3a-7f8d4942d7f1\" class=\"colab-df-container\">\n",
              "    <div>\n",
              "<style scoped>\n",
              "    .dataframe tbody tr th:only-of-type {\n",
              "        vertical-align: middle;\n",
              "    }\n",
              "\n",
              "    .dataframe tbody tr th {\n",
              "        vertical-align: top;\n",
              "    }\n",
              "\n",
              "    .dataframe thead th {\n",
              "        text-align: right;\n",
              "    }\n",
              "</style>\n",
              "<table border=\"1\" class=\"dataframe\">\n",
              "  <thead>\n",
              "    <tr style=\"text-align: right;\">\n",
              "      <th></th>\n",
              "      <th></th>\n",
              "      <th>count</th>\n",
              "      <th>mean</th>\n",
              "      <th>std</th>\n",
              "      <th>min</th>\n",
              "      <th>25%</th>\n",
              "      <th>50%</th>\n",
              "      <th>75%</th>\n",
              "      <th>max</th>\n",
              "    </tr>\n",
              "    <tr>\n",
              "      <th>month</th>\n",
              "      <th>tillage</th>\n",
              "      <th></th>\n",
              "      <th></th>\n",
              "      <th></th>\n",
              "      <th></th>\n",
              "      <th></th>\n",
              "      <th></th>\n",
              "      <th></th>\n",
              "      <th></th>\n",
              "    </tr>\n",
              "  </thead>\n",
              "  <tbody>\n",
              "    <tr>\n",
              "      <th rowspan=\"2\" valign=\"top\">2</th>\n",
              "      <th>CT</th>\n",
              "      <td>291.0</td>\n",
              "      <td>0.329519</td>\n",
              "      <td>0.136841</td>\n",
              "      <td>0.071681</td>\n",
              "      <td>0.167578</td>\n",
              "      <td>0.377165</td>\n",
              "      <td>0.432342</td>\n",
              "      <td>0.519885</td>\n",
              "    </tr>\n",
              "    <tr>\n",
              "      <th>MT</th>\n",
              "      <td>464.0</td>\n",
              "      <td>0.315630</td>\n",
              "      <td>0.099248</td>\n",
              "      <td>0.152872</td>\n",
              "      <td>0.236410</td>\n",
              "      <td>0.305967</td>\n",
              "      <td>0.410736</td>\n",
              "      <td>0.506719</td>\n",
              "    </tr>\n",
              "    <tr>\n",
              "      <th rowspan=\"2\" valign=\"top\">3</th>\n",
              "      <th>CT</th>\n",
              "      <td>827.0</td>\n",
              "      <td>0.376576</td>\n",
              "      <td>0.160262</td>\n",
              "      <td>0.080560</td>\n",
              "      <td>0.232100</td>\n",
              "      <td>0.378959</td>\n",
              "      <td>0.512585</td>\n",
              "      <td>0.672510</td>\n",
              "    </tr>\n",
              "    <tr>\n",
              "      <th>MT</th>\n",
              "      <td>1028.0</td>\n",
              "      <td>0.331621</td>\n",
              "      <td>0.126302</td>\n",
              "      <td>0.094443</td>\n",
              "      <td>0.212682</td>\n",
              "      <td>0.336709</td>\n",
              "      <td>0.399845</td>\n",
              "      <td>0.639462</td>\n",
              "    </tr>\n",
              "    <tr>\n",
              "      <th rowspan=\"2\" valign=\"top\">4</th>\n",
              "      <th>CT</th>\n",
              "      <td>842.0</td>\n",
              "      <td>0.360876</td>\n",
              "      <td>0.179079</td>\n",
              "      <td>0.010612</td>\n",
              "      <td>0.183894</td>\n",
              "      <td>0.369634</td>\n",
              "      <td>0.513181</td>\n",
              "      <td>0.722508</td>\n",
              "    </tr>\n",
              "    <tr>\n",
              "      <th>MT</th>\n",
              "      <td>1164.0</td>\n",
              "      <td>0.418942</td>\n",
              "      <td>0.192942</td>\n",
              "      <td>0.037326</td>\n",
              "      <td>0.228839</td>\n",
              "      <td>0.399349</td>\n",
              "      <td>0.625286</td>\n",
              "      <td>0.713181</td>\n",
              "    </tr>\n",
              "    <tr>\n",
              "      <th rowspan=\"2\" valign=\"top\">5</th>\n",
              "      <th>CT</th>\n",
              "      <td>1345.0</td>\n",
              "      <td>0.536854</td>\n",
              "      <td>0.232581</td>\n",
              "      <td>0.057217</td>\n",
              "      <td>0.297051</td>\n",
              "      <td>0.640825</td>\n",
              "      <td>0.743011</td>\n",
              "      <td>0.848838</td>\n",
              "    </tr>\n",
              "    <tr>\n",
              "      <th>MT</th>\n",
              "      <td>1714.0</td>\n",
              "      <td>0.559936</td>\n",
              "      <td>0.222049</td>\n",
              "      <td>0.120741</td>\n",
              "      <td>0.321392</td>\n",
              "      <td>0.654271</td>\n",
              "      <td>0.743136</td>\n",
              "      <td>0.864554</td>\n",
              "    </tr>\n",
              "    <tr>\n",
              "      <th rowspan=\"2\" valign=\"top\">6</th>\n",
              "      <th>CT</th>\n",
              "      <td>1106.0</td>\n",
              "      <td>0.688108</td>\n",
              "      <td>0.189549</td>\n",
              "      <td>0.163230</td>\n",
              "      <td>0.644445</td>\n",
              "      <td>0.771635</td>\n",
              "      <td>0.808087</td>\n",
              "      <td>0.855870</td>\n",
              "    </tr>\n",
              "    <tr>\n",
              "      <th>MT</th>\n",
              "      <td>1456.0</td>\n",
              "      <td>0.740007</td>\n",
              "      <td>0.099271</td>\n",
              "      <td>0.367090</td>\n",
              "      <td>0.684006</td>\n",
              "      <td>0.776771</td>\n",
              "      <td>0.812076</td>\n",
              "      <td>0.868691</td>\n",
              "    </tr>\n",
              "    <tr>\n",
              "      <th rowspan=\"2\" valign=\"top\">7</th>\n",
              "      <th>CT</th>\n",
              "      <td>1734.0</td>\n",
              "      <td>0.556483</td>\n",
              "      <td>0.176232</td>\n",
              "      <td>0.161491</td>\n",
              "      <td>0.421228</td>\n",
              "      <td>0.601647</td>\n",
              "      <td>0.706499</td>\n",
              "      <td>0.817927</td>\n",
              "    </tr>\n",
              "    <tr>\n",
              "      <th>MT</th>\n",
              "      <td>2290.0</td>\n",
              "      <td>0.563775</td>\n",
              "      <td>0.188458</td>\n",
              "      <td>0.158067</td>\n",
              "      <td>0.391896</td>\n",
              "      <td>0.626855</td>\n",
              "      <td>0.712846</td>\n",
              "      <td>0.853990</td>\n",
              "    </tr>\n",
              "    <tr>\n",
              "      <th rowspan=\"2\" valign=\"top\">8</th>\n",
              "      <th>CT</th>\n",
              "      <td>1256.0</td>\n",
              "      <td>0.277783</td>\n",
              "      <td>0.131448</td>\n",
              "      <td>0.057453</td>\n",
              "      <td>0.189025</td>\n",
              "      <td>0.221431</td>\n",
              "      <td>0.350585</td>\n",
              "      <td>0.660889</td>\n",
              "    </tr>\n",
              "    <tr>\n",
              "      <th>MT</th>\n",
              "      <td>1747.0</td>\n",
              "      <td>0.245417</td>\n",
              "      <td>0.129415</td>\n",
              "      <td>0.031787</td>\n",
              "      <td>0.181104</td>\n",
              "      <td>0.210269</td>\n",
              "      <td>0.270117</td>\n",
              "      <td>0.805026</td>\n",
              "    </tr>\n",
              "    <tr>\n",
              "      <th rowspan=\"2\" valign=\"top\">9</th>\n",
              "      <th>CT</th>\n",
              "      <td>849.0</td>\n",
              "      <td>0.267552</td>\n",
              "      <td>0.134622</td>\n",
              "      <td>0.096673</td>\n",
              "      <td>0.179736</td>\n",
              "      <td>0.228634</td>\n",
              "      <td>0.297754</td>\n",
              "      <td>0.782278</td>\n",
              "    </tr>\n",
              "    <tr>\n",
              "      <th>MT</th>\n",
              "      <td>1075.0</td>\n",
              "      <td>0.280355</td>\n",
              "      <td>0.191774</td>\n",
              "      <td>0.011459</td>\n",
              "      <td>0.160429</td>\n",
              "      <td>0.188878</td>\n",
              "      <td>0.327835</td>\n",
              "      <td>0.789920</td>\n",
              "    </tr>\n",
              "    <tr>\n",
              "      <th rowspan=\"2\" valign=\"top\">10</th>\n",
              "      <th>CT</th>\n",
              "      <td>858.0</td>\n",
              "      <td>0.325369</td>\n",
              "      <td>0.132955</td>\n",
              "      <td>0.026399</td>\n",
              "      <td>0.219303</td>\n",
              "      <td>0.313969</td>\n",
              "      <td>0.425580</td>\n",
              "      <td>0.689021</td>\n",
              "    </tr>\n",
              "    <tr>\n",
              "      <th>MT</th>\n",
              "      <td>1071.0</td>\n",
              "      <td>0.377937</td>\n",
              "      <td>0.212664</td>\n",
              "      <td>0.016910</td>\n",
              "      <td>0.164800</td>\n",
              "      <td>0.366301</td>\n",
              "      <td>0.607927</td>\n",
              "      <td>0.726828</td>\n",
              "    </tr>\n",
              "    <tr>\n",
              "      <th rowspan=\"2\" valign=\"top\">11</th>\n",
              "      <th>CT</th>\n",
              "      <td>147.0</td>\n",
              "      <td>0.427295</td>\n",
              "      <td>0.180197</td>\n",
              "      <td>0.056617</td>\n",
              "      <td>0.361833</td>\n",
              "      <td>0.443020</td>\n",
              "      <td>0.521839</td>\n",
              "      <td>0.723694</td>\n",
              "    </tr>\n",
              "    <tr>\n",
              "      <th>MT</th>\n",
              "      <td>170.0</td>\n",
              "      <td>0.488389</td>\n",
              "      <td>0.165208</td>\n",
              "      <td>0.174039</td>\n",
              "      <td>0.327146</td>\n",
              "      <td>0.552922</td>\n",
              "      <td>0.616660</td>\n",
              "      <td>0.688715</td>\n",
              "    </tr>\n",
              "  </tbody>\n",
              "</table>\n",
              "</div>\n",
              "    <div class=\"colab-df-buttons\">\n",
              "\n",
              "  <div class=\"colab-df-container\">\n",
              "    <button class=\"colab-df-convert\" onclick=\"convertToInteractive('df-2a496d05-bbe2-482c-af3a-7f8d4942d7f1')\"\n",
              "            title=\"Convert this dataframe to an interactive table.\"\n",
              "            style=\"display:none;\">\n",
              "\n",
              "  <svg xmlns=\"http://www.w3.org/2000/svg\" height=\"24px\" viewBox=\"0 -960 960 960\">\n",
              "    <path d=\"M120-120v-720h720v720H120Zm60-500h600v-160H180v160Zm220 220h160v-160H400v160Zm0 220h160v-160H400v160ZM180-400h160v-160H180v160Zm440 0h160v-160H620v160ZM180-180h160v-160H180v160Zm440 0h160v-160H620v160Z\"/>\n",
              "  </svg>\n",
              "    </button>\n",
              "\n",
              "  <style>\n",
              "    .colab-df-container {\n",
              "      display:flex;\n",
              "      gap: 12px;\n",
              "    }\n",
              "\n",
              "    .colab-df-convert {\n",
              "      background-color: #E8F0FE;\n",
              "      border: none;\n",
              "      border-radius: 50%;\n",
              "      cursor: pointer;\n",
              "      display: none;\n",
              "      fill: #1967D2;\n",
              "      height: 32px;\n",
              "      padding: 0 0 0 0;\n",
              "      width: 32px;\n",
              "    }\n",
              "\n",
              "    .colab-df-convert:hover {\n",
              "      background-color: #E2EBFA;\n",
              "      box-shadow: 0px 1px 2px rgba(60, 64, 67, 0.3), 0px 1px 3px 1px rgba(60, 64, 67, 0.15);\n",
              "      fill: #174EA6;\n",
              "    }\n",
              "\n",
              "    .colab-df-buttons div {\n",
              "      margin-bottom: 4px;\n",
              "    }\n",
              "\n",
              "    [theme=dark] .colab-df-convert {\n",
              "      background-color: #3B4455;\n",
              "      fill: #D2E3FC;\n",
              "    }\n",
              "\n",
              "    [theme=dark] .colab-df-convert:hover {\n",
              "      background-color: #434B5C;\n",
              "      box-shadow: 0px 1px 3px 1px rgba(0, 0, 0, 0.15);\n",
              "      filter: drop-shadow(0px 1px 2px rgba(0, 0, 0, 0.3));\n",
              "      fill: #FFFFFF;\n",
              "    }\n",
              "  </style>\n",
              "\n",
              "    <script>\n",
              "      const buttonEl =\n",
              "        document.querySelector('#df-2a496d05-bbe2-482c-af3a-7f8d4942d7f1 button.colab-df-convert');\n",
              "      buttonEl.style.display =\n",
              "        google.colab.kernel.accessAllowed ? 'block' : 'none';\n",
              "\n",
              "      async function convertToInteractive(key) {\n",
              "        const element = document.querySelector('#df-2a496d05-bbe2-482c-af3a-7f8d4942d7f1');\n",
              "        const dataTable =\n",
              "          await google.colab.kernel.invokeFunction('convertToInteractive',\n",
              "                                                    [key], {});\n",
              "        if (!dataTable) return;\n",
              "\n",
              "        const docLinkHtml = 'Like what you see? Visit the ' +\n",
              "          '<a target=\"_blank\" href=https://colab.research.google.com/notebooks/data_table.ipynb>data table notebook</a>'\n",
              "          + ' to learn more about interactive tables.';\n",
              "        element.innerHTML = '';\n",
              "        dataTable['output_type'] = 'display_data';\n",
              "        await google.colab.output.renderOutput(dataTable, element);\n",
              "        const docLink = document.createElement('div');\n",
              "        docLink.innerHTML = docLinkHtml;\n",
              "        element.appendChild(docLink);\n",
              "      }\n",
              "    </script>\n",
              "  </div>\n",
              "\n",
              "\n",
              "<div id=\"df-caa0f667-5d28-4ba1-8fb3-296a813b6862\">\n",
              "  <button class=\"colab-df-quickchart\" onclick=\"quickchart('df-caa0f667-5d28-4ba1-8fb3-296a813b6862')\"\n",
              "            title=\"Suggest charts\"\n",
              "            style=\"display:none;\">\n",
              "\n",
              "<svg xmlns=\"http://www.w3.org/2000/svg\" height=\"24px\"viewBox=\"0 0 24 24\"\n",
              "     width=\"24px\">\n",
              "    <g>\n",
              "        <path d=\"M19 3H5c-1.1 0-2 .9-2 2v14c0 1.1.9 2 2 2h14c1.1 0 2-.9 2-2V5c0-1.1-.9-2-2-2zM9 17H7v-7h2v7zm4 0h-2V7h2v10zm4 0h-2v-4h2v4z\"/>\n",
              "    </g>\n",
              "</svg>\n",
              "  </button>\n",
              "\n",
              "<style>\n",
              "  .colab-df-quickchart {\n",
              "      --bg-color: #E8F0FE;\n",
              "      --fill-color: #1967D2;\n",
              "      --hover-bg-color: #E2EBFA;\n",
              "      --hover-fill-color: #174EA6;\n",
              "      --disabled-fill-color: #AAA;\n",
              "      --disabled-bg-color: #DDD;\n",
              "  }\n",
              "\n",
              "  [theme=dark] .colab-df-quickchart {\n",
              "      --bg-color: #3B4455;\n",
              "      --fill-color: #D2E3FC;\n",
              "      --hover-bg-color: #434B5C;\n",
              "      --hover-fill-color: #FFFFFF;\n",
              "      --disabled-bg-color: #3B4455;\n",
              "      --disabled-fill-color: #666;\n",
              "  }\n",
              "\n",
              "  .colab-df-quickchart {\n",
              "    background-color: var(--bg-color);\n",
              "    border: none;\n",
              "    border-radius: 50%;\n",
              "    cursor: pointer;\n",
              "    display: none;\n",
              "    fill: var(--fill-color);\n",
              "    height: 32px;\n",
              "    padding: 0;\n",
              "    width: 32px;\n",
              "  }\n",
              "\n",
              "  .colab-df-quickchart:hover {\n",
              "    background-color: var(--hover-bg-color);\n",
              "    box-shadow: 0 1px 2px rgba(60, 64, 67, 0.3), 0 1px 3px 1px rgba(60, 64, 67, 0.15);\n",
              "    fill: var(--button-hover-fill-color);\n",
              "  }\n",
              "\n",
              "  .colab-df-quickchart-complete:disabled,\n",
              "  .colab-df-quickchart-complete:disabled:hover {\n",
              "    background-color: var(--disabled-bg-color);\n",
              "    fill: var(--disabled-fill-color);\n",
              "    box-shadow: none;\n",
              "  }\n",
              "\n",
              "  .colab-df-spinner {\n",
              "    border: 2px solid var(--fill-color);\n",
              "    border-color: transparent;\n",
              "    border-bottom-color: var(--fill-color);\n",
              "    animation:\n",
              "      spin 1s steps(1) infinite;\n",
              "  }\n",
              "\n",
              "  @keyframes spin {\n",
              "    0% {\n",
              "      border-color: transparent;\n",
              "      border-bottom-color: var(--fill-color);\n",
              "      border-left-color: var(--fill-color);\n",
              "    }\n",
              "    20% {\n",
              "      border-color: transparent;\n",
              "      border-left-color: var(--fill-color);\n",
              "      border-top-color: var(--fill-color);\n",
              "    }\n",
              "    30% {\n",
              "      border-color: transparent;\n",
              "      border-left-color: var(--fill-color);\n",
              "      border-top-color: var(--fill-color);\n",
              "      border-right-color: var(--fill-color);\n",
              "    }\n",
              "    40% {\n",
              "      border-color: transparent;\n",
              "      border-right-color: var(--fill-color);\n",
              "      border-top-color: var(--fill-color);\n",
              "    }\n",
              "    60% {\n",
              "      border-color: transparent;\n",
              "      border-right-color: var(--fill-color);\n",
              "    }\n",
              "    80% {\n",
              "      border-color: transparent;\n",
              "      border-right-color: var(--fill-color);\n",
              "      border-bottom-color: var(--fill-color);\n",
              "    }\n",
              "    90% {\n",
              "      border-color: transparent;\n",
              "      border-bottom-color: var(--fill-color);\n",
              "    }\n",
              "  }\n",
              "</style>\n",
              "\n",
              "  <script>\n",
              "    async function quickchart(key) {\n",
              "      const quickchartButtonEl =\n",
              "        document.querySelector('#' + key + ' button');\n",
              "      quickchartButtonEl.disabled = true;  // To prevent multiple clicks.\n",
              "      quickchartButtonEl.classList.add('colab-df-spinner');\n",
              "      try {\n",
              "        const charts = await google.colab.kernel.invokeFunction(\n",
              "            'suggestCharts', [key], {});\n",
              "      } catch (error) {\n",
              "        console.error('Error during call to suggestCharts:', error);\n",
              "      }\n",
              "      quickchartButtonEl.classList.remove('colab-df-spinner');\n",
              "      quickchartButtonEl.classList.add('colab-df-quickchart-complete');\n",
              "    }\n",
              "    (() => {\n",
              "      let quickchartButtonEl =\n",
              "        document.querySelector('#df-caa0f667-5d28-4ba1-8fb3-296a813b6862 button');\n",
              "      quickchartButtonEl.style.display =\n",
              "        google.colab.kernel.accessAllowed ? 'block' : 'none';\n",
              "    })();\n",
              "  </script>\n",
              "</div>\n",
              "    </div>\n",
              "  </div>\n"
            ],
            "application/vnd.google.colaboratory.intrinsic+json": {
              "type": "dataframe",
              "variable_name": "desc_stats",
              "summary": "{\n  \"name\": \"desc_stats\",\n  \"rows\": 20,\n  \"fields\": [\n    {\n      \"column\": \"count\",\n      \"properties\": {\n        \"dtype\": \"number\",\n        \"std\": 557.9221885003791,\n        \"min\": 147.0,\n        \"max\": 2290.0,\n        \"num_unique_values\": 20,\n        \"samples\": [\n          291.0,\n          1071.0,\n          1075.0\n        ],\n        \"semantic_type\": \"\",\n        \"description\": \"\"\n      }\n    },\n    {\n      \"column\": \"mean\",\n      \"properties\": {\n        \"dtype\": \"number\",\n        \"std\": 0.14285844382856133,\n        \"min\": 0.24541673717623116,\n        \"max\": 0.7400069778455832,\n        \"num_unique_values\": 20,\n        \"samples\": [\n          0.3295192210431704,\n          0.37793693449293414,\n          0.2803550428448861\n        ],\n        \"semantic_type\": \"\",\n        \"description\": \"\"\n      }\n    },\n    {\n      \"column\": \"std\",\n      \"properties\": {\n        \"dtype\": \"number\",\n        \"std\": 0.03878411842818227,\n        \"min\": 0.0992478638577814,\n        \"max\": 0.2325806945253088,\n        \"num_unique_values\": 20,\n        \"samples\": [\n          0.13684067313618273,\n          0.21266376109199484,\n          0.1917743292235511\n        ],\n        \"semantic_type\": \"\",\n        \"description\": \"\"\n      }\n    },\n    {\n      \"column\": \"min\",\n      \"properties\": {\n        \"dtype\": \"number\",\n        \"std\": 0.08414570232321945,\n        \"min\": 0.010612284242639807,\n        \"max\": 0.3670901177633872,\n        \"num_unique_values\": 20,\n        \"samples\": [\n          0.07168148135477763,\n          0.016910228003221478,\n          0.01145908508378773\n        ],\n        \"semantic_type\": \"\",\n        \"description\": \"\"\n      }\n    },\n    {\n      \"column\": \"25%\",\n      \"properties\": {\n        \"dtype\": \"number\",\n        \"std\": 0.1504225068753577,\n        \"min\": 0.1604288112116596,\n        \"max\": 0.6840055133046651,\n        \"num_unique_values\": 20,\n        \"samples\": [\n          0.16757801656463794,\n          0.1648003402340413,\n          0.1604288112116596\n        ],\n        \"semantic_type\": \"\",\n        \"description\": \"\"\n      }\n    },\n    {\n      \"column\": \"50%\",\n      \"properties\": {\n        \"dtype\": \"number\",\n        \"std\": 0.18579807074503615,\n        \"min\": 0.18887772867485353,\n        \"max\": 0.7767714426287317,\n        \"num_unique_values\": 20,\n        \"samples\": [\n          0.37716472333144063,\n          0.3663005817464441,\n          0.18887772867485353\n        ],\n        \"semantic_type\": \"\",\n        \"description\": \"\"\n      }\n    },\n    {\n      \"column\": \"75%\",\n      \"properties\": {\n        \"dtype\": \"number\",\n        \"std\": 0.1745537552075746,\n        \"min\": 0.2701169094559271,\n        \"max\": 0.8120763692656333,\n        \"num_unique_values\": 20,\n        \"samples\": [\n          0.43234229378043965,\n          0.6079269656712992,\n          0.32783518599284955\n        ],\n        \"semantic_type\": \"\",\n        \"description\": \"\"\n      }\n    },\n    {\n      \"column\": \"max\",\n      \"properties\": {\n        \"dtype\": \"number\",\n        \"std\": 0.10644585807754123,\n        \"min\": 0.5067190856986304,\n        \"max\": 0.8686908412096301,\n        \"num_unique_values\": 20,\n        \"samples\": [\n          0.5198851644584584,\n          0.7268275393943414,\n          0.7899201131025604\n        ],\n        \"semantic_type\": \"\",\n        \"description\": \"\"\n      }\n    }\n  ]\n}"
            }
          },
          "metadata": {},
          "execution_count": 17
        }
      ]
    },
    {
      "cell_type": "code",
      "source": [
        "import matplotlib.pyplot as plt\n",
        "import seaborn as sns\n",
        "\n",
        "# Assume 'filtered_df' is your DataFrame and is already defined.\n",
        "\n",
        "# Create the box plot\n",
        "plt.figure(figsize=(12, 8))\n",
        "box_plot = sns.boxplot(x='month', y='NDVI', hue='tillage', data=filtered_df, palette=['white', 'white'])\n",
        "\n",
        "# Set the title\n",
        "plt.title('NDVI by Month and Tillage Regime')\n",
        "\n",
        "# Retrieve the order of the hue\n",
        "hue_order = box_plot.get_legend_handles_labels()[1]\n",
        "\n",
        "# Get the number of months to calculate the total number of boxes per hue category\n",
        "num_months = len(filtered_df['month'].unique())\n",
        "\n",
        "# Iterate through the patches (boxes) and apply the hatching based on 'tillage' type\n",
        "for i, patch in enumerate(box_plot.patches):\n",
        "    # Calculate the hue index, taking into account the number of months\n",
        "    hue_index = (i // num_months) % len(hue_order)\n",
        "    tillage_type = hue_order[hue_index]\n",
        "\n",
        "    if tillage_type == 'MT':\n",
        "        # Apply crosshatch to 'MT' type\n",
        "        patch.set_hatch('///')\n",
        "        patch.set_edgecolor('black')\n",
        "    else:\n",
        "        # 'CT' or other tillage types will be plain white with black edge\n",
        "        patch.set_edgecolor('black')\n",
        "\n",
        "# Remove the legend since we are manually adjusting the colors and hatching\n",
        "box_plot.legend_.remove()\n",
        "\n",
        "# Show the plot\n",
        "plt.show()\n"
      ],
      "metadata": {
        "colab": {
          "base_uri": "https://localhost:8080/",
          "height": 718
        },
        "id": "o7OYh6cLF9GP",
        "executionInfo": {
          "status": "ok",
          "timestamp": 1713342436186,
          "user_tz": -120,
          "elapsed": 835,
          "user": {
            "displayName": "Esbern Holmes",
            "userId": "09779847606818129994"
          }
        },
        "outputId": "8b3ef211-5de2-4786-e22f-1bab5b66d63e"
      },
      "id": "o7OYh6cLF9GP",
      "execution_count": null,
      "outputs": [
        {
          "output_type": "display_data",
          "data": {
            "text/plain": [
              "<IPython.core.display.HTML object>"
            ],
            "text/html": [
              "\n",
              "            <style>\n",
              "                .geemap-dark {\n",
              "                    --jp-widgets-color: white;\n",
              "                    --jp-widgets-label-color: white;\n",
              "                    --jp-ui-font-color1: white;\n",
              "                    --jp-layout-color2: #454545;\n",
              "                    background-color: #383838;\n",
              "                }\n",
              "\n",
              "                .geemap-dark .jupyter-button {\n",
              "                    --jp-layout-color3: #383838;\n",
              "                }\n",
              "\n",
              "                .geemap-colab {\n",
              "                    background-color: var(--colab-primary-surface-color, white);\n",
              "                }\n",
              "\n",
              "                .geemap-colab .jupyter-button {\n",
              "                    --jp-layout-color3: var(--colab-primary-surface-color, white);\n",
              "                }\n",
              "            </style>\n",
              "            "
            ]
          },
          "metadata": {}
        },
        {
          "output_type": "display_data",
          "data": {
            "text/plain": [
              "<Figure size 1200x800 with 1 Axes>"
            ],
            "image/png": "[encoded data removed]"
          },
          "metadata": {}
        }
      ]
    },
    {
      "cell_type": "code",
      "source": [
        "import matplotlib.pyplot as plt\n",
        "import seaborn as sns\n",
        "\n",
        "# Assume 'filtered_df' is your DataFrame and is already defined.\n",
        "\n",
        "# Create the box plot\n",
        "plt.figure(figsize=(12, 8))\n",
        "box_plot = sns.boxplot(x='month', y='NDVI', hue='tillage', data=filtered_df, palette=['white', 'white'])\n",
        "\n",
        "# Set the title\n",
        "plt.title('NDVI by Month and Tillage Regime')\n",
        "\n",
        "# Retrieve the order of the hue\n",
        "hue_order = box_plot.get_legend_handles_labels()[1]\n",
        "\n",
        "# Get the number of months to calculate the total number of boxes per hue category\n",
        "num_months = len(filtered_df['month'].unique())\n",
        "\n",
        "# Define month number to name mapping\n",
        "month_names = {2: \"Feb\", 3: \"Mar\", 4: \"Apr\", 5: \"May\", 6: \"Jun\",\n",
        "               7: \"Jul\", 8: \"Aug\", 9: \"Sep\", 10: \"Oct\", 11: \"Nov\"}\n",
        "\n",
        "# Set x-axis tick labels to month names using the mapping\n",
        "box_plot.set_xticklabels([month_names[int(tick.get_text())] for tick in box_plot.get_xticklabels()])\n",
        "\n",
        "# Iterate through the patches (boxes) and apply the hatching based on 'tillage' type\n",
        "for i, patch in enumerate(box_plot.patches):\n",
        "    # Calculate the hue index, taking into account the number of months\n",
        "    hue_index = (i // num_months) % len(hue_order)\n",
        "    tillage_type = hue_order[hue_index]\n",
        "\n",
        "    if tillage_type == 'MT':\n",
        "        # Apply crosshatch to 'MT' type\n",
        "        patch.set_hatch('///')\n",
        "        patch.set_edgecolor('black')\n",
        "    else:\n",
        "        # 'CT' or other tillage types will be plain white with black edge\n",
        "        patch.set_edgecolor('black')\n",
        "\n",
        "# Remove the legend since we are manually adjusting the colors and hatching\n",
        "box_plot.legend_.remove()\n",
        "\n",
        "# Show the plot\n",
        "plt.show()\n"
      ],
      "metadata": {
        "colab": {
          "base_uri": "https://localhost:8080/",
          "height": 718
        },
        "id": "KXqXIDpgNwB2",
        "executionInfo": {
          "status": "ok",
          "timestamp": 1713343262332,
          "user_tz": -120,
          "elapsed": 1072,
          "user": {
            "displayName": "Esbern Holmes",
            "userId": "09779847606818129994"
          }
        },
        "outputId": "c08dcae5-8262-457d-8ad7-4eabab62e51e"
      },
      "id": "KXqXIDpgNwB2",
      "execution_count": null,
      "outputs": [
        {
          "output_type": "display_data",
          "data": {
            "text/plain": [
              "<IPython.core.display.HTML object>"
            ],
            "text/html": [
              "\n",
              "            <style>\n",
              "                .geemap-dark {\n",
              "                    --jp-widgets-color: white;\n",
              "                    --jp-widgets-label-color: white;\n",
              "                    --jp-ui-font-color1: white;\n",
              "                    --jp-layout-color2: #454545;\n",
              "                    background-color: #383838;\n",
              "                }\n",
              "\n",
              "                .geemap-dark .jupyter-button {\n",
              "                    --jp-layout-color3: #383838;\n",
              "                }\n",
              "\n",
              "                .geemap-colab {\n",
              "                    background-color: var(--colab-primary-surface-color, white);\n",
              "                }\n",
              "\n",
              "                .geemap-colab .jupyter-button {\n",
              "                    --jp-layout-color3: var(--colab-primary-surface-color, white);\n",
              "                }\n",
              "            </style>\n",
              "            "
            ]
          },
          "metadata": {}
        },
        {
          "output_type": "display_data",
          "data": {
            "text/plain": [
              "<Figure size 1200x800 with 1 Axes>"
            ],
            "image/png": "[encoded data removed]"
          },
          "metadata": {}
        }
      ]
    },
    {
      "cell_type": "code",
      "source": [
        "# ANOVA to test differences between groups\n",
        "anova_series = filtered_df.groupby(['month']).apply(\n",
        "    lambda x: stats.f_oneway(x[x['tillage'] == 'MT']['NDVI'], x[x['tillage'] == 'CT']['NDVI'])\n",
        ")\n",
        "anova_results = pd.DataFrame(anova_series.tolist(), index=anova_series.index, columns=['F-Statistic', 'p-Value'])\n",
        "anova_results['Significant'] = anova_results['p-Value'] < 0.05\n",
        "\n",
        "# Outputting ANOVA results\n",
        "print(\"ANOVA Results:\")\n",
        "print(anova_results)\n",
        "\n",
        "# Calculating and plotting confidence intervals\n",
        "confidence_intervals = filtered_df.groupby(['month', 'tillage'])['NDVI'].apply(\n",
        "    lambda x: stats.norm.interval(0.95, loc=x.mean(), scale=x.std()/len(x)**0.5)\n",
        ")\n",
        "\n",
        "print(\"Confidence Intervals:\")\n",
        "print(confidence_intervals)"
      ],
      "metadata": {
        "colab": {
          "base_uri": "https://localhost:8080/",
          "height": 678
        },
        "id": "aHZJLVsvKMKb",
        "executionInfo": {
          "status": "ok",
          "timestamp": 1713337231535,
          "user_tz": -120,
          "elapsed": 248,
          "user": {
            "displayName": "Esbern Holmes",
            "userId": "09779847606818129994"
          }
        },
        "outputId": "c2117dff-0a4a-441e-ca7f-e7dd9c81bc1f"
      },
      "id": "aHZJLVsvKMKb",
      "execution_count": null,
      "outputs": [
        {
          "output_type": "display_data",
          "data": {
            "text/plain": [
              "<IPython.core.display.HTML object>"
            ],
            "text/html": [
              "\n",
              "            <style>\n",
              "                .geemap-dark {\n",
              "                    --jp-widgets-color: white;\n",
              "                    --jp-widgets-label-color: white;\n",
              "                    --jp-ui-font-color1: white;\n",
              "                    --jp-layout-color2: #454545;\n",
              "                    background-color: #383838;\n",
              "                }\n",
              "\n",
              "                .geemap-dark .jupyter-button {\n",
              "                    --jp-layout-color3: #383838;\n",
              "                }\n",
              "\n",
              "                .geemap-colab {\n",
              "                    background-color: var(--colab-primary-surface-color, white);\n",
              "                }\n",
              "\n",
              "                .geemap-colab .jupyter-button {\n",
              "                    --jp-layout-color3: var(--colab-primary-surface-color, white);\n",
              "                }\n",
              "            </style>\n",
              "            "
            ]
          },
          "metadata": {}
        },
        {
          "output_type": "stream",
          "name": "stdout",
          "text": [
            "ANOVA Results:\n",
            "       F-Statistic       p-Value  Significant\n",
            "month                                        \n",
            "2         2.600094  1.072764e-01        False\n",
            "3        45.648983  1.887977e-11         True\n",
            "4        46.982424  9.501919e-12         True\n",
            "5         7.809740  5.228945e-03         True\n",
            "6        80.200740  6.355013e-19         True\n",
            "7         1.561691  2.114905e-01        False\n",
            "8        45.105553  2.224434e-11         True\n",
            "9         2.723922  9.901826e-02        False\n",
            "10       39.922835  3.272754e-10         True\n",
            "11        9.909460  1.801685e-03         True\n",
            "Confidence Intervals:\n",
            "month  tillage\n",
            "2      CT         (0.31379689499496144, 0.34524154709137933)\n",
            "       MT          (0.30659981962930355, 0.3246607560788319)\n",
            "3      CT          (0.36565349370077266, 0.3874986320502232)\n",
            "       MT          (0.32389998447053725, 0.3393415429037743)\n",
            "4      CT          (0.34878020452720704, 0.3729719277204151)\n",
            "       MT          (0.4078578256063108, 0.43002587993794494)\n",
            "5      CT           (0.5244244958138097, 0.5492838938197141)\n",
            "       MT           (0.5494237889706112, 0.5704480611854436)\n",
            "6      CT           (0.6769372294848538, 0.6992791871850687)\n",
            "       MT            (0.734907942816451, 0.7451060128747155)\n",
            "7      CT           (0.5481883186305688, 0.5647779778242771)\n",
            "       MT           (0.5560560289154408, 0.5714934841850245)\n",
            "8      CT          (0.2705134607216873, 0.28505250513298747)\n",
            "       MT         (0.23934816198609649, 0.25148531236636584)\n",
            "9      CT          (0.25849626348180277, 0.2766072119783166)\n",
            "       MT           (0.2688910915765821, 0.2918189941131901)\n",
            "10     CT           (0.3164722741598034, 0.3342648846701928)\n",
            "       MT         (0.36520052992085145, 0.39067333906501683)\n",
            "11     CT         (0.39816502362060247, 0.45642469742623404)\n",
            "       MT           (0.4635547813075198, 0.5132235812660028)\n",
            "Name: NDVI, dtype: object\n"
          ]
        }
      ]
    },
    {
      "cell_type": "code",
      "source": [
        "\n",
        "\n",
        "# Create box plot\n",
        "fig, ax = plt.subplots(figsize=(12, 10))\n",
        "sns.boxplot(x='month', y='NDVI', hue='tillage', data=filtered_df, ax=ax)\n",
        "ax.set_title('Monthly NDVI by Tillage Regime with ANOVA Results')\n",
        "ax.set_xticklabels(ax.get_xticklabels(), ha='right')\n",
        "\n",
        "# Adjust the axes to make room for the table below it\n",
        "plt.subplots_adjust(left=0.2, bottom=0.3)  # Adjust bottom to give more room\n",
        "\n",
        "# Prepare the table data directly below the boxplot\n",
        "f_stats = anova_results['F-Statistic'].round(4).tolist()\n",
        "p_values = ['{:.2e}'.format(p) for p in anova_results['p-Value']]\n",
        "\n",
        "# Add table at the bottom of the axes with row headings and formatted p-values\n",
        "the_table = ax.table(cellText=[f_stats, p_values], rowLabels=['F-Statistic', 'p-Value'], loc='bottom', bbox=[0.0, -0.4, 1.0, 0.3])\n",
        "\n",
        "# Adjusting table font size and layout\n",
        "the_table.auto_set_font_size(False)\n",
        "the_table.set_fontsize(9)\n",
        "the_table.scale(1, 1.5)  # Adjust scale to ensure readability\n",
        "\n",
        "plt.show()\n",
        "\n"
      ],
      "metadata": {
        "colab": {
          "base_uri": "https://localhost:8080/",
          "height": 871
        },
        "id": "dlKMLH81yLqs",
        "executionInfo": {
          "status": "ok",
          "timestamp": 1713337242862,
          "user_tz": -120,
          "elapsed": 1375,
          "user": {
            "displayName": "Esbern Holmes",
            "userId": "09779847606818129994"
          }
        },
        "outputId": "923700f3-3bf3-4c3b-e94c-e03328ac560d"
      },
      "id": "dlKMLH81yLqs",
      "execution_count": null,
      "outputs": [
        {
          "output_type": "display_data",
          "data": {
            "text/plain": [
              "<IPython.core.display.HTML object>"
            ],
            "text/html": [
              "\n",
              "            <style>\n",
              "                .geemap-dark {\n",
              "                    --jp-widgets-color: white;\n",
              "                    --jp-widgets-label-color: white;\n",
              "                    --jp-ui-font-color1: white;\n",
              "                    --jp-layout-color2: #454545;\n",
              "                    background-color: #383838;\n",
              "                }\n",
              "\n",
              "                .geemap-dark .jupyter-button {\n",
              "                    --jp-layout-color3: #383838;\n",
              "                }\n",
              "\n",
              "                .geemap-colab {\n",
              "                    background-color: var(--colab-primary-surface-color, white);\n",
              "                }\n",
              "\n",
              "                .geemap-colab .jupyter-button {\n",
              "                    --jp-layout-color3: var(--colab-primary-surface-color, white);\n",
              "                }\n",
              "            </style>\n",
              "            "
            ]
          },
          "metadata": {}
        },
        {
          "output_type": "display_data",
          "data": {
            "text/plain": [
              "<Figure size 1200x1000 with 1 Axes>"
            ],
            "image/png": "[encoded data removed]"
          },
          "metadata": {}
        }
      ]
    },
    {
      "cell_type": "code",
      "source": [
        "\n",
        "df = pd.DataFrame(climat_data)\n",
        "\n",
        "# Plotting\n",
        "fig, ax1 = plt.subplots(figsize=(14, 7))\n",
        "\n",
        "# Temperature plot (line)\n",
        "ax1.set_xlabel('Month')\n",
        "ax1.set_ylabel('Temperature (\u00b0C)')\n",
        "ax1.plot(df['Month'], df['Average of Maximum Temperature'], linestyle='--', linewidth=2, label='Avg of Max Temp', marker='o')\n",
        "ax1.plot(df['Month'], df['Average Temperature'], linestyle='-', linewidth=2, label='Avg Temp', marker='v')\n",
        "ax1.plot(df['Month'], df['Average of Minimum Temperature'], color=\"black\", linestyle='-.', linewidth=2, label='Avg of Min Temp', marker='s')\n",
        "ax1.tick_params(axis='y')\n",
        "#ax1.legend(loc='upper left')\n",
        "\n",
        "# Precipitation plot (bar) using twin axis\n",
        "ax2 = ax1.twinx()\n",
        "ax2.set_ylabel('Total Precipitation (mm)')\n",
        "ax2.bar(df['Month'], df['Total Precipitation'], color='grey', label='Total Precipitation', alpha=0.6)\n",
        "ax2.tick_params(axis='y')\n",
        "#ax2.legend(loc='upper right')\n",
        "\n",
        "# Title\n",
        "plt.title('Monthly Climate Data: Temperature and Precipitation')\n",
        "\n",
        "plt.show()\n"
      ],
      "metadata": {
        "colab": {
          "base_uri": "https://localhost:8080/",
          "height": 641
        },
        "id": "GethDDJI3Rgf",
        "executionInfo": {
          "status": "ok",
          "timestamp": 1713343667921,
          "user_tz": -120,
          "elapsed": 2011,
          "user": {
            "displayName": "Esbern Holmes",
            "userId": "09779847606818129994"
          }
        },
        "outputId": "7ce6b842-aa4c-459b-8bed-622423120c7d"
      },
      "id": "GethDDJI3Rgf",
      "execution_count": null,
      "outputs": [
        {
          "output_type": "display_data",
          "data": {
            "text/plain": [
              "<IPython.core.display.HTML object>"
            ],
            "text/html": [
              "\n",
              "            <style>\n",
              "                .geemap-dark {\n",
              "                    --jp-widgets-color: white;\n",
              "                    --jp-widgets-label-color: white;\n",
              "                    --jp-ui-font-color1: white;\n",
              "                    --jp-layout-color2: #454545;\n",
              "                    background-color: #383838;\n",
              "                }\n",
              "\n",
              "                .geemap-dark .jupyter-button {\n",
              "                    --jp-layout-color3: #383838;\n",
              "                }\n",
              "\n",
              "                .geemap-colab {\n",
              "                    background-color: var(--colab-primary-surface-color, white);\n",
              "                }\n",
              "\n",
              "                .geemap-colab .jupyter-button {\n",
              "                    --jp-layout-color3: var(--colab-primary-surface-color, white);\n",
              "                }\n",
              "            </style>\n",
              "            "
            ]
          },
          "metadata": {}
        },
        {
          "output_type": "display_data",
          "data": {
            "text/plain": [
              "<Figure size 1400x700 with 2 Axes>"
            ],
            "image/png": "[encoded data removed]"
          },
          "metadata": {}
        }
      ]
    },
    {
      "cell_type": "code",
      "source": [
        "import pandas as pd\n",
        "import matplotlib.pyplot as plt\n",
        "import seaborn as sns\n",
        "\n",
        "# Sample NDVI data (assuming it's preloaded in 'filtered_df')\n",
        "# Sample ANOVA results (assuming it's preloaded in 'anova_results')\n",
        "\n",
        "# Sample climate data\n",
        "climat_data = {\n",
        "    \"Month\": [\"Jan\", \"Feb\", \"Mar\", \"Apr\", \"May\", \"Jun\", \"Jul\", \"Aug\", \"Sep\", \"Oct\", \"Nov\", \"Dec\"],\n",
        "    \"Average of Maximum Temperature\": [3.8, 4, 6.9, 11.6, 16.1, 19.1, 21.1, 21.2, 17.5, 12.8, 8.3, 6],\n",
        "    \"Average Temperature\": [1.9, 1.8, 3.7, 7.4, 11.7, 14.9, 16.7, 16.8, 13.9, 10.1, 6.3, 4.2],\n",
        "    \"Average of Minimum Temperature\": [-0.3, -0.6, 0.8, 3.4, 7.3, 10.6, 12.3, 12.7, 10.4, 7.4, 3.9, 2],\n",
        "    \"Total Precipitation\": [66, 49.3, 43.1, 37.7, 47.4, 66.9, 69.5, 86.1, 82.6, 84.5, 67.4, 81.2]\n",
        "}\n",
        "\n",
        "# Create DataFrame for climate data\n",
        "df_climate = pd.DataFrame(climat_data)\n",
        "\n",
        "# Adjust NDVI data to include January and December with NaNs\n",
        "months_complete = pd.Categorical(df_climate['Month'], categories=df_climate['Month'], ordered=True)\n",
        "filtered_df['month'] = pd.Categorical(filtered_df['month'], categories=months_complete)\n",
        "\n",
        "# Create plots\n",
        "fig, (ax1, ax2) = plt.subplots(2, 1, figsize=(14, 14), gridspec_kw={'height_ratios': [1, 1.5]})\n",
        "\n",
        "# Plot for NDVI data\n",
        "sns.boxplot(x='month', y='NDVI', hue='tillage', data=filtered_df, ax=ax1)\n",
        "ax1.set_title('Monthly NDVI by Tillage Regime with ANOVA Results')\n",
        "ax1.set_xticklabels(ax1.get_xticklabels(), rotation=45, ha='right')\n",
        "\n",
        "# Table of ANOVA results below NDVI plot\n",
        "f_stats = anova_results['F-Statistic'].round(4).tolist()\n",
        "p_values = ['{:.2e}'.format(p) for p in anova_results['p-Value']]\n",
        "the_table = ax1.table(cellText=[f_stats, p_values], rowLabels=['F-Statistic', 'p-Value'], loc='bottom', bbox=[0.0, -0.3, 1.0, 0.2])\n",
        "the_table.auto_set_font_size(False)\n",
        "the_table.set_fontsize(9)\n",
        "the_table.scale(1, 1.5)\n",
        "\n",
        "# Plot for climate data\n",
        "ax2.plot(df_climate['Month'], df_climate['Average of Maximum Temperature'], 'r-o', label='Avg of Max Temp')\n",
        "ax2.plot(df_climate['Month'], df_climate['Average Temperature'], 'g-o', label='Avg Temp')\n",
        "ax2.plot(df_climate['Month'], df_climate['Average of Minimum Temperature'], 'b-o', label='Avg of Min Temp')\n",
        "ax2.bar(df_climate['Month'], df_climate['Total Precipitation'], color='grey', alpha=0.5, label='Total Precipitation')\n",
        "ax2.set_xlabel('Month')\n",
        "ax2.set_ylabel('Temperature (\u00b0C) / Precipitation (mm)')\n",
        "ax2.legend(loc='upper left')\n",
        "\n",
        "plt.subplots_adjust(hspace=0.4)  # Adjust horizontal space between plots\n",
        "plt.show()\n"
      ],
      "metadata": {
        "colab": {
          "base_uri": "https://localhost:8080/",
          "height": 1000
        },
        "id": "974EJLka0t7H",
        "executionInfo": {
          "status": "error",
          "timestamp": 1713291379959,
          "user_tz": -120,
          "elapsed": 378,
          "user": {
            "displayName": "Esbern Holmes",
            "userId": "09779847606818129994"
          }
        },
        "outputId": "638f5dbd-8949-4aa5-b99c-fe8ec1e2f9db"
      },
      "id": "974EJLka0t7H",
      "execution_count": null,
      "outputs": [
        {
          "output_type": "display_data",
          "data": {
            "text/plain": [
              "<IPython.core.display.HTML object>"
            ],
            "text/html": [
              "\n",
              "            <style>\n",
              "                .geemap-dark {\n",
              "                    --jp-widgets-color: white;\n",
              "                    --jp-widgets-label-color: white;\n",
              "                    --jp-ui-font-color1: white;\n",
              "                    --jp-layout-color2: #454545;\n",
              "                    background-color: #383838;\n",
              "                }\n",
              "\n",
              "                .geemap-dark .jupyter-button {\n",
              "                    --jp-layout-color3: #383838;\n",
              "                }\n",
              "\n",
              "                .geemap-colab {\n",
              "                    background-color: var(--colab-primary-surface-color, white);\n",
              "                }\n",
              "\n",
              "                .geemap-colab .jupyter-button {\n",
              "                    --jp-layout-color3: var(--colab-primary-surface-color, white);\n",
              "                }\n",
              "            </style>\n",
              "            "
            ]
          },
          "metadata": {}
        },
        {
          "output_type": "error",
          "ename": "UnboundLocalError",
          "evalue": "local variable 'boxprops' referenced before assignment",
          "traceback": [
            "\u001b[0;31m---------------------------------------------------------------------------\u001b[0m",
            "\u001b[0;31mUnboundLocalError\u001b[0m                         Traceback (most recent call last)",
            "\u001b[0;32m<ipython-input-24-aec43fe5d992>\u001b[0m in \u001b[0;36m<cell line: 28>\u001b[0;34m()\u001b[0m\n\u001b[1;32m     26\u001b[0m \u001b[0;34m\u001b[0m\u001b[0m\n\u001b[1;32m     27\u001b[0m \u001b[0;31m# Plot for NDVI data\u001b[0m\u001b[0;34m\u001b[0m\u001b[0;34m\u001b[0m\u001b[0m\n\u001b[0;32m---> 28\u001b[0;31m \u001b[0msns\u001b[0m\u001b[0;34m.\u001b[0m\u001b[0mboxplot\u001b[0m\u001b[0;34m(\u001b[0m\u001b[0mx\u001b[0m\u001b[0;34m=\u001b[0m\u001b[0;34m'month'\u001b[0m\u001b[0;34m,\u001b[0m \u001b[0my\u001b[0m\u001b[0;34m=\u001b[0m\u001b[0;34m'NDVI'\u001b[0m\u001b[0;34m,\u001b[0m \u001b[0mhue\u001b[0m\u001b[0;34m=\u001b[0m\u001b[0;34m'tillage'\u001b[0m\u001b[0;34m,\u001b[0m \u001b[0mdata\u001b[0m\u001b[0;34m=\u001b[0m\u001b[0mfiltered_df\u001b[0m\u001b[0;34m,\u001b[0m \u001b[0max\u001b[0m\u001b[0;34m=\u001b[0m\u001b[0max1\u001b[0m\u001b[0;34m)\u001b[0m\u001b[0;34m\u001b[0m\u001b[0;34m\u001b[0m\u001b[0m\n\u001b[0m\u001b[1;32m     29\u001b[0m \u001b[0max1\u001b[0m\u001b[0;34m.\u001b[0m\u001b[0mset_title\u001b[0m\u001b[0;34m(\u001b[0m\u001b[0;34m'Monthly NDVI by Tillage Regime with ANOVA Results'\u001b[0m\u001b[0;34m)\u001b[0m\u001b[0;34m\u001b[0m\u001b[0;34m\u001b[0m\u001b[0m\n\u001b[1;32m     30\u001b[0m \u001b[0max1\u001b[0m\u001b[0;34m.\u001b[0m\u001b[0mset_xticklabels\u001b[0m\u001b[0;34m(\u001b[0m\u001b[0max1\u001b[0m\u001b[0;34m.\u001b[0m\u001b[0mget_xticklabels\u001b[0m\u001b[0;34m(\u001b[0m\u001b[0;34m)\u001b[0m\u001b[0;34m,\u001b[0m \u001b[0mrotation\u001b[0m\u001b[0;34m=\u001b[0m\u001b[0;36m45\u001b[0m\u001b[0;34m,\u001b[0m \u001b[0mha\u001b[0m\u001b[0;34m=\u001b[0m\u001b[0;34m'right'\u001b[0m\u001b[0;34m)\u001b[0m\u001b[0;34m\u001b[0m\u001b[0;34m\u001b[0m\u001b[0m\n",
            "\u001b[0;32m/usr/local/lib/python3.10/dist-packages/seaborn/categorical.py\u001b[0m in \u001b[0;36mboxplot\u001b[0;34m(data, x, y, hue, order, hue_order, orient, color, palette, saturation, fill, dodge, width, gap, whis, linecolor, linewidth, fliersize, hue_norm, native_scale, log_scale, formatter, legend, ax, **kwargs)\u001b[0m\n\u001b[1;32m   1631\u001b[0m     \u001b[0mlinecolor\u001b[0m \u001b[0;34m=\u001b[0m \u001b[0mp\u001b[0m\u001b[0;34m.\u001b[0m\u001b[0m_complement_color\u001b[0m\u001b[0;34m(\u001b[0m\u001b[0mlinecolor\u001b[0m\u001b[0;34m,\u001b[0m \u001b[0mcolor\u001b[0m\u001b[0;34m,\u001b[0m \u001b[0mp\u001b[0m\u001b[0;34m.\u001b[0m\u001b[0m_hue_map\u001b[0m\u001b[0;34m)\u001b[0m\u001b[0;34m\u001b[0m\u001b[0;34m\u001b[0m\u001b[0m\n\u001b[1;32m   1632\u001b[0m \u001b[0;34m\u001b[0m\u001b[0m\n\u001b[0;32m-> 1633\u001b[0;31m     p.plot_boxes(\n\u001b[0m\u001b[1;32m   1634\u001b[0m         \u001b[0mwidth\u001b[0m\u001b[0;34m=\u001b[0m\u001b[0mwidth\u001b[0m\u001b[0;34m,\u001b[0m\u001b[0;34m\u001b[0m\u001b[0;34m\u001b[0m\u001b[0m\n\u001b[1;32m   1635\u001b[0m         \u001b[0mdodge\u001b[0m\u001b[0;34m=\u001b[0m\u001b[0mdodge\u001b[0m\u001b[0;34m,\u001b[0m\u001b[0;34m\u001b[0m\u001b[0;34m\u001b[0m\u001b[0m\n",
            "\u001b[0;32m/usr/local/lib/python3.10/dist-packages/seaborn/categorical.py\u001b[0m in \u001b[0;36mplot_boxes\u001b[0;34m(self, width, dodge, gap, fill, whis, color, linecolor, linewidth, fliersize, plot_kws)\u001b[0m\n\u001b[1;32m    742\u001b[0m \u001b[0;34m\u001b[0m\u001b[0m\n\u001b[1;32m    743\u001b[0m         \u001b[0mlegend_artist\u001b[0m \u001b[0;34m=\u001b[0m \u001b[0m_get_patch_legend_artist\u001b[0m\u001b[0;34m(\u001b[0m\u001b[0mfill\u001b[0m\u001b[0;34m)\u001b[0m\u001b[0;34m\u001b[0m\u001b[0;34m\u001b[0m\u001b[0m\n\u001b[0;32m--> 744\u001b[0;31m         \u001b[0mself\u001b[0m\u001b[0;34m.\u001b[0m\u001b[0m_configure_legend\u001b[0m\u001b[0;34m(\u001b[0m\u001b[0max\u001b[0m\u001b[0;34m,\u001b[0m \u001b[0mlegend_artist\u001b[0m\u001b[0;34m,\u001b[0m \u001b[0mboxprops\u001b[0m\u001b[0;34m)\u001b[0m\u001b[0;34m\u001b[0m\u001b[0;34m\u001b[0m\u001b[0m\n\u001b[0m\u001b[1;32m    745\u001b[0m \u001b[0;34m\u001b[0m\u001b[0m\n\u001b[1;32m    746\u001b[0m     def plot_boxens(\n",
            "\u001b[0;31mUnboundLocalError\u001b[0m: local variable 'boxprops' referenced before assignment"
          ]
        },
        {
          "output_type": "display_data",
          "data": {
            "text/plain": [
              "<Figure size 1400x1400 with 2 Axes>"
            ],
            "image/png": "[encoded data removed]"
          },
          "metadata": {}
        }
      ]
    },
    {
      "cell_type": "code",
      "source": [
        "anova_series = pd.Series({\n",
        "    2: (2.6000940499315957, 0.10727637864682718),\n",
        "    3: (45.64898321851796, 1.8879768076119414e-11),\n",
        "    4: (46.98242400805352, 9.501919396649616e-12),\n",
        "    5: (7.80974019887449, 0.005228945052310936),\n",
        "    6: (80.20074048571435, 6.355013018929455e-19),\n",
        "    7: (1.561690913280039, 0.21149052346524505),\n",
        "    8: (45.1055533122589, 2.2244340131326548e-11),\n",
        "    9: (2.7239215781894464, 0.09901825630868766),\n",
        "    10: (39.92283502368312, 3.272753841767112e-10),\n",
        "    11: (9.909460311539735, 0.0018016848375705442)\n",
        "})\n",
        "anova_series"
      ],
      "metadata": {
        "id": "IBTahQ3r1w18"
      },
      "id": "IBTahQ3r1w18",
      "execution_count": null,
      "outputs": []
    },
    {
      "cell_type": "code",
      "source": [
        "anova_results = pd.DataFrame(anova_series.tolist(), index=anova_series.index, columns=['F-Statistic', 'p-Value'])\n",
        "anova_results['Significant'] = anova_results['p-Value'] < 0.05"
      ],
      "metadata": {
        "id": "Eq0yXxcz1y5q"
      },
      "id": "Eq0yXxcz1y5q",
      "execution_count": null,
      "outputs": []
    },
    {
      "cell_type": "code",
      "source": [
        "anova_results\n"
      ],
      "metadata": {
        "id": "M6PjK01M2I9e"
      },
      "id": "M6PjK01M2I9e",
      "execution_count": null,
      "outputs": []
    }
  ],
  "metadata": {
    "kernelspec": {
      "display_name": "Python 3 (ipykernel)",
      "language": "python",
      "name": "python3"
    },
    "language_info": {
      "codemirror_mode": {
        "name": "ipython",
        "version": 3
      },
      "file_extension": ".py",
      "mimetype": "text/x-python",
      "name": "python",
      "nbconvert_exporter": "python",
      "pygments_lexer": "ipython3",
      "version": "3.11.8"
    },
    "colab": {
      "provenance": []
    }
  },
  "nbformat": 4,
  "nbformat_minor": 5
}