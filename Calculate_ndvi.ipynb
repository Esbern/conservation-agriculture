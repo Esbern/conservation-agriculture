{
  "cells": [
    {
      "cell_type": "markdown",
      "metadata": {
        "id": "view-in-github",
        "colab_type": "text"
      },
      "source": [
        "<a href=\"https://colab.research.google.com/github/Esbern/conservation-agriculture/blob/main/Calculate_ndvi.ipynb\" target=\"_parent\"><img src=\"https://colab.research.google.com/assets/colab-badge.svg\" alt=\"Open In Colab\"/></a>"
      ]
    },
    {
      "cell_type": "markdown",
      "id": "450f0b98-6b14-4d35-80db-33df8f18b71c",
      "metadata": {
        "id": "450f0b98-6b14-4d35-80db-33df8f18b71c"
      },
      "source": [
        "# Comparing NDVI for Conservation and non conservation agricultur"
      ]
    },
    {
      "cell_type": "markdown",
      "id": "1d6074d9-6bd6-46c9-85a7-df8d9c114ac6",
      "metadata": {
        "id": "1d6074d9-6bd6-46c9-85a7-df8d9c114ac6"
      },
      "source": [
        "## Defining the Problem\n",
        "We have 8 fields comparison plots with a Conversational and a non conversational agricultural field neighbouring each other. Of these 1 is a  pilot (nr 7) which consists of small subplots with in a larger field is excludes from the NDVI calculation since the subplots are too small to isolate on the landsat image. For"
      ]
    },
    {
      "cell_type": "markdown",
      "id": "57ca57bd-e7a3-4cfd-9dea-f88f93cf78c2",
      "metadata": {
        "id": "57ca57bd-e7a3-4cfd-9dea-f88f93cf78c2"
      },
      "source": [
        "## Overall workflow\n",
        "1. Setup the GEE work environment\n",
        "2. Load the fields from Github\n",
        "3. Extract the Landsat data for the given areas and period\n",
        "4. Identify which pixels are within which fields/treatments (Intersect)\n",
        "5. Process the pixels (Decode quality byte, convert the time stamp to Year, Month Day)\n",
        "6. Join filed/treatment data to the pixels\n",
        "7. Filter pixels for clouds\n",
        "8. Calculate the average NDVI for each Year, Month for each field/treatment"
      ]
    },
    {
      "cell_type": "markdown",
      "id": "fb5541fe-258f-424c-b5b3-d00acac26e6c",
      "metadata": {
        "id": "fb5541fe-258f-424c-b5b3-d00acac26e6c"
      },
      "source": [
        "## Processing"
      ]
    },
    {
      "cell_type": "markdown",
      "id": "e5c9ce10-807a-4baa-b7de-b201bb42a1a6",
      "metadata": {
        "id": "e5c9ce10-807a-4baa-b7de-b201bb42a1a6"
      },
      "source": [
        "### Setup the environment"
      ]
    },
    {
      "cell_type": "code",
      "execution_count": 1,
      "id": "4e03b31c-5aa4-41b5-a709-892664eb5070",
      "metadata": {
        "id": "4e03b31c-5aa4-41b5-a709-892664eb5070"
      },
      "outputs": [],
      "source": [
        "import ee\n",
        "import numpy as np\n",
        "import geemap\n",
        "import os\n",
        "import pandas as pd\n",
        "import geopandas as gpd\n",
        "\n",
        "import matplotlib.pyplot as plt\n",
        "import seaborn as sns\n",
        "import numpy as np\n",
        "from scipy import stats\n"
      ]
    },
    {
      "cell_type": "markdown",
      "id": "d8b721e9-a098-4c9c-b210-9befe55fa02c",
      "metadata": {
        "id": "d8b721e9-a098-4c9c-b210-9befe55fa02c"
      },
      "source": [
        "If the machine is a new one copy the gee credentials"
      ]
    },
    {
      "cell_type": "code",
      "execution_count": 7,
      "id": "244e45ad-14bb-4ce8-80a7-e6292ef77439",
      "metadata": {
        "colab": {
          "base_uri": "https://localhost:8080/",
          "height": 293
        },
        "id": "244e45ad-14bb-4ce8-80a7-e6292ef77439",
        "outputId": "b3778254-ed38-44ac-bf3b-f27a831b4c59"
      },
      "outputs": [
        {
          "output_type": "display_data",
          "data": {
            "text/plain": [
              "<IPython.core.display.HTML object>"
            ],
            "text/html": [
              "\n",
              "            <style>\n",
              "                .geemap-dark {\n",
              "                    --jp-widgets-color: white;\n",
              "                    --jp-widgets-label-color: white;\n",
              "                    --jp-ui-font-color1: white;\n",
              "                    --jp-layout-color2: #454545;\n",
              "                    background-color: #383838;\n",
              "                }\n",
              "\n",
              "                .geemap-dark .jupyter-button {\n",
              "                    --jp-layout-color3: #383838;\n",
              "                }\n",
              "\n",
              "                .geemap-colab {\n",
              "                    background-color: var(--colab-primary-surface-color, white);\n",
              "                }\n",
              "\n",
              "                .geemap-colab .jupyter-button {\n",
              "                    --jp-layout-color3: var(--colab-primary-surface-color, white);\n",
              "                }\n",
              "            </style>\n",
              "            "
            ]
          },
          "metadata": {}
        },
        {
          "output_type": "error",
          "ename": "EEException",
          "evalue": "ee.Initialize: no project found. Call with project= or see http://goo.gle/ee-auth.",
          "traceback": [
            "\u001b[0;31m---------------------------------------------------------------------------\u001b[0m",
            "\u001b[0;31mEEException\u001b[0m                               Traceback (most recent call last)",
            "\u001b[0;32m/tmp/ipython-input-1793181739.py\u001b[0m in \u001b[0;36m<cell line: 0>\u001b[0;34m()\u001b[0m\n\u001b[0;32m----> 1\u001b[0;31m \u001b[0mgeemap\u001b[0m\u001b[0;34m.\u001b[0m\u001b[0mee_initialize\u001b[0m\u001b[0;34m(\u001b[0m\u001b[0;34m)\u001b[0m\u001b[0;34m\u001b[0m\u001b[0;34m\u001b[0m\u001b[0m\n\u001b[0m",
            "\u001b[0;32m/usr/local/lib/python3.11/dist-packages/geemap/coreutils.py\u001b[0m in \u001b[0;36mee_initialize\u001b[0;34m(token_name, auth_mode, auth_args, user_agent_prefix, project, **kwargs)\u001b[0m\n\u001b[1;32m    104\u001b[0m         \u001b[0;32mif\u001b[0m \u001b[0min_colab_shell\u001b[0m\u001b[0;34m(\u001b[0m\u001b[0;34m)\u001b[0m \u001b[0;32mand\u001b[0m \u001b[0;34m(\u001b[0m\u001b[0mee\u001b[0m\u001b[0;34m.\u001b[0m\u001b[0mdata\u001b[0m\u001b[0;34m.\u001b[0m\u001b[0m_credentials\u001b[0m \u001b[0;32mis\u001b[0m \u001b[0;32mNone\u001b[0m\u001b[0;34m)\u001b[0m\u001b[0;34m:\u001b[0m\u001b[0;34m\u001b[0m\u001b[0;34m\u001b[0m\u001b[0m\n\u001b[1;32m    105\u001b[0m             \u001b[0mee\u001b[0m\u001b[0;34m.\u001b[0m\u001b[0mAuthenticate\u001b[0m\u001b[0;34m(\u001b[0m\u001b[0;34m)\u001b[0m\u001b[0;34m\u001b[0m\u001b[0;34m\u001b[0m\u001b[0m\n\u001b[0;32m--> 106\u001b[0;31m             \u001b[0mee\u001b[0m\u001b[0;34m.\u001b[0m\u001b[0mInitialize\u001b[0m\u001b[0;34m(\u001b[0m\u001b[0;34m**\u001b[0m\u001b[0mkwargs\u001b[0m\u001b[0;34m)\u001b[0m\u001b[0;34m\u001b[0m\u001b[0;34m\u001b[0m\u001b[0m\n\u001b[0m\u001b[1;32m    107\u001b[0m             \u001b[0;32mreturn\u001b[0m\u001b[0;34m\u001b[0m\u001b[0;34m\u001b[0m\u001b[0m\n\u001b[1;32m    108\u001b[0m         \u001b[0;32melse\u001b[0m\u001b[0;34m:\u001b[0m\u001b[0;34m\u001b[0m\u001b[0;34m\u001b[0m\u001b[0m\n",
            "\u001b[0;32m/usr/local/lib/python3.11/dist-packages/ee/_utils.py\u001b[0m in \u001b[0;36mwrapper\u001b[0;34m(*args, **kwargs)\u001b[0m\n\u001b[1;32m     36\u001b[0m           \u001b[0;32mif\u001b[0m \u001b[0mnew_key\u001b[0m \u001b[0;32mnot\u001b[0m \u001b[0;32min\u001b[0m \u001b[0mkwargs\u001b[0m\u001b[0;34m:\u001b[0m\u001b[0;34m\u001b[0m\u001b[0;34m\u001b[0m\u001b[0m\n\u001b[1;32m     37\u001b[0m             \u001b[0mkwargs\u001b[0m\u001b[0;34m[\u001b[0m\u001b[0mnew_key\u001b[0m\u001b[0;34m]\u001b[0m \u001b[0;34m=\u001b[0m \u001b[0mold_key_val\u001b[0m\u001b[0;34m\u001b[0m\u001b[0;34m\u001b[0m\u001b[0m\n\u001b[0;32m---> 38\u001b[0;31m       \u001b[0;32mreturn\u001b[0m \u001b[0mfunc\u001b[0m\u001b[0;34m(\u001b[0m\u001b[0;34m*\u001b[0m\u001b[0margs\u001b[0m\u001b[0;34m,\u001b[0m \u001b[0;34m**\u001b[0m\u001b[0mkwargs\u001b[0m\u001b[0;34m)\u001b[0m\u001b[0;34m\u001b[0m\u001b[0;34m\u001b[0m\u001b[0m\n\u001b[0m\u001b[1;32m     39\u001b[0m \u001b[0;34m\u001b[0m\u001b[0m\n\u001b[1;32m     40\u001b[0m     \u001b[0;32mreturn\u001b[0m \u001b[0mwrapper\u001b[0m\u001b[0;34m\u001b[0m\u001b[0;34m\u001b[0m\u001b[0m\n",
            "\u001b[0;32m/usr/local/lib/python3.11/dist-packages/ee/__init__.py\u001b[0m in \u001b[0;36mInitialize\u001b[0;34m(credentials, url, cloud_api_key, http_transport, project)\u001b[0m\n\u001b[1;32m    198\u001b[0m   \u001b[0mempty_project_ok\u001b[0m \u001b[0;34m=\u001b[0m \u001b[0misinstance\u001b[0m\u001b[0;34m(\u001b[0m\u001b[0mcredentials\u001b[0m\u001b[0;34m,\u001b[0m \u001b[0mservice_account\u001b[0m\u001b[0;34m.\u001b[0m\u001b[0mCredentials\u001b[0m\u001b[0;34m)\u001b[0m\u001b[0;34m\u001b[0m\u001b[0;34m\u001b[0m\u001b[0m\n\u001b[1;32m    199\u001b[0m   \u001b[0;32mif\u001b[0m \u001b[0;32mnot\u001b[0m \u001b[0mis_valid_project\u001b[0m \u001b[0;32mand\u001b[0m \u001b[0;32mnot\u001b[0m \u001b[0mempty_project_ok\u001b[0m\u001b[0;34m:\u001b[0m\u001b[0;34m\u001b[0m\u001b[0;34m\u001b[0m\u001b[0m\n\u001b[0;32m--> 200\u001b[0;31m     \u001b[0;32mraise\u001b[0m \u001b[0mEEException\u001b[0m\u001b[0;34m(\u001b[0m\u001b[0mNO_PROJECT_EXCEPTION\u001b[0m\u001b[0;34m)\u001b[0m\u001b[0;34m\u001b[0m\u001b[0;34m\u001b[0m\u001b[0m\n\u001b[0m\u001b[1;32m    201\u001b[0m \u001b[0;34m\u001b[0m\u001b[0m\n\u001b[1;32m    202\u001b[0m   data.initialize(\n",
            "\u001b[0;31mEEException\u001b[0m: ee.Initialize: no project found. Call with project= or see http://goo.gle/ee-auth."
          ]
        }
      ],
      "source": [
        "geemap.ee_initialize()"
      ]
    },
    {
      "cell_type": "markdown",
      "id": "16c1ae99-5bc5-4cc0-8799-eb85b77c59a2",
      "metadata": {
        "id": "16c1ae99-5bc5-4cc0-8799-eb85b77c59a2"
      },
      "source": [
        "### Load Data\n",
        "Load a geojson document that defines the field and treatment type for each pixel"
      ]
    },
    {
      "cell_type": "code",
      "execution_count": 5,
      "id": "b4997637-d695-49ea-b506-1e94b53c25cf",
      "metadata": {
        "colab": {
          "base_uri": "https://localhost:8080/",
          "height": 17
        },
        "id": "b4997637-d695-49ea-b506-1e94b53c25cf",
        "outputId": "9b84bc84-b0e0-42dc-a024-afa37059f2c8"
      },
      "outputs": [
        {
          "output_type": "display_data",
          "data": {
            "text/plain": [
              "<IPython.core.display.HTML object>"
            ],
            "text/html": [
              "\n",
              "            <style>\n",
              "                .geemap-dark {\n",
              "                    --jp-widgets-color: white;\n",
              "                    --jp-widgets-label-color: white;\n",
              "                    --jp-ui-font-color1: white;\n",
              "                    --jp-layout-color2: #454545;\n",
              "                    background-color: #383838;\n",
              "                }\n",
              "\n",
              "                .geemap-dark .jupyter-button {\n",
              "                    --jp-layout-color3: #383838;\n",
              "                }\n",
              "\n",
              "                .geemap-colab {\n",
              "                    background-color: var(--colab-primary-surface-color, white);\n",
              "                }\n",
              "\n",
              "                .geemap-colab .jupyter-button {\n",
              "                    --jp-layout-color3: var(--colab-primary-surface-color, white);\n",
              "                }\n",
              "            </style>\n",
              "            "
            ]
          },
          "metadata": {}
        }
      ],
      "source": [
        "fields = gpd.read_file(\"https://raw.githubusercontent.com/Esbern/conservation-agriculture/main/sampel_fields.geojson\")"
      ]
    },
    {
      "cell_type": "code",
      "execution_count": null,
      "id": "cf80de9d-64ac-45a0-8fc0-e63f5121fead",
      "metadata": {
        "colab": {
          "base_uri": "https://localhost:8080/",
          "height": 621,
          "referenced_widgets": [
            "454e6390e6c94fa49355e39789ac10f5",
            "739a9df18be842bfadc467f0b3510077",
            "47a8afb2b3074909a0510ae06a380ca5",
            "01d692dc588d429a8c021bd0bec79957",
            "e8fdb50713274aaa93aef80257b5df0c",
            "98b03d4ee2634020a7062170c8e4f74a",
            "9b1d36d27eb84eafa05f8cfdc52b847c",
            "c39de26258d14c559cb847c716b9d1ca",
            "b4289704f3ed4898bf3439c1eb468c2f",
            "1200a93846f24bb48c0512d41ca161a5",
            "ffc10f5fc79f439ebf44443b21240f04",
            "98ddc182bd2340c599445e5574bcac14",
            "9981bf88919d46adbba329db258e9b37",
            "150bd4d3ab3b44c5a2ae89dd549c48cd",
            "c1e84e5056d7476bbdac144293f0831b",
            "faa3959b507548918be0dd4bafa7603c",
            "90c90757db6f4be9aed10ddd1bfcd437",
            "8eff6b13ba8e4d3ea6d74c272bf7d3f6",
            "1c4d4e0bcbde43c7aafe2cafcfe4fb5a",
            "c2aced57c91245f48df3deafb640d993",
            "78e94802a4ba4a4f87eafc94a2138c69",
            "277a2f12e36d41afb87bdb3dfef89da3",
            "af6a37754cc44425a35559f3837f651a",
            "f7cf0841ecd8441280ecf8a2df07d429",
            "ed17042c6f3d4003a2fb81c3b694bc88",
            "1864fad16088449c88f352161092f3d0",
            "176506561b51430f9157480d6612d5ee",
            "fe6cb6b294f344f1b7499580004d47e1",
            "9ef8c46cc79f41138d0d8af446685708",
            "0480db34122e4ebfb7eac3b3705fa311",
            "cb8a59e7bc9c48b0aa4ae158e5b29df9",
            "7a39f4cce3294550aa3ea2ae3e6176d6",
            "9102ab2f3d64440b9eb8073547b42750",
            "4f5854b481f94edd901d154ac282fa1e",
            "5e6cf8024c52447fb6b1cf2840c161c2",
            "bd37bc4a9dd34de09dde302e8619aa80",
            "c523cfc9a1fb443fa5e56e36b4ab5c3f",
            "605c438cd03f4a98b75b6bbe9115c121",
            "d00a76b8ae2342da9dac97fda853d5e0"
          ]
        },
        "id": "cf80de9d-64ac-45a0-8fc0-e63f5121fead",
        "outputId": "a2114cef-84a8-4bdf-f3e7-308af8f827e2"
      },
      "outputs": [
        {
          "output_type": "display_data",
          "data": {
            "text/plain": [
              "<IPython.core.display.HTML object>"
            ],
            "text/html": [
              "\n",
              "            <style>\n",
              "                .geemap-dark {\n",
              "                    --jp-widgets-color: white;\n",
              "                    --jp-widgets-label-color: white;\n",
              "                    --jp-ui-font-color1: white;\n",
              "                    --jp-layout-color2: #454545;\n",
              "                    background-color: #383838;\n",
              "                }\n",
              "\n",
              "                .geemap-dark .jupyter-button {\n",
              "                    --jp-layout-color3: #383838;\n",
              "                }\n",
              "\n",
              "                .geemap-colab {\n",
              "                    background-color: var(--colab-primary-surface-color, white);\n",
              "                }\n",
              "\n",
              "                .geemap-colab .jupyter-button {\n",
              "                    --jp-layout-color3: var(--colab-primary-surface-color, white);\n",
              "                }\n",
              "            </style>\n",
              "            "
            ]
          },
          "metadata": {}
        },
        {
          "output_type": "display_data",
          "data": {
            "text/plain": [
              "Map(center=[55, 13], controls=(WidgetControl(options=['position', 'transparent_bg'], widget=SearchDataGUI(chil…"
            ],
            "application/vnd.jupyter.widget-view+json": {
              "version_major": 2,
              "version_minor": 0,
              "model_id": "454e6390e6c94fa49355e39789ac10f5"
            }
          },
          "metadata": {
            "application/vnd.jupyter.widget-view+json": {
              "colab": {
                "custom_widget_manager": {
                  "url": "https://ssl.gstatic.com/colaboratory-static/widgets/colab-cdn-widget-manager/2b70e893a8ba7c0f/manager.min.js"
                }
              }
            }
          }
        }
      ],
      "source": [
        "attribute_to_color = {\n",
        "    'CT': '#FF0000',  # Red\n",
        "    'MT': '#00FF00',  # Green\n",
        "}\n",
        "fields['color'] = fields['tillage'].map(attribute_to_color)\n",
        "Map = geemap.Map(center=(55, 13), zoom=4)\n",
        "Map.add_gdf(fields, layer_name=\"Fields\",\n",
        "            style_callback=lambda x: {'fillColor': x['properties']['color']})\n",
        "Map"
      ]
    },
    {
      "cell_type": "markdown",
      "id": "f5120bda-98fd-4e21-a28e-81335a68e1ea",
      "metadata": {
        "id": "f5120bda-98fd-4e21-a28e-81335a68e1ea"
      },
      "source": [
        "### Extract the Landsat data for the given areas and period"
      ]
    },
    {
      "cell_type": "code",
      "execution_count": 14,
      "id": "987f35c8-e8b7-4a18-9fae-7af2ba8eefc4",
      "metadata": {
        "colab": {
          "base_uri": "https://localhost:8080/",
          "height": 400
        },
        "id": "987f35c8-e8b7-4a18-9fae-7af2ba8eefc4",
        "outputId": "6cc8bdd3-42cb-4a80-f5fc-0c1d68874f2d"
      },
      "outputs": [
        {
          "output_type": "display_data",
          "data": {
            "text/plain": [
              "<IPython.core.display.HTML object>"
            ],
            "text/html": [
              "\n",
              "            <style>\n",
              "                .geemap-dark {\n",
              "                    --jp-widgets-color: white;\n",
              "                    --jp-widgets-label-color: white;\n",
              "                    --jp-ui-font-color1: white;\n",
              "                    --jp-layout-color2: #454545;\n",
              "                    background-color: #383838;\n",
              "                }\n",
              "\n",
              "                .geemap-dark .jupyter-button {\n",
              "                    --jp-layout-color3: #383838;\n",
              "                }\n",
              "\n",
              "                .geemap-colab {\n",
              "                    background-color: var(--colab-primary-surface-color, white);\n",
              "                }\n",
              "\n",
              "                .geemap-colab .jupyter-button {\n",
              "                    --jp-layout-color3: var(--colab-primary-surface-color, white);\n",
              "                }\n",
              "            </style>\n",
              "            "
            ]
          },
          "metadata": {}
        },
        {
          "output_type": "stream",
          "name": "stdout",
          "text": [
            "Could not convert the geojson to ee.Geometry()\n"
          ]
        },
        {
          "output_type": "error",
          "ename": "Exception",
          "evalue": "Earth Engine client library not initialized. See http://goo.gle/ee-auth.",
          "traceback": [
            "\u001b[0;31m---------------------------------------------------------------------------\u001b[0m",
            "\u001b[0;31mEEException\u001b[0m                               Traceback (most recent call last)",
            "\u001b[0;32m/usr/local/lib/python3.11/dist-packages/geemap/coreutils.py\u001b[0m in \u001b[0;36mgeojson_to_ee\u001b[0;34m(geo_json, geodesic, encoding)\u001b[0m\n\u001b[1;32m    762\u001b[0m                     \u001b[0mfeature\u001b[0m\u001b[0;34m[\u001b[0m\u001b[0;34m\"geometry\"\u001b[0m\u001b[0;34m]\u001b[0m\u001b[0;34m[\u001b[0m\u001b[0;34m\"geodesic\"\u001b[0m\u001b[0;34m]\u001b[0m \u001b[0;34m=\u001b[0m \u001b[0mgeodesic\u001b[0m\u001b[0;34m\u001b[0m\u001b[0;34m\u001b[0m\u001b[0m\n\u001b[0;32m--> 763\u001b[0;31m             \u001b[0mfeatures\u001b[0m \u001b[0;34m=\u001b[0m \u001b[0mee\u001b[0m\u001b[0;34m.\u001b[0m\u001b[0mFeatureCollection\u001b[0m\u001b[0;34m(\u001b[0m\u001b[0mgeo_json\u001b[0m\u001b[0;34m)\u001b[0m\u001b[0;34m\u001b[0m\u001b[0;34m\u001b[0m\u001b[0m\n\u001b[0m\u001b[1;32m    764\u001b[0m             \u001b[0;32mreturn\u001b[0m \u001b[0mfeatures\u001b[0m\u001b[0;34m\u001b[0m\u001b[0;34m\u001b[0m\u001b[0m\n",
            "\u001b[0;32m/usr/local/lib/python3.11/dist-packages/ee/computedobject.py\u001b[0m in \u001b[0;36m__call__\u001b[0;34m(cls, *args, **kwargs)\u001b[0m\n\u001b[1;32m     27\u001b[0m     \u001b[0;32melse\u001b[0m\u001b[0;34m:\u001b[0m\u001b[0;34m\u001b[0m\u001b[0;34m\u001b[0m\u001b[0m\n\u001b[0;32m---> 28\u001b[0;31m       \u001b[0;32mreturn\u001b[0m \u001b[0mtype\u001b[0m\u001b[0;34m.\u001b[0m\u001b[0m__call__\u001b[0m\u001b[0;34m(\u001b[0m\u001b[0mcls\u001b[0m\u001b[0;34m,\u001b[0m \u001b[0;34m*\u001b[0m\u001b[0margs\u001b[0m\u001b[0;34m,\u001b[0m \u001b[0;34m**\u001b[0m\u001b[0mkwargs\u001b[0m\u001b[0;34m)\u001b[0m\u001b[0;34m\u001b[0m\u001b[0;34m\u001b[0m\u001b[0m\n\u001b[0m\u001b[1;32m     29\u001b[0m \u001b[0;34m\u001b[0m\u001b[0m\n",
            "\u001b[0;32m/usr/local/lib/python3.11/dist-packages/ee/_utils.py\u001b[0m in \u001b[0;36mwrapper\u001b[0;34m(*args, **kwargs)\u001b[0m\n\u001b[1;32m     37\u001b[0m             \u001b[0mkwargs\u001b[0m\u001b[0;34m[\u001b[0m\u001b[0mnew_key\u001b[0m\u001b[0;34m]\u001b[0m \u001b[0;34m=\u001b[0m \u001b[0mold_key_val\u001b[0m\u001b[0;34m\u001b[0m\u001b[0;34m\u001b[0m\u001b[0m\n\u001b[0;32m---> 38\u001b[0;31m       \u001b[0;32mreturn\u001b[0m \u001b[0mfunc\u001b[0m\u001b[0;34m(\u001b[0m\u001b[0;34m*\u001b[0m\u001b[0margs\u001b[0m\u001b[0;34m,\u001b[0m \u001b[0;34m**\u001b[0m\u001b[0mkwargs\u001b[0m\u001b[0;34m)\u001b[0m\u001b[0;34m\u001b[0m\u001b[0;34m\u001b[0m\u001b[0m\n\u001b[0m\u001b[1;32m     39\u001b[0m \u001b[0;34m\u001b[0m\u001b[0m\n",
            "\u001b[0;32m/usr/local/lib/python3.11/dist-packages/ee/deprecation.py\u001b[0m in \u001b[0;36mWrapper\u001b[0;34m(*args, **kwargs)\u001b[0m\n\u001b[1;32m    123\u001b[0m           \u001b[0m_IssueAssetDeprecationWarning\u001b[0m\u001b[0;34m(\u001b[0m\u001b[0masset\u001b[0m\u001b[0;34m)\u001b[0m\u001b[0;34m\u001b[0m\u001b[0;34m\u001b[0m\u001b[0m\n\u001b[0;32m--> 124\u001b[0;31m       \u001b[0;32mreturn\u001b[0m \u001b[0mfunc\u001b[0m\u001b[0;34m(\u001b[0m\u001b[0;34m*\u001b[0m\u001b[0margs\u001b[0m\u001b[0;34m,\u001b[0m \u001b[0;34m**\u001b[0m\u001b[0mkwargs\u001b[0m\u001b[0;34m)\u001b[0m\u001b[0;34m\u001b[0m\u001b[0;34m\u001b[0m\u001b[0m\n\u001b[0m\u001b[1;32m    125\u001b[0m \u001b[0;34m\u001b[0m\u001b[0m\n",
            "\u001b[0;32m/usr/local/lib/python3.11/dist-packages/ee/featurecollection.py\u001b[0m in \u001b[0;36m__init__\u001b[0;34m(self, args, column)\u001b[0m\n\u001b[1;32m     61\u001b[0m     \"\"\"\n\u001b[0;32m---> 62\u001b[0;31m     \u001b[0mself\u001b[0m\u001b[0;34m.\u001b[0m\u001b[0minitialize\u001b[0m\u001b[0;34m(\u001b[0m\u001b[0;34m)\u001b[0m\u001b[0;34m\u001b[0m\u001b[0;34m\u001b[0m\u001b[0m\n\u001b[0m\u001b[1;32m     63\u001b[0m \u001b[0;34m\u001b[0m\u001b[0m\n",
            "\u001b[0;32m/usr/local/lib/python3.11/dist-packages/ee/featurecollection.py\u001b[0m in \u001b[0;36minitialize\u001b[0;34m(cls)\u001b[0m\n\u001b[1;32m    107\u001b[0m     \u001b[0;32mif\u001b[0m \u001b[0;32mnot\u001b[0m \u001b[0mcls\u001b[0m\u001b[0;34m.\u001b[0m\u001b[0m_initialized\u001b[0m\u001b[0;34m:\u001b[0m\u001b[0;34m\u001b[0m\u001b[0;34m\u001b[0m\u001b[0m\n\u001b[0;32m--> 108\u001b[0;31m       \u001b[0msuper\u001b[0m\u001b[0;34m(\u001b[0m\u001b[0;34m)\u001b[0m\u001b[0;34m.\u001b[0m\u001b[0minitialize\u001b[0m\u001b[0;34m(\u001b[0m\u001b[0;34m)\u001b[0m\u001b[0;34m\u001b[0m\u001b[0;34m\u001b[0m\u001b[0m\n\u001b[0m\u001b[1;32m    109\u001b[0m       \u001b[0mapifunction\u001b[0m\u001b[0;34m.\u001b[0m\u001b[0mApiFunction\u001b[0m\u001b[0;34m.\u001b[0m\u001b[0mimportApi\u001b[0m\u001b[0;34m(\u001b[0m\u001b[0mcls\u001b[0m\u001b[0;34m,\u001b[0m \u001b[0mcls\u001b[0m\u001b[0;34m.\u001b[0m\u001b[0mname\u001b[0m\u001b[0;34m(\u001b[0m\u001b[0;34m)\u001b[0m\u001b[0;34m,\u001b[0m \u001b[0mcls\u001b[0m\u001b[0;34m.\u001b[0m\u001b[0mname\u001b[0m\u001b[0;34m(\u001b[0m\u001b[0;34m)\u001b[0m\u001b[0;34m)\u001b[0m\u001b[0;34m\u001b[0m\u001b[0;34m\u001b[0m\u001b[0m\n",
            "\u001b[0;32m/usr/local/lib/python3.11/dist-packages/ee/collection.py\u001b[0m in \u001b[0;36minitialize\u001b[0;34m(cls)\u001b[0m\n\u001b[1;32m     49\u001b[0m     \u001b[0;32mif\u001b[0m \u001b[0;32mnot\u001b[0m \u001b[0mcls\u001b[0m\u001b[0;34m.\u001b[0m\u001b[0m_initialized\u001b[0m\u001b[0;34m:\u001b[0m\u001b[0;34m\u001b[0m\u001b[0;34m\u001b[0m\u001b[0m\n\u001b[0;32m---> 50\u001b[0;31m       \u001b[0mapifunction\u001b[0m\u001b[0;34m.\u001b[0m\u001b[0mApiFunction\u001b[0m\u001b[0;34m.\u001b[0m\u001b[0mimportApi\u001b[0m\u001b[0;34m(\u001b[0m\u001b[0mcls\u001b[0m\u001b[0;34m,\u001b[0m \u001b[0mcls\u001b[0m\u001b[0;34m.\u001b[0m\u001b[0mname\u001b[0m\u001b[0;34m(\u001b[0m\u001b[0;34m)\u001b[0m\u001b[0;34m,\u001b[0m \u001b[0mcls\u001b[0m\u001b[0;34m.\u001b[0m\u001b[0mname\u001b[0m\u001b[0;34m(\u001b[0m\u001b[0;34m)\u001b[0m\u001b[0;34m)\u001b[0m\u001b[0;34m\u001b[0m\u001b[0;34m\u001b[0m\u001b[0m\n\u001b[0m\u001b[1;32m     51\u001b[0m       apifunction.ApiFunction.importApi(\n",
            "\u001b[0;32m/usr/local/lib/python3.11/dist-packages/ee/_utils.py\u001b[0m in \u001b[0;36mwrapper\u001b[0;34m(*args, **kwargs)\u001b[0m\n\u001b[1;32m     37\u001b[0m             \u001b[0mkwargs\u001b[0m\u001b[0;34m[\u001b[0m\u001b[0mnew_key\u001b[0m\u001b[0;34m]\u001b[0m \u001b[0;34m=\u001b[0m \u001b[0mold_key_val\u001b[0m\u001b[0;34m\u001b[0m\u001b[0;34m\u001b[0m\u001b[0m\n\u001b[0;32m---> 38\u001b[0;31m       \u001b[0;32mreturn\u001b[0m \u001b[0mfunc\u001b[0m\u001b[0;34m(\u001b[0m\u001b[0;34m*\u001b[0m\u001b[0margs\u001b[0m\u001b[0;34m,\u001b[0m \u001b[0;34m**\u001b[0m\u001b[0mkwargs\u001b[0m\u001b[0;34m)\u001b[0m\u001b[0;34m\u001b[0m\u001b[0;34m\u001b[0m\u001b[0m\n\u001b[0m\u001b[1;32m     39\u001b[0m \u001b[0;34m\u001b[0m\u001b[0m\n",
            "\u001b[0;32m/usr/local/lib/python3.11/dist-packages/ee/apifunction.py\u001b[0m in \u001b[0;36mimportApi\u001b[0;34m(cls, target, prefix, type_name, prepend)\u001b[0m\n\u001b[1;32m    196\u001b[0m     \"\"\"\n\u001b[0;32m--> 197\u001b[0;31m     \u001b[0mcls\u001b[0m\u001b[0;34m.\u001b[0m\u001b[0minitialize\u001b[0m\u001b[0;34m(\u001b[0m\u001b[0;34m)\u001b[0m\u001b[0;34m\u001b[0m\u001b[0;34m\u001b[0m\u001b[0m\n\u001b[0m\u001b[1;32m    198\u001b[0m     \u001b[0mprepend\u001b[0m \u001b[0;34m=\u001b[0m \u001b[0mprepend\u001b[0m \u001b[0;32mor\u001b[0m \u001b[0;34m''\u001b[0m\u001b[0;34m\u001b[0m\u001b[0;34m\u001b[0m\u001b[0m\n",
            "\u001b[0;32m/usr/local/lib/python3.11/dist-packages/ee/apifunction.py\u001b[0m in \u001b[0;36minitialize\u001b[0;34m(cls)\u001b[0m\n\u001b[1;32m    160\u001b[0m     \u001b[0;32mif\u001b[0m \u001b[0;32mnot\u001b[0m \u001b[0mcls\u001b[0m\u001b[0;34m.\u001b[0m\u001b[0m_api\u001b[0m\u001b[0;34m:\u001b[0m\u001b[0;34m\u001b[0m\u001b[0;34m\u001b[0m\u001b[0m\n\u001b[0;32m--> 161\u001b[0;31m       \u001b[0msignatures\u001b[0m \u001b[0;34m=\u001b[0m \u001b[0mdata\u001b[0m\u001b[0;34m.\u001b[0m\u001b[0mgetAlgorithms\u001b[0m\u001b[0;34m(\u001b[0m\u001b[0;34m)\u001b[0m\u001b[0;34m\u001b[0m\u001b[0;34m\u001b[0m\u001b[0m\n\u001b[0m\u001b[1;32m    162\u001b[0m       \u001b[0mapi\u001b[0m \u001b[0;34m=\u001b[0m \u001b[0;34m{\u001b[0m\u001b[0;34m}\u001b[0m\u001b[0;34m\u001b[0m\u001b[0;34m\u001b[0m\u001b[0m\n",
            "\u001b[0;32m/usr/local/lib/python3.11/dist-packages/ee/data.py\u001b[0m in \u001b[0;36mgetAlgorithms\u001b[0;34m()\u001b[0m\n\u001b[1;32m   1480\u001b[0m     call = (\n\u001b[0;32m-> 1481\u001b[0;31m         \u001b[0m_get_cloud_projects\u001b[0m\u001b[0;34m(\u001b[0m\u001b[0;34m)\u001b[0m\u001b[0;34m\u001b[0m\u001b[0;34m\u001b[0m\u001b[0m\n\u001b[0m\u001b[1;32m   1482\u001b[0m         \u001b[0;34m.\u001b[0m\u001b[0malgorithms\u001b[0m\u001b[0;34m(\u001b[0m\u001b[0;34m)\u001b[0m\u001b[0;34m\u001b[0m\u001b[0;34m\u001b[0m\u001b[0m\n",
            "\u001b[0;32m/usr/local/lib/python3.11/dist-packages/ee/data.py\u001b[0m in \u001b[0;36m_get_cloud_projects\u001b[0;34m()\u001b[0m\n\u001b[1;32m    351\u001b[0m   \u001b[0;32mif\u001b[0m \u001b[0m_cloud_api_resource\u001b[0m \u001b[0;32mis\u001b[0m \u001b[0;32mNone\u001b[0m\u001b[0;34m:\u001b[0m\u001b[0;34m\u001b[0m\u001b[0;34m\u001b[0m\u001b[0m\n\u001b[0;32m--> 352\u001b[0;31m     \u001b[0;32mraise\u001b[0m \u001b[0mee_exception\u001b[0m\u001b[0;34m.\u001b[0m\u001b[0mEEException\u001b[0m\u001b[0;34m(\u001b[0m\u001b[0m_NOT_INITIALIZED_MESSAGE\u001b[0m\u001b[0;34m)\u001b[0m\u001b[0;34m\u001b[0m\u001b[0;34m\u001b[0m\u001b[0m\n\u001b[0m\u001b[1;32m    353\u001b[0m   \u001b[0;32mreturn\u001b[0m \u001b[0m_cloud_api_resource\u001b[0m\u001b[0;34m.\u001b[0m\u001b[0mprojects\u001b[0m\u001b[0;34m(\u001b[0m\u001b[0;34m)\u001b[0m\u001b[0;34m\u001b[0m\u001b[0;34m\u001b[0m\u001b[0m\n",
            "\u001b[0;31mEEException\u001b[0m: Earth Engine client library not initialized. See http://goo.gle/ee-auth.",
            "\nDuring handling of the above exception, another exception occurred:\n",
            "\u001b[0;31mException\u001b[0m                                 Traceback (most recent call last)",
            "\u001b[0;32m/tmp/ipython-input-2729932308.py\u001b[0m in \u001b[0;36m<cell line: 0>\u001b[0;34m()\u001b[0m\n\u001b[1;32m      1\u001b[0m \u001b[0;31m# Convert Dataframe to ee object\u001b[0m\u001b[0;34m\u001b[0m\u001b[0;34m\u001b[0m\u001b[0m\n\u001b[0;32m----> 2\u001b[0;31m \u001b[0mfields_ee\u001b[0m \u001b[0;34m=\u001b[0m \u001b[0mgeemap\u001b[0m\u001b[0;34m.\u001b[0m\u001b[0mgeopandas_to_ee\u001b[0m\u001b[0;34m(\u001b[0m\u001b[0mfields\u001b[0m\u001b[0;34m)\u001b[0m\u001b[0;34m\u001b[0m\u001b[0;34m\u001b[0m\u001b[0m\n\u001b[0m",
            "\u001b[0;32m/usr/local/lib/python3.11/dist-packages/geemap/common.py\u001b[0m in \u001b[0;36mgdf_to_ee\u001b[0;34m(gdf, geodesic, date, date_format)\u001b[0m\n\u001b[1;32m   8961\u001b[0m     \u001b[0mgdf\u001b[0m\u001b[0;34m.\u001b[0m\u001b[0mto_file\u001b[0m\u001b[0;34m(\u001b[0m\u001b[0mout_json\u001b[0m\u001b[0;34m,\u001b[0m \u001b[0mdriver\u001b[0m\u001b[0;34m=\u001b[0m\u001b[0;34m\"GeoJSON\"\u001b[0m\u001b[0;34m)\u001b[0m\u001b[0;34m\u001b[0m\u001b[0;34m\u001b[0m\u001b[0m\n\u001b[1;32m   8962\u001b[0m \u001b[0;34m\u001b[0m\u001b[0m\n\u001b[0;32m-> 8963\u001b[0;31m     \u001b[0mfc\u001b[0m \u001b[0;34m=\u001b[0m \u001b[0mgeojson_to_ee\u001b[0m\u001b[0;34m(\u001b[0m\u001b[0mout_json\u001b[0m\u001b[0;34m,\u001b[0m \u001b[0mgeodesic\u001b[0m\u001b[0;34m=\u001b[0m\u001b[0mgeodesic\u001b[0m\u001b[0;34m)\u001b[0m\u001b[0;34m\u001b[0m\u001b[0;34m\u001b[0m\u001b[0m\n\u001b[0m\u001b[1;32m   8964\u001b[0m \u001b[0;34m\u001b[0m\u001b[0m\n\u001b[1;32m   8965\u001b[0m     \u001b[0;32mif\u001b[0m \u001b[0mdate\u001b[0m \u001b[0;32mis\u001b[0m \u001b[0;32mnot\u001b[0m \u001b[0;32mNone\u001b[0m\u001b[0;34m:\u001b[0m\u001b[0;34m\u001b[0m\u001b[0;34m\u001b[0m\u001b[0m\n",
            "\u001b[0;32m/usr/local/lib/python3.11/dist-packages/geemap/coreutils.py\u001b[0m in \u001b[0;36mgeojson_to_ee\u001b[0;34m(geo_json, geodesic, encoding)\u001b[0m\n\u001b[1;32m    790\u001b[0m     \u001b[0;32mexcept\u001b[0m \u001b[0mException\u001b[0m \u001b[0;32mas\u001b[0m \u001b[0me\u001b[0m\u001b[0;34m:\u001b[0m\u001b[0;34m\u001b[0m\u001b[0;34m\u001b[0m\u001b[0m\n\u001b[1;32m    791\u001b[0m         \u001b[0mprint\u001b[0m\u001b[0;34m(\u001b[0m\u001b[0;34m\"Could not convert the geojson to ee.Geometry()\"\u001b[0m\u001b[0;34m)\u001b[0m\u001b[0;34m\u001b[0m\u001b[0;34m\u001b[0m\u001b[0m\n\u001b[0;32m--> 792\u001b[0;31m         \u001b[0;32mraise\u001b[0m \u001b[0mException\u001b[0m\u001b[0;34m(\u001b[0m\u001b[0me\u001b[0m\u001b[0;34m)\u001b[0m\u001b[0;34m\u001b[0m\u001b[0;34m\u001b[0m\u001b[0m\n\u001b[0m",
            "\u001b[0;31mException\u001b[0m: Earth Engine client library not initialized. See http://goo.gle/ee-auth."
          ]
        }
      ],
      "source": [
        "# Convert Dataframe to ee object\n",
        "fields_ee = geemap.geopandas_to_ee(fields)"
      ]
    },
    {
      "cell_type": "code",
      "execution_count": null,
      "id": "f44a2a66-1b80-4706-9b3a-96464c9aff82",
      "metadata": {
        "colab": {
          "base_uri": "https://localhost:8080/",
          "height": 68
        },
        "id": "f44a2a66-1b80-4706-9b3a-96464c9aff82",
        "outputId": "6e8598be-184e-4fbc-e322-313cf72f0b9f"
      },
      "outputs": [
        {
          "output_type": "display_data",
          "data": {
            "text/plain": [
              "<IPython.core.display.HTML object>"
            ],
            "text/html": [
              "\n",
              "            <style>\n",
              "                .geemap-dark {\n",
              "                    --jp-widgets-color: white;\n",
              "                    --jp-widgets-label-color: white;\n",
              "                    --jp-ui-font-color1: white;\n",
              "                    --jp-layout-color2: #454545;\n",
              "                    background-color: #383838;\n",
              "                }\n",
              "\n",
              "                .geemap-dark .jupyter-button {\n",
              "                    --jp-layout-color3: #383838;\n",
              "                }\n",
              "\n",
              "                .geemap-colab {\n",
              "                    background-color: var(--colab-primary-surface-color, white);\n",
              "                }\n",
              "\n",
              "                .geemap-colab .jupyter-button {\n",
              "                    --jp-layout-color3: var(--colab-primary-surface-color, white);\n",
              "                }\n",
              "            </style>\n",
              "            "
            ]
          },
          "metadata": {}
        },
        {
          "output_type": "execute_result",
          "data": {
            "text/plain": [
              "<ee.ee_number.Number at 0x7c166601d8a0>"
            ],
            "text/html": [
              "<div><style>:root {\n",
              "  --font-color-primary: var(--jp-content-font-color0, rgba(0, 0, 0, 1));\n",
              "  --font-color-secondary: var(--jp-content-font-color2, rgba(0, 0, 0, 0.6));\n",
              "  --font-color-accent: rgba(123, 31, 162, 1);\n",
              "  --border-color: var(--jp-border-color2, #e0e0e0);\n",
              "  --background-color: var(--jp-layout-color0, white);\n",
              "  --background-color-row-even: var(--jp-layout-color1, white);\n",
              "  --background-color-row-odd: var(--jp-layout-color2, #eeeeee);\n",
              "}\n",
              "\n",
              "html[theme=\"dark\"],\n",
              "body[data-theme=\"dark\"],\n",
              "body.vscode-dark {\n",
              "  --font-color-primary: rgba(255, 255, 255, 1);\n",
              "  --font-color-secondary: rgba(255, 255, 255, 0.6);\n",
              "  --font-color-accent: rgb(173, 132, 190);\n",
              "  --border-color: #2e2e2e;\n",
              "  --background-color: #111111;\n",
              "  --background-color-row-even: #111111;\n",
              "  --background-color-row-odd: #313131;\n",
              "}\n",
              "\n",
              ".ee {\n",
              "  padding: 1em;\n",
              "  line-height: 1.5em;\n",
              "  min-width: 300px;\n",
              "  max-width: 1200px;\n",
              "  overflow-y: scroll;\n",
              "  max-height: 600px;\n",
              "  border: 1px solid var(--border-color);\n",
              "  font-family: monospace;\n",
              "}\n",
              "\n",
              ".ee li {\n",
              "  list-style-type: none;\n",
              "}\n",
              "\n",
              ".ee ul {\n",
              "  padding-left: 1.5em !important;\n",
              "  margin: 0;\n",
              "}\n",
              "\n",
              ".ee > ul {\n",
              "  padding-left: 0 !important;\n",
              "}\n",
              "\n",
              ".ee-open,\n",
              ".ee-shut {\n",
              "  color: var(--font-color-secondary);\n",
              "  cursor: pointer;\n",
              "  margin: 0;\n",
              "}\n",
              "\n",
              ".ee-open:hover,\n",
              ".ee-shut:hover {\n",
              "  color: var(--font-color-primary);\n",
              "}\n",
              "\n",
              ".ee-k {\n",
              "  color: var(--font-color-accent);\n",
              "  margin-right: 6px;\n",
              "}\n",
              "\n",
              ".ee-v {\n",
              "  color: var(--font-color-primary);\n",
              "}\n",
              "\n",
              ".ee-toggle {\n",
              "  display: none;\n",
              "}\n",
              "\n",
              ".ee-shut + ul {\n",
              "  display: none;\n",
              "}\n",
              "\n",
              ".ee-open + ul {\n",
              "  display: block;\n",
              "}\n",
              "\n",
              ".ee-shut::before {\n",
              "  display: inline-block;\n",
              "  content: \"▼\";\n",
              "  margin-right: 6px;\n",
              "  transform: rotate(-90deg);\n",
              "  transition: transform 0.2s;\n",
              "}\n",
              "\n",
              ".ee-open::before {\n",
              "  transform: rotate(0deg);\n",
              "  display: inline-block;\n",
              "  content: \"▼\";\n",
              "  margin-right: 6px;\n",
              "  transition: transform 0.2s;\n",
              "}\n",
              "</style><div class='ee'><ul><li><span class='ee-v'>285</span></li></ul></div><script>function toggleHeader() {\n",
              "    const parent = this.parentElement;\n",
              "    parent.className = parent.className === \"ee-open\" ? \"ee-shut\" : \"ee-open\";\n",
              "}\n",
              "\n",
              "for (let c of document.getElementsByClassName(\"ee-toggle\")) {\n",
              "    c.onclick = toggleHeader;\n",
              "}</script></div>"
            ]
          },
          "metadata": {},
          "execution_count": 6
        }
      ],
      "source": [
        "# Identify Landsat images covering the fields for the given priod\n",
        "L7 = ee.ImageCollection(\"LANDSAT/LE07/C02/T1_TOA\")\n",
        "col = L7 \\\n",
        "  .filterBounds(fields_ee) \\\n",
        "  .filterDate('2010-01-01', '2016-01-01') \\\n",
        "  .select('B3','B4','QA_PIXEL')\n",
        "count = col.size()\n",
        "count\n"
      ]
    },
    {
      "cell_type": "code",
      "execution_count": null,
      "id": "50e284e3-4172-4101-a471-c09ecf2bac62",
      "metadata": {
        "colab": {
          "base_uri": "https://localhost:8080/",
          "height": 17
        },
        "id": "50e284e3-4172-4101-a471-c09ecf2bac62",
        "outputId": "9d94ba47-a4db-450f-d755-907238039171"
      },
      "outputs": [
        {
          "output_type": "display_data",
          "data": {
            "text/plain": [
              "<IPython.core.display.HTML object>"
            ],
            "text/html": [
              "\n",
              "            <style>\n",
              "                .geemap-dark {\n",
              "                    --jp-widgets-color: white;\n",
              "                    --jp-widgets-label-color: white;\n",
              "                    --jp-ui-font-color1: white;\n",
              "                    --jp-layout-color2: #454545;\n",
              "                    background-color: #383838;\n",
              "                }\n",
              "\n",
              "                .geemap-dark .jupyter-button {\n",
              "                    --jp-layout-color3: #383838;\n",
              "                }\n",
              "\n",
              "                .geemap-colab {\n",
              "                    background-color: var(--colab-primary-surface-color, white);\n",
              "                }\n",
              "\n",
              "                .geemap-colab .jupyter-button {\n",
              "                    --jp-layout-color3: var(--colab-primary-surface-color, white);\n",
              "                }\n",
              "            </style>\n",
              "            "
            ]
          },
          "metadata": {}
        }
      ],
      "source": [
        "# Collect the pixel values and convert them to a local dataframe\n",
        "\n",
        "pixelInfoBbox= col.getRegion(geometry=fields_ee,scale=30)\n",
        "pixelList = pixelInfoBbox.getInfo()\n",
        "all_pixels_df = pd.DataFrame(pixelList[1:], columns=pixelList[0])"
      ]
    },
    {
      "cell_type": "markdown",
      "id": "6c72cfff-6fbd-4d91-a50e-4561d0e37bb1",
      "metadata": {
        "id": "6c72cfff-6fbd-4d91-a50e-4561d0e37bb1"
      },
      "source": [
        "### Identify which pixels are within which fields/treatments (Intersect)\n"
      ]
    },
    {
      "cell_type": "code",
      "execution_count": null,
      "id": "c5f833b5-d466-449a-bddc-6088f6a12848",
      "metadata": {
        "colab": {
          "base_uri": "https://localhost:8080/",
          "height": 17
        },
        "id": "c5f833b5-d466-449a-bddc-6088f6a12848",
        "outputId": "2fe94d92-be0a-464b-b255-776a2a0456e1"
      },
      "outputs": [
        {
          "output_type": "display_data",
          "data": {
            "text/plain": [
              "<IPython.core.display.HTML object>"
            ],
            "text/html": [
              "\n",
              "            <style>\n",
              "                .geemap-dark {\n",
              "                    --jp-widgets-color: white;\n",
              "                    --jp-widgets-label-color: white;\n",
              "                    --jp-ui-font-color1: white;\n",
              "                    --jp-layout-color2: #454545;\n",
              "                    background-color: #383838;\n",
              "                }\n",
              "\n",
              "                .geemap-dark .jupyter-button {\n",
              "                    --jp-layout-color3: #383838;\n",
              "                }\n",
              "\n",
              "                .geemap-colab {\n",
              "                    background-color: var(--colab-primary-surface-color, white);\n",
              "                }\n",
              "\n",
              "                .geemap-colab .jupyter-button {\n",
              "                    --jp-layout-color3: var(--colab-primary-surface-color, white);\n",
              "                }\n",
              "            </style>\n",
              "            "
            ]
          },
          "metadata": {}
        }
      ],
      "source": [
        "#Extract all unique pixel coordinates and convert them to a GeoPandas dataframe\n",
        "pixel_df = all_pixels_df.groupby(['longitude', 'latitude']).size().reset_index(name='counts')\n",
        "pixels_gdf = gpd.GeoDataFrame(\n",
        "    pixel_df, geometry=gpd.points_from_xy(pixel_df.longitude, pixel_df.latitude), crs=\"EPSG:4326\"\n",
        ")\n",
        "pixel_fields_gdf = gpd.overlay( pixels_gdf,fields, how='intersection')"
      ]
    },
    {
      "cell_type": "code",
      "execution_count": 8,
      "id": "b31a8379-c80f-44c3-9638-01f78b0310c2",
      "metadata": {
        "colab": {
          "base_uri": "https://localhost:8080/",
          "height": 365
        },
        "id": "b31a8379-c80f-44c3-9638-01f78b0310c2",
        "outputId": "42582cb6-fd87-444f-bd50-a5e82be44d68"
      },
      "outputs": [
        {
          "output_type": "display_data",
          "data": {
            "text/plain": [
              "<IPython.core.display.HTML object>"
            ],
            "text/html": [
              "\n",
              "            <style>\n",
              "                .geemap-dark {\n",
              "                    --jp-widgets-color: white;\n",
              "                    --jp-widgets-label-color: white;\n",
              "                    --jp-ui-font-color1: white;\n",
              "                    --jp-layout-color2: #454545;\n",
              "                    background-color: #383838;\n",
              "                }\n",
              "\n",
              "                .geemap-dark .jupyter-button {\n",
              "                    --jp-layout-color3: #383838;\n",
              "                }\n",
              "\n",
              "                .geemap-colab {\n",
              "                    background-color: var(--colab-primary-surface-color, white);\n",
              "                }\n",
              "\n",
              "                .geemap-colab .jupyter-button {\n",
              "                    --jp-layout-color3: var(--colab-primary-surface-color, white);\n",
              "                }\n",
              "            </style>\n",
              "            "
            ]
          },
          "metadata": {}
        },
        {
          "output_type": "error",
          "ename": "EEException",
          "evalue": "ee.Initialize: no project found. Call with project= or see http://goo.gle/ee-auth.",
          "traceback": [
            "\u001b[0;31m---------------------------------------------------------------------------\u001b[0m",
            "\u001b[0;31mEEException\u001b[0m                               Traceback (most recent call last)",
            "\u001b[0;32m/tmp/ipython-input-3247521940.py\u001b[0m in \u001b[0;36m<cell line: 0>\u001b[0;34m()\u001b[0m\n\u001b[1;32m      7\u001b[0m     }\n\u001b[1;32m      8\u001b[0m \u001b[0;34m\u001b[0m\u001b[0m\n\u001b[0;32m----> 9\u001b[0;31m \u001b[0mMap\u001b[0m \u001b[0;34m=\u001b[0m \u001b[0mgeemap\u001b[0m\u001b[0;34m.\u001b[0m\u001b[0mMap\u001b[0m\u001b[0;34m(\u001b[0m\u001b[0mcenter\u001b[0m\u001b[0;34m=\u001b[0m\u001b[0;34m(\u001b[0m\u001b[0;36m55\u001b[0m\u001b[0;34m,\u001b[0m \u001b[0;36m13\u001b[0m\u001b[0;34m)\u001b[0m\u001b[0;34m,\u001b[0m \u001b[0mzoom\u001b[0m\u001b[0;34m=\u001b[0m\u001b[0;36m4\u001b[0m\u001b[0;34m)\u001b[0m\u001b[0;34m\u001b[0m\u001b[0;34m\u001b[0m\u001b[0m\n\u001b[0m\u001b[1;32m     10\u001b[0m Map.add_gdf(fields, layer_name=\"Fields\",\n\u001b[1;32m     11\u001b[0m             style_callback=lambda x: {'fillColor': x['properties']['color']})\n",
            "\u001b[0;32m/usr/local/lib/python3.11/dist-packages/geemap/geemap.py\u001b[0m in \u001b[0;36m__init__\u001b[0;34m(self, **kwargs)\u001b[0m\n\u001b[1;32m    157\u001b[0m         \u001b[0mself\u001b[0m\u001b[0;34m.\u001b[0m\u001b[0m_USER_AGENT_PREFIX\u001b[0m \u001b[0;34m=\u001b[0m \u001b[0;34m\"geemap\"\u001b[0m\u001b[0;34m\u001b[0m\u001b[0;34m\u001b[0m\u001b[0m\n\u001b[1;32m    158\u001b[0m         \u001b[0mself\u001b[0m\u001b[0;34m.\u001b[0m\u001b[0mkwargs\u001b[0m \u001b[0;34m=\u001b[0m \u001b[0mkwargs\u001b[0m\u001b[0;34m\u001b[0m\u001b[0;34m\u001b[0m\u001b[0m\n\u001b[0;32m--> 159\u001b[0;31m         \u001b[0msuper\u001b[0m\u001b[0;34m(\u001b[0m\u001b[0;34m)\u001b[0m\u001b[0;34m.\u001b[0m\u001b[0m__init__\u001b[0m\u001b[0;34m(\u001b[0m\u001b[0;34m**\u001b[0m\u001b[0mkwargs\u001b[0m\u001b[0;34m)\u001b[0m\u001b[0;34m\u001b[0m\u001b[0;34m\u001b[0m\u001b[0m\n\u001b[0m\u001b[1;32m    160\u001b[0m         \u001b[0mself\u001b[0m\u001b[0;34m.\u001b[0m\u001b[0m_var_name\u001b[0m \u001b[0;34m=\u001b[0m \u001b[0;34m\"Map\"\u001b[0m  \u001b[0;31m# The Map variable name for converting JS to Python\u001b[0m\u001b[0;34m\u001b[0m\u001b[0;34m\u001b[0m\u001b[0m\n\u001b[1;32m    161\u001b[0m \u001b[0;34m\u001b[0m\u001b[0m\n",
            "\u001b[0;32m/usr/local/lib/python3.11/dist-packages/geemap/core.py\u001b[0m in \u001b[0;36m__init__\u001b[0;34m(self, **kwargs)\u001b[0m\n\u001b[1;32m    727\u001b[0m         \u001b[0;31m# Authenticate and initialize EE.\u001b[0m\u001b[0;34m\u001b[0m\u001b[0;34m\u001b[0m\u001b[0m\n\u001b[1;32m    728\u001b[0m         \u001b[0;32mif\u001b[0m \u001b[0mkwargs\u001b[0m\u001b[0;34m.\u001b[0m\u001b[0mget\u001b[0m\u001b[0;34m(\u001b[0m\u001b[0;34m\"ee_initialize\"\u001b[0m\u001b[0;34m,\u001b[0m \u001b[0;32mTrue\u001b[0m\u001b[0;34m)\u001b[0m\u001b[0;34m:\u001b[0m\u001b[0;34m\u001b[0m\u001b[0;34m\u001b[0m\u001b[0m\n\u001b[0;32m--> 729\u001b[0;31m             \u001b[0mcoreutils\u001b[0m\u001b[0;34m.\u001b[0m\u001b[0mee_initialize\u001b[0m\u001b[0;34m(\u001b[0m\u001b[0muser_agent_prefix\u001b[0m\u001b[0;34m=\u001b[0m\u001b[0mself\u001b[0m\u001b[0;34m.\u001b[0m\u001b[0m_USER_AGENT_PREFIX\u001b[0m\u001b[0;34m)\u001b[0m\u001b[0;34m\u001b[0m\u001b[0;34m\u001b[0m\u001b[0m\n\u001b[0m\u001b[1;32m    730\u001b[0m \u001b[0;34m\u001b[0m\u001b[0m\n\u001b[1;32m    731\u001b[0m         \u001b[0;31m# Listen for layers being added/removed so we can update the layer manager.\u001b[0m\u001b[0;34m\u001b[0m\u001b[0;34m\u001b[0m\u001b[0m\n",
            "\u001b[0;32m/usr/local/lib/python3.11/dist-packages/geemap/coreutils.py\u001b[0m in \u001b[0;36mee_initialize\u001b[0;34m(token_name, auth_mode, auth_args, user_agent_prefix, project, **kwargs)\u001b[0m\n\u001b[1;32m    104\u001b[0m         \u001b[0;32mif\u001b[0m \u001b[0min_colab_shell\u001b[0m\u001b[0;34m(\u001b[0m\u001b[0;34m)\u001b[0m \u001b[0;32mand\u001b[0m \u001b[0;34m(\u001b[0m\u001b[0mee\u001b[0m\u001b[0;34m.\u001b[0m\u001b[0mdata\u001b[0m\u001b[0;34m.\u001b[0m\u001b[0m_credentials\u001b[0m \u001b[0;32mis\u001b[0m \u001b[0;32mNone\u001b[0m\u001b[0;34m)\u001b[0m\u001b[0;34m:\u001b[0m\u001b[0;34m\u001b[0m\u001b[0;34m\u001b[0m\u001b[0m\n\u001b[1;32m    105\u001b[0m             \u001b[0mee\u001b[0m\u001b[0;34m.\u001b[0m\u001b[0mAuthenticate\u001b[0m\u001b[0;34m(\u001b[0m\u001b[0;34m)\u001b[0m\u001b[0;34m\u001b[0m\u001b[0;34m\u001b[0m\u001b[0m\n\u001b[0;32m--> 106\u001b[0;31m             \u001b[0mee\u001b[0m\u001b[0;34m.\u001b[0m\u001b[0mInitialize\u001b[0m\u001b[0;34m(\u001b[0m\u001b[0;34m**\u001b[0m\u001b[0mkwargs\u001b[0m\u001b[0;34m)\u001b[0m\u001b[0;34m\u001b[0m\u001b[0;34m\u001b[0m\u001b[0m\n\u001b[0m\u001b[1;32m    107\u001b[0m             \u001b[0;32mreturn\u001b[0m\u001b[0;34m\u001b[0m\u001b[0;34m\u001b[0m\u001b[0m\n\u001b[1;32m    108\u001b[0m         \u001b[0;32melse\u001b[0m\u001b[0;34m:\u001b[0m\u001b[0;34m\u001b[0m\u001b[0;34m\u001b[0m\u001b[0m\n",
            "\u001b[0;32m/usr/local/lib/python3.11/dist-packages/ee/_utils.py\u001b[0m in \u001b[0;36mwrapper\u001b[0;34m(*args, **kwargs)\u001b[0m\n\u001b[1;32m     36\u001b[0m           \u001b[0;32mif\u001b[0m \u001b[0mnew_key\u001b[0m \u001b[0;32mnot\u001b[0m \u001b[0;32min\u001b[0m \u001b[0mkwargs\u001b[0m\u001b[0;34m:\u001b[0m\u001b[0;34m\u001b[0m\u001b[0;34m\u001b[0m\u001b[0m\n\u001b[1;32m     37\u001b[0m             \u001b[0mkwargs\u001b[0m\u001b[0;34m[\u001b[0m\u001b[0mnew_key\u001b[0m\u001b[0;34m]\u001b[0m \u001b[0;34m=\u001b[0m \u001b[0mold_key_val\u001b[0m\u001b[0;34m\u001b[0m\u001b[0;34m\u001b[0m\u001b[0m\n\u001b[0;32m---> 38\u001b[0;31m       \u001b[0;32mreturn\u001b[0m \u001b[0mfunc\u001b[0m\u001b[0;34m(\u001b[0m\u001b[0;34m*\u001b[0m\u001b[0margs\u001b[0m\u001b[0;34m,\u001b[0m \u001b[0;34m**\u001b[0m\u001b[0mkwargs\u001b[0m\u001b[0;34m)\u001b[0m\u001b[0;34m\u001b[0m\u001b[0;34m\u001b[0m\u001b[0m\n\u001b[0m\u001b[1;32m     39\u001b[0m \u001b[0;34m\u001b[0m\u001b[0m\n\u001b[1;32m     40\u001b[0m     \u001b[0;32mreturn\u001b[0m \u001b[0mwrapper\u001b[0m\u001b[0;34m\u001b[0m\u001b[0;34m\u001b[0m\u001b[0m\n",
            "\u001b[0;32m/usr/local/lib/python3.11/dist-packages/ee/__init__.py\u001b[0m in \u001b[0;36mInitialize\u001b[0;34m(credentials, url, cloud_api_key, http_transport, project)\u001b[0m\n\u001b[1;32m    198\u001b[0m   \u001b[0mempty_project_ok\u001b[0m \u001b[0;34m=\u001b[0m \u001b[0misinstance\u001b[0m\u001b[0;34m(\u001b[0m\u001b[0mcredentials\u001b[0m\u001b[0;34m,\u001b[0m \u001b[0mservice_account\u001b[0m\u001b[0;34m.\u001b[0m\u001b[0mCredentials\u001b[0m\u001b[0;34m)\u001b[0m\u001b[0;34m\u001b[0m\u001b[0;34m\u001b[0m\u001b[0m\n\u001b[1;32m    199\u001b[0m   \u001b[0;32mif\u001b[0m \u001b[0;32mnot\u001b[0m \u001b[0mis_valid_project\u001b[0m \u001b[0;32mand\u001b[0m \u001b[0;32mnot\u001b[0m \u001b[0mempty_project_ok\u001b[0m\u001b[0;34m:\u001b[0m\u001b[0;34m\u001b[0m\u001b[0;34m\u001b[0m\u001b[0m\n\u001b[0;32m--> 200\u001b[0;31m     \u001b[0;32mraise\u001b[0m \u001b[0mEEException\u001b[0m\u001b[0;34m(\u001b[0m\u001b[0mNO_PROJECT_EXCEPTION\u001b[0m\u001b[0;34m)\u001b[0m\u001b[0;34m\u001b[0m\u001b[0;34m\u001b[0m\u001b[0m\n\u001b[0m\u001b[1;32m    201\u001b[0m \u001b[0;34m\u001b[0m\u001b[0m\n\u001b[1;32m    202\u001b[0m   data.initialize(\n",
            "\u001b[0;31mEEException\u001b[0m: ee.Initialize: no project found. Call with project= or see http://goo.gle/ee-auth."
          ]
        }
      ],
      "source": [
        "def style_function(feature):\n",
        "    return {\n",
        "        'color': feature['properties']['color'],  # This sets the border color\n",
        "        'fillColor': feature['properties']['color'],  # This sets the fill color\n",
        "        'fillOpacity': 0.5,\n",
        "        'weight': 1,\n",
        "    }\n",
        "\n",
        "Map = geemap.Map(center=(55, 13), zoom=4)\n",
        "Map.add_gdf(fields, layer_name=\"Fields\",\n",
        "            style_callback=lambda x: {'fillColor': x['properties']['color']})\n",
        "Map.add_gdf(pixel_fields_gdf, layer_name=\"pixels\")\n",
        "\n",
        "Map"
      ]
    },
    {
      "cell_type": "markdown",
      "id": "22601a81-2db8-44f1-8828-233fbb81a63f",
      "metadata": {
        "id": "22601a81-2db8-44f1-8828-233fbb81a63f"
      },
      "source": [
        "### Process the pixels (Caclulate NDVIFilter pixels for clouds and convert the time stamp to Year, Month Day)"
      ]
    },
    {
      "cell_type": "code",
      "execution_count": null,
      "id": "f06fdc2e-759d-4cc7-b641-5178ade1c45f",
      "metadata": {
        "colab": {
          "base_uri": "https://localhost:8080/",
          "height": 17
        },
        "id": "f06fdc2e-759d-4cc7-b641-5178ade1c45f",
        "outputId": "3b94d02d-7524-4164-97b4-9fb157e69f39"
      },
      "outputs": [
        {
          "output_type": "display_data",
          "data": {
            "text/plain": [
              "<IPython.core.display.HTML object>"
            ],
            "text/html": [
              "\n",
              "            <style>\n",
              "                .geemap-dark {\n",
              "                    --jp-widgets-color: white;\n",
              "                    --jp-widgets-label-color: white;\n",
              "                    --jp-ui-font-color1: white;\n",
              "                    --jp-layout-color2: #454545;\n",
              "                    background-color: #383838;\n",
              "                }\n",
              "\n",
              "                .geemap-dark .jupyter-button {\n",
              "                    --jp-layout-color3: #383838;\n",
              "                }\n",
              "\n",
              "                .geemap-colab {\n",
              "                    background-color: var(--colab-primary-surface-color, white);\n",
              "                }\n",
              "\n",
              "                .geemap-colab .jupyter-button {\n",
              "                    --jp-layout-color3: var(--colab-primary-surface-color, white);\n",
              "                }\n",
              "            </style>\n",
              "            "
            ]
          },
          "metadata": {}
        }
      ],
      "source": [
        "#Process Time and NDVI\n",
        "all_pixels_df['time'] = pd.to_datetime(all_pixels_df['time'], unit='ms')\n",
        "\n",
        "# Extract year, month, and day to separate columns\n",
        "all_pixels_df['year'] = all_pixels_df['time'].dt.year\n",
        "all_pixels_df['month'] = all_pixels_df['time'].dt.month\n",
        "all_pixels_df['day'] = all_pixels_df['time'].dt.day\n",
        "\n",
        "# Calculate NDVI and add it as a new column\n",
        "all_pixels_df['NDVI'] = (all_pixels_df['B4'] - all_pixels_df['B3']) / (all_pixels_df['B4'] + all_pixels_df['B3'])\n",
        "\n",
        "# Handle potential division by zero or NaN values\n",
        "all_pixels_df['NDVI'] = all_pixels_df['NDVI'].replace([np.inf, -np.inf], np.nan)\n",
        "\n"
      ]
    },
    {
      "cell_type": "code",
      "execution_count": null,
      "id": "9d3e3fa5-9830-4ca3-9d5c-57ddf46fa151",
      "metadata": {
        "colab": {
          "base_uri": "https://localhost:8080/",
          "height": 17
        },
        "id": "9d3e3fa5-9830-4ca3-9d5c-57ddf46fa151",
        "outputId": "dca37c30-988d-48db-f639-bbeddbb82106"
      },
      "outputs": [
        {
          "output_type": "display_data",
          "data": {
            "text/plain": [
              "<IPython.core.display.HTML object>"
            ],
            "text/html": [
              "\n",
              "            <style>\n",
              "                .geemap-dark {\n",
              "                    --jp-widgets-color: white;\n",
              "                    --jp-widgets-label-color: white;\n",
              "                    --jp-ui-font-color1: white;\n",
              "                    --jp-layout-color2: #454545;\n",
              "                    background-color: #383838;\n",
              "                }\n",
              "\n",
              "                .geemap-dark .jupyter-button {\n",
              "                    --jp-layout-color3: #383838;\n",
              "                }\n",
              "\n",
              "                .geemap-colab {\n",
              "                    background-color: var(--colab-primary-surface-color, white);\n",
              "                }\n",
              "\n",
              "                .geemap-colab .jupyter-button {\n",
              "                    --jp-layout-color3: var(--colab-primary-surface-color, white);\n",
              "                }\n",
              "            </style>\n",
              "            "
            ]
          },
          "metadata": {}
        }
      ],
      "source": [
        "# Function to decode the QA_PIXEL column, modified to handle NaN values\n",
        "def decode_qa_pixel(value):\n",
        "    # Check if the value is NaN and return NaN for all attributes if true\n",
        "    if pd.isna(value):\n",
        "        return pd.Series([np.nan] * 11, index=[\n",
        "            'Fill', 'Dilated Cloud', 'Cloud', 'Cloud Shadow', 'Snow',\n",
        "            'Clear', 'Water', 'Cloud Confidence', 'Cloud Shadow Confidence',\n",
        "            'Snow/Ice Confidence', 'Cirrus Confidence'])\n",
        "\n",
        "    # Convert float to int and then to binary string, stripping the '0b' prefix\n",
        "    binary_str = format(int(value), '016b')\n",
        "\n",
        "    # Decode each bit based on the descriptions provided\n",
        "    attributes = {\n",
        "        'Fill': 'Fill data' if binary_str[-1] == '1' else 'Image data',\n",
        "        'Dilated Cloud': 'Cloud dilation' if binary_str[-2] == '1' else 'Cloud is not dilated or no cloud',\n",
        "        'Cloud': 'High confidence cloud' if binary_str[-4] == '1' else 'Cloud confidence is not high',\n",
        "        'Cloud Shadow': 'High confidence cloud shadow' if binary_str[-5] == '1' else ' Cloud Shadow Confidence is not high',\n",
        "        'Snow': 'High confidence snow cover' if binary_str[-6] == '1' else 'Snow/Ice Confidence is not high',\n",
        "        'Clear': 'Cloud and Dilated Cloud bits not set' if binary_str[-7] == '1' else 'Cloud or Dilated Cloud bits set',\n",
        "        'Water': 'Water' if binary_str[-8] == '1' else 'Land or cloud',\n",
        "        'Cloud Confidence': {\n",
        "            '00': 'No cloud confidence level set',\n",
        "            '01': 'Low cloud confidence',\n",
        "            '10': 'Medium cloud confidence',\n",
        "            '11': 'High cloud confidence',\n",
        "        }[binary_str[-10:-8]],\n",
        "        'Cloud Shadow Confidence': {\n",
        "            '00': 'No cloud shadow confidence level set',\n",
        "            '01': 'Low cloud shadow confidence',\n",
        "            '10': 'Reserved',\n",
        "            '11': 'High cloud shadow confidence',\n",
        "        }[binary_str[-12:-10]],\n",
        "        'Snow/Ice Confidence': {\n",
        "            '00': 'No snow/ice confidence level set',\n",
        "            '01': 'Low snow/ice confidence',\n",
        "            '10': 'Reserved',\n",
        "            '11': 'High snow/ice confidence',\n",
        "        }[binary_str[-14:-12]],\n",
        "        'Cirrus Confidence': {\n",
        "            '00': 'No cirrus confidence level set',\n",
        "            '01': 'Low cirrus confidence',\n",
        "            '10': 'Reserved',\n",
        "            '11': 'High cirrus confidence',\n",
        "        }[binary_str[-16:-14]],\n",
        "    }\n",
        "\n",
        "    return pd.Series(attributes)\n",
        "\n",
        "# Apply the decode function to the QA_PIXEL column and assign the result to new columns\n",
        "new_columns = all_pixels_df['QA_PIXEL'].apply(decode_qa_pixel)\n",
        "all_pixels_df = pd.concat([all_pixels_df, new_columns], axis=1)\n",
        "\n"
      ]
    },
    {
      "cell_type": "markdown",
      "id": "122d5662-b718-4182-af01-440c6d542076",
      "metadata": {
        "id": "122d5662-b718-4182-af01-440c6d542076"
      },
      "source": [
        "### Join filed/treatment data to the pixels\n"
      ]
    },
    {
      "cell_type": "code",
      "execution_count": null,
      "id": "0d6b4118-8e6c-4088-be4d-069d720a9dd7",
      "metadata": {
        "colab": {
          "base_uri": "https://localhost:8080/",
          "height": 17
        },
        "id": "0d6b4118-8e6c-4088-be4d-069d720a9dd7",
        "outputId": "59f109c9-d7c8-41db-ace6-9ac285f8e101"
      },
      "outputs": [
        {
          "output_type": "display_data",
          "data": {
            "text/plain": [
              "<IPython.core.display.HTML object>"
            ],
            "text/html": [
              "\n",
              "            <style>\n",
              "                .geemap-dark {\n",
              "                    --jp-widgets-color: white;\n",
              "                    --jp-widgets-label-color: white;\n",
              "                    --jp-ui-font-color1: white;\n",
              "                    --jp-layout-color2: #454545;\n",
              "                    background-color: #383838;\n",
              "                }\n",
              "\n",
              "                .geemap-dark .jupyter-button {\n",
              "                    --jp-layout-color3: #383838;\n",
              "                }\n",
              "\n",
              "                .geemap-colab {\n",
              "                    background-color: var(--colab-primary-surface-color, white);\n",
              "                }\n",
              "\n",
              "                .geemap-colab .jupyter-button {\n",
              "                    --jp-layout-color3: var(--colab-primary-surface-color, white);\n",
              "                }\n",
              "            </style>\n",
              "            "
            ]
          },
          "metadata": {}
        }
      ],
      "source": [
        "merged_df = pd.merge(all_pixels_df, pixel_fields_gdf[['longitude', 'latitude', 'pair', 'tillage']], on=['longitude', 'latitude'], how='left')"
      ]
    },
    {
      "cell_type": "markdown",
      "id": "9b6d256b-f349-4ef1-b2c7-0040f6d70f49",
      "metadata": {
        "id": "9b6d256b-f349-4ef1-b2c7-0040f6d70f49"
      },
      "source": [
        "### Filter pixels for clouds"
      ]
    },
    {
      "cell_type": "code",
      "execution_count": null,
      "id": "f04406f8-48e3-491a-82d9-da095cf82103",
      "metadata": {
        "colab": {
          "base_uri": "https://localhost:8080/",
          "height": 17
        },
        "id": "f04406f8-48e3-491a-82d9-da095cf82103",
        "outputId": "fd2a029b-539e-4f14-f239-f65f68928cb5"
      },
      "outputs": [
        {
          "output_type": "display_data",
          "data": {
            "text/plain": [
              "<IPython.core.display.HTML object>"
            ],
            "text/html": [
              "\n",
              "            <style>\n",
              "                .geemap-dark {\n",
              "                    --jp-widgets-color: white;\n",
              "                    --jp-widgets-label-color: white;\n",
              "                    --jp-ui-font-color1: white;\n",
              "                    --jp-layout-color2: #454545;\n",
              "                    background-color: #383838;\n",
              "                }\n",
              "\n",
              "                .geemap-dark .jupyter-button {\n",
              "                    --jp-layout-color3: #383838;\n",
              "                }\n",
              "\n",
              "                .geemap-colab {\n",
              "                    background-color: var(--colab-primary-surface-color, white);\n",
              "                }\n",
              "\n",
              "                .geemap-colab .jupyter-button {\n",
              "                    --jp-layout-color3: var(--colab-primary-surface-color, white);\n",
              "                }\n",
              "            </style>\n",
              "            "
            ]
          },
          "metadata": {}
        }
      ],
      "source": [
        "filtered_df = merged_df[merged_df['Clear'] == \"Cloud and Dilated Cloud bits not set\"]"
      ]
    },
    {
      "cell_type": "code",
      "source": [
        "merged_df.to_csv(\"/content/drive/MyDrive/Conservation_agri/pixl_data.csv\", index=False)"
      ],
      "metadata": {
        "colab": {
          "base_uri": "https://localhost:8080/",
          "height": 144
        },
        "id": "MrC9yWW9J4_c",
        "outputId": "1a4983af-5802-4d58-de3a-7ff1a2b42f6d"
      },
      "id": "MrC9yWW9J4_c",
      "execution_count": 2,
      "outputs": [
        {
          "output_type": "display_data",
          "data": {
            "text/plain": [
              "<IPython.core.display.HTML object>"
            ],
            "text/html": [
              "\n",
              "            <style>\n",
              "                .geemap-dark {\n",
              "                    --jp-widgets-color: white;\n",
              "                    --jp-widgets-label-color: white;\n",
              "                    --jp-ui-font-color1: white;\n",
              "                    --jp-layout-color2: #454545;\n",
              "                    background-color: #383838;\n",
              "                }\n",
              "\n",
              "                .geemap-dark .jupyter-button {\n",
              "                    --jp-layout-color3: #383838;\n",
              "                }\n",
              "\n",
              "                .geemap-colab {\n",
              "                    background-color: var(--colab-primary-surface-color, white);\n",
              "                }\n",
              "\n",
              "                .geemap-colab .jupyter-button {\n",
              "                    --jp-layout-color3: var(--colab-primary-surface-color, white);\n",
              "                }\n",
              "            </style>\n",
              "            "
            ]
          },
          "metadata": {}
        },
        {
          "output_type": "error",
          "ename": "NameError",
          "evalue": "name 'merged_df' is not defined",
          "traceback": [
            "\u001b[0;31m---------------------------------------------------------------------------\u001b[0m",
            "\u001b[0;31mNameError\u001b[0m                                 Traceback (most recent call last)",
            "\u001b[0;32m/tmp/ipython-input-2302167675.py\u001b[0m in \u001b[0;36m<cell line: 0>\u001b[0;34m()\u001b[0m\n\u001b[0;32m----> 1\u001b[0;31m \u001b[0mmerged_df\u001b[0m\u001b[0;34m.\u001b[0m\u001b[0mto_csv\u001b[0m\u001b[0;34m(\u001b[0m\u001b[0;34m\"/content/drive/MyDrive/Conservation_agri/pixl_data.csv\"\u001b[0m\u001b[0;34m,\u001b[0m \u001b[0mindex\u001b[0m\u001b[0;34m=\u001b[0m\u001b[0;32mFalse\u001b[0m\u001b[0;34m)\u001b[0m\u001b[0;34m\u001b[0m\u001b[0;34m\u001b[0m\u001b[0m\n\u001b[0m",
            "\u001b[0;31mNameError\u001b[0m: name 'merged_df' is not defined"
          ]
        }
      ]
    },
    {
      "cell_type": "code",
      "source": [
        "from google.colab import drive\n",
        "drive.mount('/content/drive')"
      ],
      "metadata": {
        "colab": {
          "base_uri": "https://localhost:8080/",
          "height": 35
        },
        "id": "ROD3OsM-47lX",
        "outputId": "a2785ea2-b779-45d9-fb8c-3ed1196232a4"
      },
      "id": "ROD3OsM-47lX",
      "execution_count": 3,
      "outputs": [
        {
          "output_type": "display_data",
          "data": {
            "text/plain": [
              "<IPython.core.display.HTML object>"
            ],
            "text/html": [
              "\n",
              "            <style>\n",
              "                .geemap-dark {\n",
              "                    --jp-widgets-color: white;\n",
              "                    --jp-widgets-label-color: white;\n",
              "                    --jp-ui-font-color1: white;\n",
              "                    --jp-layout-color2: #454545;\n",
              "                    background-color: #383838;\n",
              "                }\n",
              "\n",
              "                .geemap-dark .jupyter-button {\n",
              "                    --jp-layout-color3: #383838;\n",
              "                }\n",
              "\n",
              "                .geemap-colab {\n",
              "                    background-color: var(--colab-primary-surface-color, white);\n",
              "                }\n",
              "\n",
              "                .geemap-colab .jupyter-button {\n",
              "                    --jp-layout-color3: var(--colab-primary-surface-color, white);\n",
              "                }\n",
              "            </style>\n",
              "            "
            ]
          },
          "metadata": {}
        },
        {
          "output_type": "stream",
          "name": "stdout",
          "text": [
            "Drive already mounted at /content/drive; to attempt to forcibly remount, call drive.mount(\"/content/drive\", force_remount=True).\n"
          ]
        }
      ]
    },
    {
      "cell_type": "code",
      "execution_count": 37,
      "id": "ff9903ba-3761-43b9-b1a9-eed6b1a2ac13",
      "metadata": {
        "colab": {
          "base_uri": "https://localhost:8080/",
          "height": 17
        },
        "id": "ff9903ba-3761-43b9-b1a9-eed6b1a2ac13",
        "outputId": "6b1c5d58-04be-4f33-c711-2a0316ce4d91"
      },
      "outputs": [
        {
          "output_type": "display_data",
          "data": {
            "text/plain": [
              "<IPython.core.display.HTML object>"
            ],
            "text/html": [
              "\n",
              "            <style>\n",
              "                .geemap-dark {\n",
              "                    --jp-widgets-color: white;\n",
              "                    --jp-widgets-label-color: white;\n",
              "                    --jp-ui-font-color1: white;\n",
              "                    --jp-layout-color2: #454545;\n",
              "                    background-color: #383838;\n",
              "                }\n",
              "\n",
              "                .geemap-dark .jupyter-button {\n",
              "                    --jp-layout-color3: #383838;\n",
              "                }\n",
              "\n",
              "                .geemap-colab {\n",
              "                    background-color: var(--colab-primary-surface-color, white);\n",
              "                }\n",
              "\n",
              "                .geemap-colab .jupyter-button {\n",
              "                    --jp-layout-color3: var(--colab-primary-surface-color, white);\n",
              "                }\n",
              "            </style>\n",
              "            "
            ]
          },
          "metadata": {}
        }
      ],
      "source": [
        "filtered_df.to_excel(\"/content/drive/MyDrive/Conservation_agri/pixler.xlsx\", index=False)"
      ]
    },
    {
      "cell_type": "markdown",
      "source": [
        "## If you just need the plots"
      ],
      "metadata": {
        "id": "LduusyamZl6a"
      },
      "id": "LduusyamZl6a"
    },
    {
      "cell_type": "code",
      "metadata": {
        "colab": {
          "base_uri": "https://localhost:8080/",
          "height": 17
        },
        "id": "7a7c0805",
        "outputId": "41c3c250-b639-43ff-b56a-e6b2be1a14c7"
      },
      "source": [
        "filtered_df = pd.read_excel(\"/content/drive/MyDrive/Conservation_agri/pixler.xlsx\")"
      ],
      "id": "7a7c0805",
      "execution_count": 2,
      "outputs": [
        {
          "output_type": "display_data",
          "data": {
            "text/plain": [
              "<IPython.core.display.HTML object>"
            ],
            "text/html": [
              "\n",
              "            <style>\n",
              "                .geemap-dark {\n",
              "                    --jp-widgets-color: white;\n",
              "                    --jp-widgets-label-color: white;\n",
              "                    --jp-ui-font-color1: white;\n",
              "                    --jp-layout-color2: #454545;\n",
              "                    background-color: #383838;\n",
              "                }\n",
              "\n",
              "                .geemap-dark .jupyter-button {\n",
              "                    --jp-layout-color3: #383838;\n",
              "                }\n",
              "\n",
              "                .geemap-colab {\n",
              "                    background-color: var(--colab-primary-surface-color, white);\n",
              "                }\n",
              "\n",
              "                .geemap-colab .jupyter-button {\n",
              "                    --jp-layout-color3: var(--colab-primary-surface-color, white);\n",
              "                }\n",
              "            </style>\n",
              "            "
            ]
          },
          "metadata": {}
        }
      ]
    },
    {
      "cell_type": "markdown",
      "source": [
        "## Start plotting"
      ],
      "metadata": {
        "id": "6leYyOgtJDta"
      },
      "id": "6leYyOgtJDta"
    },
    {
      "cell_type": "markdown",
      "source": [
        "Add climat referance value"
      ],
      "metadata": {
        "id": "BiwgNgBaEpLo"
      },
      "id": "BiwgNgBaEpLo"
    },
    {
      "cell_type": "code",
      "source": [
        "# Data preparation\n",
        "climat_data = {\n",
        "    \"Month\": [\"Jan\", \"Feb\", \"Mar\", \"Apr\", \"May\", \"Jun\", \"Jul\", \"Aug\", \"Sep\", \"Oct\", \"Nov\", \"Dec\"],\n",
        "    \"Average of Maximum Temperature\": [3.8, 4, 6.9, 11.6, 16.1, 19.1, 21.1, 21.2, 17.5, 12.8, 8.3, 6],\n",
        "    \"Average Temperature\": [1.9, 1.8, 3.7, 7.4, 11.7, 14.9, 16.7, 16.8, 13.9, 10.1, 6.3, 4.2],\n",
        "    \"Average of Minimum Temperature\": [-0.3, -0.6, 0.8, 3.4, 7.3, 10.6, 12.3, 12.7, 10.4, 7.4, 3.9, 2],\n",
        "    \"Total Precipitation\": [66, 49.3, 43.1, 37.7, 47.4, 66.9, 69.5, 86.1, 82.6, 84.5, 67.4, 81.2]\n",
        "}"
      ],
      "metadata": {
        "colab": {
          "base_uri": "https://localhost:8080/",
          "height": 17
        },
        "id": "9joDmPMCEoeT",
        "outputId": "777aa722-4385-4b67-ded8-060c18ede539"
      },
      "id": "9joDmPMCEoeT",
      "execution_count": 4,
      "outputs": [
        {
          "output_type": "display_data",
          "data": {
            "text/plain": [
              "<IPython.core.display.HTML object>"
            ],
            "text/html": [
              "\n",
              "            <style>\n",
              "                .geemap-dark {\n",
              "                    --jp-widgets-color: white;\n",
              "                    --jp-widgets-label-color: white;\n",
              "                    --jp-ui-font-color1: white;\n",
              "                    --jp-layout-color2: #454545;\n",
              "                    background-color: #383838;\n",
              "                }\n",
              "\n",
              "                .geemap-dark .jupyter-button {\n",
              "                    --jp-layout-color3: #383838;\n",
              "                }\n",
              "\n",
              "                .geemap-colab {\n",
              "                    background-color: var(--colab-primary-surface-color, white);\n",
              "                }\n",
              "\n",
              "                .geemap-colab .jupyter-button {\n",
              "                    --jp-layout-color3: var(--colab-primary-surface-color, white);\n",
              "                }\n",
              "            </style>\n",
              "            "
            ]
          },
          "metadata": {}
        }
      ]
    },
    {
      "cell_type": "code",
      "source": [
        "\n",
        "# --- ANOVA to test differences between groups (This part remains the same) ---\n",
        "anova_series = filtered_df.groupby(['month']).apply(\n",
        "    lambda x: stats.f_oneway(x[x['tillage'] == 'MT']['NDVI'], x[x['tillage'] == 'CT']['NDVI'])\n",
        ")\n",
        "anova_results = pd.DataFrame(anova_series.tolist(), index=anova_series.index, columns=['F-Statistic', 'p-Value'])\n",
        "anova_results['Significant'] = anova_results['p-Value'] < 0.05\n",
        "\n",
        "print(\"ANOVA Results:\")\n",
        "print(anova_results)\n",
        "\n",
        "\n",
        "\n",
        "\n",
        "# 1. Use .agg() to get the mean, count (n), and standard deviation for each group.\n",
        "summary_stats = filtered_df.groupby(['month', 'tillage'])['NDVI'].agg(\n",
        "    Mean='mean',\n",
        "    Count='count',  # 'count' provides the number of observations (n)\n",
        "    Std_Dev='std'\n",
        ").reset_index()\n",
        "\n",
        "# 2. Calculate the Standard Error of the Mean (SEM).\n",
        "# SEM = Standard Deviation / sqrt(Number of Observations)\n",
        "summary_stats['Std_Error'] = summary_stats['Std_Dev'] / np.sqrt(summary_stats['Count'])\n",
        "\n",
        "# 3. Calculate the 95% confidence interval bounds.\n",
        "# The z-score for 95% confidence is ~1.96. stats.norm.ppf(0.975) gives the precise value.\n",
        "z_score = stats.norm.ppf(0.975)\n",
        "summary_stats['CI_Lower'] = summary_stats['Mean'] - z_score * summary_stats['Std_Error']\n",
        "summary_stats['CI_Upper'] = summary_stats['Mean'] + z_score * summary_stats['Std_Error']\n",
        "\n",
        "\n",
        "# 4. Display the final, comprehensive table.\n",
        "print(\"\\nSummary Statistics and Confidence Intervals:\")\n",
        "# We select the columns we care most about for the final printout.\n",
        "print(summary_stats[['month', 'tillage', 'Mean', 'Count', 'CI_Lower', 'CI_Upper']])"
      ],
      "metadata": {
        "id": "ULmnK_2bYi9X",
        "outputId": "12749cc9-8935-49b5-fc17-ede11dbcbd25",
        "colab": {
          "base_uri": "https://localhost:8080/",
          "height": 716
        }
      },
      "id": "ULmnK_2bYi9X",
      "execution_count": 5,
      "outputs": [
        {
          "output_type": "display_data",
          "data": {
            "text/plain": [
              "<IPython.core.display.HTML object>"
            ],
            "text/html": [
              "\n",
              "            <style>\n",
              "                .geemap-dark {\n",
              "                    --jp-widgets-color: white;\n",
              "                    --jp-widgets-label-color: white;\n",
              "                    --jp-ui-font-color1: white;\n",
              "                    --jp-layout-color2: #454545;\n",
              "                    background-color: #383838;\n",
              "                }\n",
              "\n",
              "                .geemap-dark .jupyter-button {\n",
              "                    --jp-layout-color3: #383838;\n",
              "                }\n",
              "\n",
              "                .geemap-colab {\n",
              "                    background-color: var(--colab-primary-surface-color, white);\n",
              "                }\n",
              "\n",
              "                .geemap-colab .jupyter-button {\n",
              "                    --jp-layout-color3: var(--colab-primary-surface-color, white);\n",
              "                }\n",
              "            </style>\n",
              "            "
            ]
          },
          "metadata": {}
        },
        {
          "output_type": "stream",
          "name": "stdout",
          "text": [
            "ANOVA Results:\n",
            "       F-Statistic       p-Value  Significant\n",
            "month                                        \n",
            "2         2.600094  1.072764e-01        False\n",
            "3        45.648983  1.887977e-11         True\n",
            "4        46.982424  9.501919e-12         True\n",
            "5         7.809740  5.228945e-03         True\n",
            "6        80.200740  6.355013e-19         True\n",
            "7         1.561691  2.114905e-01        False\n",
            "8        45.105553  2.224434e-11         True\n",
            "9         2.723922  9.901826e-02        False\n",
            "10       39.922835  3.272754e-10         True\n",
            "11        9.909460  1.801685e-03         True\n",
            "\n",
            "Summary Statistics and Confidence Intervals:\n",
            "    month tillage      Mean  Count  CI_Lower  CI_Upper\n",
            "0       2      CT  0.329519    291  0.313797  0.345242\n",
            "1       2      MT  0.315630    464  0.306600  0.324661\n",
            "2       3      CT  0.376576    827  0.365653  0.387499\n",
            "3       3      MT  0.331621   1028  0.323900  0.339342\n",
            "4       4      CT  0.360876    842  0.348780  0.372972\n",
            "5       4      MT  0.418942   1164  0.407858  0.430026\n",
            "6       5      CT  0.536854   1345  0.524424  0.549284\n",
            "7       5      MT  0.559936   1714  0.549424  0.570448\n",
            "8       6      CT  0.688108   1106  0.676937  0.699279\n",
            "9       6      MT  0.740007   1456  0.734908  0.745106\n",
            "10      7      CT  0.556483   1734  0.548188  0.564778\n",
            "11      7      MT  0.563775   2290  0.556056  0.571493\n",
            "12      8      CT  0.277783   1256  0.270513  0.285053\n",
            "13      8      MT  0.245417   1747  0.239348  0.251485\n",
            "14      9      CT  0.267552    849  0.258496  0.276607\n",
            "15      9      MT  0.280355   1075  0.268891  0.291819\n",
            "16     10      CT  0.325369    858  0.316472  0.334265\n",
            "17     10      MT  0.377937   1071  0.365201  0.390673\n",
            "18     11      CT  0.427295    147  0.398165  0.456425\n",
            "19     11      MT  0.488389    170  0.463555  0.513224\n"
          ]
        },
        {
          "output_type": "stream",
          "name": "stderr",
          "text": [
            "/tmp/ipython-input-3023922054.py:2: DeprecationWarning: DataFrameGroupBy.apply operated on the grouping columns. This behavior is deprecated, and in a future version of pandas the grouping columns will be excluded from the operation. Either pass `include_groups=False` to exclude the groupings or explicitly select the grouping columns after groupby to silence this warning.\n",
            "  anova_series = filtered_df.groupby(['month']).apply(\n"
          ]
        }
      ]
    },
    {
      "cell_type": "code",
      "source": [
        "\n",
        "fig, ax = plt.subplots(figsize=(12, 10))\n",
        "box_plot = sns.boxplot(x='month', y='NDVI', hue='tillage', data=filtered_df, palette=['white', 'white'])\n",
        "plt.title('NDVI by Month and Tillage Regime')\n",
        "hue_order = box_plot.get_legend_handles_labels()[1]\n",
        "num_months = len(filtered_df['month'].unique())\n",
        "month_names = {2: \"Feb\", 3: \"Mar\", 4: \"Apr\", 5: \"May\", 6: \"Jun\",\n",
        "               7: \"Jul\", 8: \"Aug\", 9: \"Sep\", 10: \"Oct\", 11: \"Nov\"}\n",
        "box_plot.set_xticklabels([month_names[int(tick.get_text())] for tick in box_plot.get_xticklabels()])\n",
        "\n",
        "for i, patch in enumerate(box_plot.patches):\n",
        "    hue_index = (i // num_months) % len(hue_order)\n",
        "    tillage_type = hue_order[hue_index]\n",
        "    if tillage_type == 'MT':\n",
        "        patch.set_hatch('///')\n",
        "        patch.set_edgecolor('black')\n",
        "    else:\n",
        "        patch.set_edgecolor('black')\n",
        "box_plot.legend_.remove()\n",
        "\n",
        "\n",
        "# 1. Prepare the data for all three table rows\n",
        "p_values = ['{:.2e}'.format(p) for p in anova_results['p-Value']]\n",
        "\n",
        "# Create the NEW row for Mean values, formatted to 3 decimal places\n",
        "mean_values = []\n",
        "sorted_months = sorted(filtered_df['month'].unique())\n",
        "for month in sorted_months:\n",
        "    ct_mean = summary_stats.loc[(summary_stats['month'] == month) & (summary_stats['tillage'] == 'CT'), 'Mean'].iloc[0]\n",
        "    mt_mean = summary_stats.loc[(summary_stats['month'] == month) & (summary_stats['tillage'] == 'MT'), 'Mean'].iloc[0]\n",
        "    mean_values.append(f\"CT: {ct_mean:.3f}\\nMT: {mt_mean:.3f}\")\n",
        "\n",
        "# Create the row for the number of observations (N)\n",
        "n_counts = []\n",
        "for month in sorted_months:\n",
        "    ct_count = summary_stats.loc[(summary_stats['month'] == month) & (summary_stats['tillage'] == 'CT'), 'Count'].iloc[0]\n",
        "    mt_count = summary_stats.loc[(summary_stats['month'] == month) & (summary_stats['tillage'] == 'MT'), 'Count'].iloc[0]\n",
        "    n_counts.append(f\"CT: {ct_count}\\nMT: {mt_count}\")\n",
        "\n",
        "# 2. Update the cellText and rowLabels to use the new Mean row\n",
        "table_data = [mean_values, p_values, n_counts]\n",
        "row_labels = ['Mean (CT/MT)', 'p-Value', 'N (CT/MT)']\n",
        "\n",
        "# 3. Add the table with the updated rows\n",
        "the_table = ax.table(cellText=table_data,\n",
        "                     rowLabels=row_labels,\n",
        "                     loc='bottom',\n",
        "                     bbox=[0.0, -0.45, 1.0, 0.3])\n",
        "\n",
        "# 4. Adjust font size and row height\n",
        "the_table.auto_set_font_size(False)\n",
        "the_table.set_fontsize(9)\n",
        "the_table.scale(1, 1.0)\n",
        "\n",
        "# 5. Adjust overall plot layout to make space for the table\n",
        "plt.subplots_adjust(bottom=0.3)\n",
        "\n",
        "# Show and save the plot\n",
        "plt.show()\n",
        "fig.savefig('till_NDVI.png', dpi=300, bbox_inches='tight')"
      ],
      "metadata": {
        "id": "g_naHfna6sGB",
        "outputId": "5a61b1ba-196a-4837-8df1-550e5ae07756",
        "colab": {
          "base_uri": "https://localhost:8080/",
          "height": 936
        }
      },
      "id": "g_naHfna6sGB",
      "execution_count": 8,
      "outputs": [
        {
          "output_type": "display_data",
          "data": {
            "text/plain": [
              "<IPython.core.display.HTML object>"
            ],
            "text/html": [
              "\n",
              "            <style>\n",
              "                .geemap-dark {\n",
              "                    --jp-widgets-color: white;\n",
              "                    --jp-widgets-label-color: white;\n",
              "                    --jp-ui-font-color1: white;\n",
              "                    --jp-layout-color2: #454545;\n",
              "                    background-color: #383838;\n",
              "                }\n",
              "\n",
              "                .geemap-dark .jupyter-button {\n",
              "                    --jp-layout-color3: #383838;\n",
              "                }\n",
              "\n",
              "                .geemap-colab {\n",
              "                    background-color: var(--colab-primary-surface-color, white);\n",
              "                }\n",
              "\n",
              "                .geemap-colab .jupyter-button {\n",
              "                    --jp-layout-color3: var(--colab-primary-surface-color, white);\n",
              "                }\n",
              "            </style>\n",
              "            "
            ]
          },
          "metadata": {}
        },
        {
          "output_type": "stream",
          "name": "stderr",
          "text": [
            "/tmp/ipython-input-3976450987.py:8: UserWarning: set_ticklabels() should only be used with a fixed number of ticks, i.e. after set_ticks() or using a FixedLocator.\n",
            "  box_plot.set_xticklabels([month_names[int(tick.get_text())] for tick in box_plot.get_xticklabels()])\n"
          ]
        },
        {
          "output_type": "display_data",
          "data": {
            "text/plain": [
              "<Figure size 1200x1000 with 1 Axes>"
            ],
            "image/png": "[encoded data removed]"
          },
          "metadata": {}
        }
      ]
    },
    {
      "cell_type": "code",
      "source": [
        "df = pd.DataFrame(climat_data)\n",
        "\n",
        "# Plotting\n",
        "fig, ax1 = plt.subplots(figsize=(14, 7))\n",
        "\n",
        "# Temperature plot (line)\n",
        "ax1.set_xlabel('Month')\n",
        "ax1.set_ylabel('Temperature (°C)')\n",
        "ax1.plot(df['Month'], df['Average of Maximum Temperature'], linestyle='--', linewidth=2, label='Avg of Max Temp', marker='o')\n",
        "ax1.plot(df['Month'], df['Average Temperature'], linestyle='-', linewidth=2, label='Avg Temp', marker='v')\n",
        "ax1.plot(df['Month'], df['Average of Minimum Temperature'], color=\"black\", linestyle='-.', linewidth=2, label='Avg of Min Temp', marker='s')\n",
        "ax1.tick_params(axis='y')\n",
        "#ax1.legend(loc='upper left')\n",
        "\n",
        "# Precipitation plot (bar) using twin axis\n",
        "ax2 = ax1.twinx()\n",
        "ax2.set_ylabel('Total Precipitation (mm)')\n",
        "ax2.bar(df['Month'], df['Total Precipitation'], color='grey', label='Total Precipitation', alpha=0.6)\n",
        "ax2.tick_params(axis='y')\n",
        "#ax2.legend(loc='upper right')\n",
        "\n",
        "# Title\n",
        "plt.title('Monthly Climate Data: Temperature and Precipitation')\n",
        "\n",
        "plt.show()\n",
        "\n",
        "# Save the plot in high resolution\n",
        "fig.savefig('climate_data_plot.png', dpi=300, bbox_inches='tight')"
      ],
      "metadata": {
        "colab": {
          "base_uri": "https://localhost:8080/",
          "height": 641
        },
        "id": "GethDDJI3Rgf",
        "outputId": "d07e8405-35c4-4d40-989f-4423f0ba626a"
      },
      "id": "GethDDJI3Rgf",
      "execution_count": 9,
      "outputs": [
        {
          "output_type": "display_data",
          "data": {
            "text/plain": [
              "<IPython.core.display.HTML object>"
            ],
            "text/html": [
              "\n",
              "            <style>\n",
              "                .geemap-dark {\n",
              "                    --jp-widgets-color: white;\n",
              "                    --jp-widgets-label-color: white;\n",
              "                    --jp-ui-font-color1: white;\n",
              "                    --jp-layout-color2: #454545;\n",
              "                    background-color: #383838;\n",
              "                }\n",
              "\n",
              "                .geemap-dark .jupyter-button {\n",
              "                    --jp-layout-color3: #383838;\n",
              "                }\n",
              "\n",
              "                .geemap-colab {\n",
              "                    background-color: var(--colab-primary-surface-color, white);\n",
              "                }\n",
              "\n",
              "                .geemap-colab .jupyter-button {\n",
              "                    --jp-layout-color3: var(--colab-primary-surface-color, white);\n",
              "                }\n",
              "            </style>\n",
              "            "
            ]
          },
          "metadata": {}
        },
        {
          "output_type": "display_data",
          "data": {
            "text/plain": [
              "<Figure size 1400x700 with 2 Axes>"
            ],
            "image/png": "[encoded data removed]"
          },
          "metadata": {}
        }
      ]
    }
  ],
  "metadata": {
    "kernelspec": {
      "display_name": "Python 3 (ipykernel)",
      "language": "python",
      "name": "python3"
    },
    "language_info": {
      "codemirror_mode": {
        "name": "ipython",
        "version": 3
      },
      "file_extension": ".py",
      "mimetype": "text/x-python",
      "name": "python",
      "nbconvert_exporter": "python",
      "pygments_lexer": "ipython3",
      "version": "3.11.8"
    },
    "colab": {
      "provenance": [],
      "include_colab_link": true
    },
    "widgets": {
      "application/vnd.jupyter.widget-state+json": {}
    }
  },
  "nbformat": 4,
  "nbformat_minor": 5
}